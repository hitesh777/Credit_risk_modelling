{
  "nbformat": 4,
  "nbformat_minor": 0,
  "metadata": {
    "colab": {
      "name": "mncorp.ipynb",
      "provenance": [],
      "collapsed_sections": []
    },
    "kernelspec": {
      "display_name": "Python 3",
      "name": "python3"
    },
    "language_info": {
      "name": "python"
    }
  },
  "cells": [
    {
      "cell_type": "code",
      "metadata": {
        "id": "UnOM6NbKL8pL"
      },
      "source": [
        "import pandas as pd\n",
        "import numpy as np\n"
      ],
      "execution_count": null,
      "outputs": []
    },
    {
      "cell_type": "code",
      "metadata": {
        "id": "NWiewByiNc4S"
      },
      "source": [
        "df  = pd.read_csv(r\"/content/drive/MyDrive/mncorp/joint_data.csv\")"
      ],
      "execution_count": null,
      "outputs": []
    },
    {
      "cell_type": "code",
      "metadata": {
        "colab": {
          "base_uri": "https://localhost:8080/",
          "height": 241
        },
        "id": "y0QeChJlMawN",
        "outputId": "5a658550-4d99-442a-a38d-d6731ee77213"
      },
      "source": [
        "df.head(5)"
      ],
      "execution_count": null,
      "outputs": [
        {
          "output_type": "execute_result",
          "data": {
            "text/html": [
              "<div>\n",
              "<style scoped>\n",
              "    .dataframe tbody tr th:only-of-type {\n",
              "        vertical-align: middle;\n",
              "    }\n",
              "\n",
              "    .dataframe tbody tr th {\n",
              "        vertical-align: top;\n",
              "    }\n",
              "\n",
              "    .dataframe thead th {\n",
              "        text-align: right;\n",
              "    }\n",
              "</style>\n",
              "<table border=\"1\" class=\"dataframe\">\n",
              "  <thead>\n",
              "    <tr style=\"text-align: right;\">\n",
              "      <th></th>\n",
              "      <th>Unnamed: 0</th>\n",
              "      <th>Age</th>\n",
              "      <th>Sex</th>\n",
              "      <th>Job</th>\n",
              "      <th>Housing</th>\n",
              "      <th>Saving accounts</th>\n",
              "      <th>Checking account</th>\n",
              "      <th>Credit amount</th>\n",
              "      <th>Duration</th>\n",
              "      <th>Purpose</th>\n",
              "      <th>class</th>\n",
              "      <th>pred_scores</th>\n",
              "      <th>cred_scores</th>\n",
              "    </tr>\n",
              "  </thead>\n",
              "  <tbody>\n",
              "    <tr>\n",
              "      <th>0</th>\n",
              "      <td>0</td>\n",
              "      <td>67</td>\n",
              "      <td>male</td>\n",
              "      <td>2</td>\n",
              "      <td>own</td>\n",
              "      <td>little</td>\n",
              "      <td>little</td>\n",
              "      <td>1169</td>\n",
              "      <td>6</td>\n",
              "      <td>radio/TV</td>\n",
              "      <td>0</td>\n",
              "      <td>0.992690</td>\n",
              "      <td>68.0</td>\n",
              "    </tr>\n",
              "    <tr>\n",
              "      <th>1</th>\n",
              "      <td>1</td>\n",
              "      <td>22</td>\n",
              "      <td>female</td>\n",
              "      <td>2</td>\n",
              "      <td>own</td>\n",
              "      <td>little</td>\n",
              "      <td>moderate</td>\n",
              "      <td>5951</td>\n",
              "      <td>48</td>\n",
              "      <td>radio/TV</td>\n",
              "      <td>0</td>\n",
              "      <td>0.532496</td>\n",
              "      <td>58.0</td>\n",
              "    </tr>\n",
              "    <tr>\n",
              "      <th>2</th>\n",
              "      <td>2</td>\n",
              "      <td>49</td>\n",
              "      <td>male</td>\n",
              "      <td>1</td>\n",
              "      <td>own</td>\n",
              "      <td>little</td>\n",
              "      <td>little</td>\n",
              "      <td>2096</td>\n",
              "      <td>12</td>\n",
              "      <td>education</td>\n",
              "      <td>0</td>\n",
              "      <td>0.895028</td>\n",
              "      <td>68.0</td>\n",
              "    </tr>\n",
              "    <tr>\n",
              "      <th>3</th>\n",
              "      <td>3</td>\n",
              "      <td>45</td>\n",
              "      <td>male</td>\n",
              "      <td>2</td>\n",
              "      <td>free</td>\n",
              "      <td>little</td>\n",
              "      <td>little</td>\n",
              "      <td>7882</td>\n",
              "      <td>42</td>\n",
              "      <td>furniture/equipment</td>\n",
              "      <td>0</td>\n",
              "      <td>0.993368</td>\n",
              "      <td>55.0</td>\n",
              "    </tr>\n",
              "    <tr>\n",
              "      <th>4</th>\n",
              "      <td>4</td>\n",
              "      <td>53</td>\n",
              "      <td>male</td>\n",
              "      <td>2</td>\n",
              "      <td>free</td>\n",
              "      <td>little</td>\n",
              "      <td>little</td>\n",
              "      <td>4870</td>\n",
              "      <td>24</td>\n",
              "      <td>car</td>\n",
              "      <td>0</td>\n",
              "      <td>0.009796</td>\n",
              "      <td>65.0</td>\n",
              "    </tr>\n",
              "  </tbody>\n",
              "</table>\n",
              "</div>"
            ],
            "text/plain": [
              "   Unnamed: 0  Age     Sex  ...  class pred_scores cred_scores\n",
              "0           0   67    male  ...      0    0.992690        68.0\n",
              "1           1   22  female  ...      0    0.532496        58.0\n",
              "2           2   49    male  ...      0    0.895028        68.0\n",
              "3           3   45    male  ...      0    0.993368        55.0\n",
              "4           4   53    male  ...      0    0.009796        65.0\n",
              "\n",
              "[5 rows x 13 columns]"
            ]
          },
          "metadata": {
            "tags": []
          },
          "execution_count": 40
        }
      ]
    },
    {
      "cell_type": "code",
      "metadata": {
        "colab": {
          "base_uri": "https://localhost:8080/",
          "height": 297
        },
        "id": "ZHokDhV-NxkX",
        "outputId": "3c66354e-b62a-41e5-cab6-fa09acf80c6c"
      },
      "source": [
        "df.describe()"
      ],
      "execution_count": null,
      "outputs": [
        {
          "output_type": "execute_result",
          "data": {
            "text/html": [
              "<div>\n",
              "<style scoped>\n",
              "    .dataframe tbody tr th:only-of-type {\n",
              "        vertical-align: middle;\n",
              "    }\n",
              "\n",
              "    .dataframe tbody tr th {\n",
              "        vertical-align: top;\n",
              "    }\n",
              "\n",
              "    .dataframe thead th {\n",
              "        text-align: right;\n",
              "    }\n",
              "</style>\n",
              "<table border=\"1\" class=\"dataframe\">\n",
              "  <thead>\n",
              "    <tr style=\"text-align: right;\">\n",
              "      <th></th>\n",
              "      <th>Unnamed: 0</th>\n",
              "      <th>Age</th>\n",
              "      <th>Job</th>\n",
              "      <th>Credit amount</th>\n",
              "      <th>Duration</th>\n",
              "      <th>class</th>\n",
              "      <th>pred_scores</th>\n",
              "      <th>cred_scores</th>\n",
              "    </tr>\n",
              "  </thead>\n",
              "  <tbody>\n",
              "    <tr>\n",
              "      <th>count</th>\n",
              "      <td>1518.000000</td>\n",
              "      <td>1518.000000</td>\n",
              "      <td>1518.000000</td>\n",
              "      <td>1518.000000</td>\n",
              "      <td>1518.000000</td>\n",
              "      <td>1518.000000</td>\n",
              "      <td>465.000000</td>\n",
              "      <td>1000.000000</td>\n",
              "    </tr>\n",
              "    <tr>\n",
              "      <th>mean</th>\n",
              "      <td>758.500000</td>\n",
              "      <td>35.654809</td>\n",
              "      <td>1.971014</td>\n",
              "      <td>2857.129117</td>\n",
              "      <td>19.444664</td>\n",
              "      <td>0.500000</td>\n",
              "      <td>0.515701</td>\n",
              "      <td>65.752000</td>\n",
              "    </tr>\n",
              "    <tr>\n",
              "      <th>std</th>\n",
              "      <td>438.353168</td>\n",
              "      <td>10.980450</td>\n",
              "      <td>0.620845</td>\n",
              "      <td>2428.448300</td>\n",
              "      <td>10.894316</td>\n",
              "      <td>0.500165</td>\n",
              "      <td>0.366927</td>\n",
              "      <td>5.044992</td>\n",
              "    </tr>\n",
              "    <tr>\n",
              "      <th>min</th>\n",
              "      <td>0.000000</td>\n",
              "      <td>19.000000</td>\n",
              "      <td>0.000000</td>\n",
              "      <td>250.000000</td>\n",
              "      <td>4.000000</td>\n",
              "      <td>0.000000</td>\n",
              "      <td>0.000029</td>\n",
              "      <td>46.000000</td>\n",
              "    </tr>\n",
              "    <tr>\n",
              "      <th>25%</th>\n",
              "      <td>379.250000</td>\n",
              "      <td>27.000000</td>\n",
              "      <td>2.000000</td>\n",
              "      <td>1339.250000</td>\n",
              "      <td>12.000000</td>\n",
              "      <td>0.000000</td>\n",
              "      <td>0.115981</td>\n",
              "      <td>63.000000</td>\n",
              "    </tr>\n",
              "    <tr>\n",
              "      <th>50%</th>\n",
              "      <td>758.500000</td>\n",
              "      <td>33.000000</td>\n",
              "      <td>2.000000</td>\n",
              "      <td>2100.500000</td>\n",
              "      <td>18.000000</td>\n",
              "      <td>0.500000</td>\n",
              "      <td>0.618602</td>\n",
              "      <td>67.000000</td>\n",
              "    </tr>\n",
              "    <tr>\n",
              "      <th>75%</th>\n",
              "      <td>1137.750000</td>\n",
              "      <td>41.000000</td>\n",
              "      <td>2.000000</td>\n",
              "      <td>3430.000000</td>\n",
              "      <td>24.000000</td>\n",
              "      <td>1.000000</td>\n",
              "      <td>0.836816</td>\n",
              "      <td>68.000000</td>\n",
              "    </tr>\n",
              "    <tr>\n",
              "      <th>max</th>\n",
              "      <td>1517.000000</td>\n",
              "      <td>75.000000</td>\n",
              "      <td>3.000000</td>\n",
              "      <td>18424.000000</td>\n",
              "      <td>72.000000</td>\n",
              "      <td>1.000000</td>\n",
              "      <td>0.999895</td>\n",
              "      <td>80.000000</td>\n",
              "    </tr>\n",
              "  </tbody>\n",
              "</table>\n",
              "</div>"
            ],
            "text/plain": [
              "        Unnamed: 0          Age  ...  pred_scores  cred_scores\n",
              "count  1518.000000  1518.000000  ...   465.000000  1000.000000\n",
              "mean    758.500000    35.654809  ...     0.515701    65.752000\n",
              "std     438.353168    10.980450  ...     0.366927     5.044992\n",
              "min       0.000000    19.000000  ...     0.000029    46.000000\n",
              "25%     379.250000    27.000000  ...     0.115981    63.000000\n",
              "50%     758.500000    33.000000  ...     0.618602    67.000000\n",
              "75%    1137.750000    41.000000  ...     0.836816    68.000000\n",
              "max    1517.000000    75.000000  ...     0.999895    80.000000\n",
              "\n",
              "[8 rows x 8 columns]"
            ]
          },
          "metadata": {
            "tags": []
          },
          "execution_count": 41
        }
      ]
    },
    {
      "cell_type": "code",
      "metadata": {
        "colab": {
          "base_uri": "https://localhost:8080/"
        },
        "id": "5KylzkJwNFDC",
        "outputId": "8747fa46-42c3-47dc-d400-5671eee6db3d"
      },
      "source": [
        "df.columns"
      ],
      "execution_count": null,
      "outputs": [
        {
          "output_type": "execute_result",
          "data": {
            "text/plain": [
              "Index(['Unnamed: 0', 'Age', 'Sex', 'Job', 'Housing', 'Saving accounts',\n",
              "       'Checking account', 'Credit amount', 'Duration', 'Purpose', 'class',\n",
              "       'pred_scores', 'cred_scores'],\n",
              "      dtype='object')"
            ]
          },
          "metadata": {
            "tags": []
          },
          "execution_count": 42
        }
      ]
    },
    {
      "cell_type": "markdown",
      "metadata": {
        "id": "H6mLhgGElcRQ"
      },
      "source": [
        "Data interpretation and visualisation"
      ]
    },
    {
      "cell_type": "code",
      "metadata": {
        "colab": {
          "base_uri": "https://localhost:8080/"
        },
        "id": "TE0lgDk1lkcS",
        "outputId": "97cc9527-36c4-45f5-e8a9-1183c629c7a3"
      },
      "source": [
        "import pandas as pd\n",
        "import numpy as np\n",
        "import seaborn as sns\n",
        "import matplotlib.pyplot as plt\n",
        "import matplotlib.image as mpimg\n",
        "!pip install plotly\n",
        "import plotly.offline as py \n",
        "import plotly.graph_objs as go\n",
        "import plotly.express as px\n",
        "from collections import Counter  \n",
        "from subprocess import call\n",
        "from IPython.display import Image"
      ],
      "execution_count": null,
      "outputs": [
        {
          "output_type": "stream",
          "text": [
            "Requirement already satisfied: plotly in /usr/local/lib/python3.7/dist-packages (4.4.1)\n",
            "Requirement already satisfied: retrying>=1.3.3 in /usr/local/lib/python3.7/dist-packages (from plotly) (1.3.3)\n",
            "Requirement already satisfied: six in /usr/local/lib/python3.7/dist-packages (from plotly) (1.15.0)\n"
          ],
          "name": "stdout"
        }
      ]
    },
    {
      "cell_type": "code",
      "metadata": {
        "colab": {
          "base_uri": "https://localhost:8080/"
        },
        "id": "4JNk8uWVl8Lh",
        "outputId": "f7e7d362-c19d-45ec-f5dc-94605a07f241"
      },
      "source": [
        "df.info()"
      ],
      "execution_count": null,
      "outputs": [
        {
          "output_type": "stream",
          "text": [
            "<class 'pandas.core.frame.DataFrame'>\n",
            "RangeIndex: 1518 entries, 0 to 1517\n",
            "Data columns (total 13 columns):\n",
            " #   Column            Non-Null Count  Dtype  \n",
            "---  ------            --------------  -----  \n",
            " 0   Unnamed: 0        1518 non-null   int64  \n",
            " 1   Age               1518 non-null   int64  \n",
            " 2   Sex               1518 non-null   object \n",
            " 3   Job               1518 non-null   int64  \n",
            " 4   Housing           1518 non-null   object \n",
            " 5   Saving accounts   1518 non-null   object \n",
            " 6   Checking account  1518 non-null   object \n",
            " 7   Credit amount     1518 non-null   int64  \n",
            " 8   Duration          1518 non-null   int64  \n",
            " 9   Purpose           1518 non-null   object \n",
            " 10  class             1518 non-null   int64  \n",
            " 11  pred_scores       465 non-null    float64\n",
            " 12  cred_scores       1000 non-null   float64\n",
            "dtypes: float64(2), int64(6), object(5)\n",
            "memory usage: 154.3+ KB\n"
          ],
          "name": "stdout"
        }
      ]
    },
    {
      "cell_type": "code",
      "metadata": {
        "colab": {
          "base_uri": "https://localhost:8080/",
          "height": 241
        },
        "id": "sGn4Po-8l-If",
        "outputId": "842df0dc-3f19-458e-dcf1-921988827daf"
      },
      "source": [
        "df.head()"
      ],
      "execution_count": null,
      "outputs": [
        {
          "output_type": "execute_result",
          "data": {
            "text/html": [
              "<div>\n",
              "<style scoped>\n",
              "    .dataframe tbody tr th:only-of-type {\n",
              "        vertical-align: middle;\n",
              "    }\n",
              "\n",
              "    .dataframe tbody tr th {\n",
              "        vertical-align: top;\n",
              "    }\n",
              "\n",
              "    .dataframe thead th {\n",
              "        text-align: right;\n",
              "    }\n",
              "</style>\n",
              "<table border=\"1\" class=\"dataframe\">\n",
              "  <thead>\n",
              "    <tr style=\"text-align: right;\">\n",
              "      <th></th>\n",
              "      <th>Unnamed: 0</th>\n",
              "      <th>Age</th>\n",
              "      <th>Sex</th>\n",
              "      <th>Job</th>\n",
              "      <th>Housing</th>\n",
              "      <th>Saving accounts</th>\n",
              "      <th>Checking account</th>\n",
              "      <th>Credit amount</th>\n",
              "      <th>Duration</th>\n",
              "      <th>Purpose</th>\n",
              "      <th>class</th>\n",
              "      <th>pred_scores</th>\n",
              "      <th>cred_scores</th>\n",
              "    </tr>\n",
              "  </thead>\n",
              "  <tbody>\n",
              "    <tr>\n",
              "      <th>0</th>\n",
              "      <td>0</td>\n",
              "      <td>67</td>\n",
              "      <td>male</td>\n",
              "      <td>2</td>\n",
              "      <td>own</td>\n",
              "      <td>little</td>\n",
              "      <td>little</td>\n",
              "      <td>1169</td>\n",
              "      <td>6</td>\n",
              "      <td>radio/TV</td>\n",
              "      <td>0</td>\n",
              "      <td>0.992690</td>\n",
              "      <td>68.0</td>\n",
              "    </tr>\n",
              "    <tr>\n",
              "      <th>1</th>\n",
              "      <td>1</td>\n",
              "      <td>22</td>\n",
              "      <td>female</td>\n",
              "      <td>2</td>\n",
              "      <td>own</td>\n",
              "      <td>little</td>\n",
              "      <td>moderate</td>\n",
              "      <td>5951</td>\n",
              "      <td>48</td>\n",
              "      <td>radio/TV</td>\n",
              "      <td>0</td>\n",
              "      <td>0.532496</td>\n",
              "      <td>58.0</td>\n",
              "    </tr>\n",
              "    <tr>\n",
              "      <th>2</th>\n",
              "      <td>2</td>\n",
              "      <td>49</td>\n",
              "      <td>male</td>\n",
              "      <td>1</td>\n",
              "      <td>own</td>\n",
              "      <td>little</td>\n",
              "      <td>little</td>\n",
              "      <td>2096</td>\n",
              "      <td>12</td>\n",
              "      <td>education</td>\n",
              "      <td>0</td>\n",
              "      <td>0.895028</td>\n",
              "      <td>68.0</td>\n",
              "    </tr>\n",
              "    <tr>\n",
              "      <th>3</th>\n",
              "      <td>3</td>\n",
              "      <td>45</td>\n",
              "      <td>male</td>\n",
              "      <td>2</td>\n",
              "      <td>free</td>\n",
              "      <td>little</td>\n",
              "      <td>little</td>\n",
              "      <td>7882</td>\n",
              "      <td>42</td>\n",
              "      <td>furniture/equipment</td>\n",
              "      <td>0</td>\n",
              "      <td>0.993368</td>\n",
              "      <td>55.0</td>\n",
              "    </tr>\n",
              "    <tr>\n",
              "      <th>4</th>\n",
              "      <td>4</td>\n",
              "      <td>53</td>\n",
              "      <td>male</td>\n",
              "      <td>2</td>\n",
              "      <td>free</td>\n",
              "      <td>little</td>\n",
              "      <td>little</td>\n",
              "      <td>4870</td>\n",
              "      <td>24</td>\n",
              "      <td>car</td>\n",
              "      <td>0</td>\n",
              "      <td>0.009796</td>\n",
              "      <td>65.0</td>\n",
              "    </tr>\n",
              "  </tbody>\n",
              "</table>\n",
              "</div>"
            ],
            "text/plain": [
              "   Unnamed: 0  Age     Sex  ...  class pred_scores cred_scores\n",
              "0           0   67    male  ...      0    0.992690        68.0\n",
              "1           1   22  female  ...      0    0.532496        58.0\n",
              "2           2   49    male  ...      0    0.895028        68.0\n",
              "3           3   45    male  ...      0    0.993368        55.0\n",
              "4           4   53    male  ...      0    0.009796        65.0\n",
              "\n",
              "[5 rows x 13 columns]"
            ]
          },
          "metadata": {
            "tags": []
          },
          "execution_count": 46
        }
      ]
    },
    {
      "cell_type": "code",
      "metadata": {
        "colab": {
          "base_uri": "https://localhost:8080/",
          "height": 297
        },
        "id": "DHmARrDmmDFj",
        "outputId": "ae8c0e5a-67ae-4252-b232-1612b1fa9f27"
      },
      "source": [
        "df.describe()"
      ],
      "execution_count": null,
      "outputs": [
        {
          "output_type": "execute_result",
          "data": {
            "text/html": [
              "<div>\n",
              "<style scoped>\n",
              "    .dataframe tbody tr th:only-of-type {\n",
              "        vertical-align: middle;\n",
              "    }\n",
              "\n",
              "    .dataframe tbody tr th {\n",
              "        vertical-align: top;\n",
              "    }\n",
              "\n",
              "    .dataframe thead th {\n",
              "        text-align: right;\n",
              "    }\n",
              "</style>\n",
              "<table border=\"1\" class=\"dataframe\">\n",
              "  <thead>\n",
              "    <tr style=\"text-align: right;\">\n",
              "      <th></th>\n",
              "      <th>Unnamed: 0</th>\n",
              "      <th>Age</th>\n",
              "      <th>Job</th>\n",
              "      <th>Credit amount</th>\n",
              "      <th>Duration</th>\n",
              "      <th>class</th>\n",
              "      <th>pred_scores</th>\n",
              "      <th>cred_scores</th>\n",
              "    </tr>\n",
              "  </thead>\n",
              "  <tbody>\n",
              "    <tr>\n",
              "      <th>count</th>\n",
              "      <td>1518.000000</td>\n",
              "      <td>1518.000000</td>\n",
              "      <td>1518.000000</td>\n",
              "      <td>1518.000000</td>\n",
              "      <td>1518.000000</td>\n",
              "      <td>1518.000000</td>\n",
              "      <td>465.000000</td>\n",
              "      <td>1000.000000</td>\n",
              "    </tr>\n",
              "    <tr>\n",
              "      <th>mean</th>\n",
              "      <td>758.500000</td>\n",
              "      <td>35.654809</td>\n",
              "      <td>1.971014</td>\n",
              "      <td>2857.129117</td>\n",
              "      <td>19.444664</td>\n",
              "      <td>0.500000</td>\n",
              "      <td>0.515701</td>\n",
              "      <td>65.752000</td>\n",
              "    </tr>\n",
              "    <tr>\n",
              "      <th>std</th>\n",
              "      <td>438.353168</td>\n",
              "      <td>10.980450</td>\n",
              "      <td>0.620845</td>\n",
              "      <td>2428.448300</td>\n",
              "      <td>10.894316</td>\n",
              "      <td>0.500165</td>\n",
              "      <td>0.366927</td>\n",
              "      <td>5.044992</td>\n",
              "    </tr>\n",
              "    <tr>\n",
              "      <th>min</th>\n",
              "      <td>0.000000</td>\n",
              "      <td>19.000000</td>\n",
              "      <td>0.000000</td>\n",
              "      <td>250.000000</td>\n",
              "      <td>4.000000</td>\n",
              "      <td>0.000000</td>\n",
              "      <td>0.000029</td>\n",
              "      <td>46.000000</td>\n",
              "    </tr>\n",
              "    <tr>\n",
              "      <th>25%</th>\n",
              "      <td>379.250000</td>\n",
              "      <td>27.000000</td>\n",
              "      <td>2.000000</td>\n",
              "      <td>1339.250000</td>\n",
              "      <td>12.000000</td>\n",
              "      <td>0.000000</td>\n",
              "      <td>0.115981</td>\n",
              "      <td>63.000000</td>\n",
              "    </tr>\n",
              "    <tr>\n",
              "      <th>50%</th>\n",
              "      <td>758.500000</td>\n",
              "      <td>33.000000</td>\n",
              "      <td>2.000000</td>\n",
              "      <td>2100.500000</td>\n",
              "      <td>18.000000</td>\n",
              "      <td>0.500000</td>\n",
              "      <td>0.618602</td>\n",
              "      <td>67.000000</td>\n",
              "    </tr>\n",
              "    <tr>\n",
              "      <th>75%</th>\n",
              "      <td>1137.750000</td>\n",
              "      <td>41.000000</td>\n",
              "      <td>2.000000</td>\n",
              "      <td>3430.000000</td>\n",
              "      <td>24.000000</td>\n",
              "      <td>1.000000</td>\n",
              "      <td>0.836816</td>\n",
              "      <td>68.000000</td>\n",
              "    </tr>\n",
              "    <tr>\n",
              "      <th>max</th>\n",
              "      <td>1517.000000</td>\n",
              "      <td>75.000000</td>\n",
              "      <td>3.000000</td>\n",
              "      <td>18424.000000</td>\n",
              "      <td>72.000000</td>\n",
              "      <td>1.000000</td>\n",
              "      <td>0.999895</td>\n",
              "      <td>80.000000</td>\n",
              "    </tr>\n",
              "  </tbody>\n",
              "</table>\n",
              "</div>"
            ],
            "text/plain": [
              "        Unnamed: 0          Age  ...  pred_scores  cred_scores\n",
              "count  1518.000000  1518.000000  ...   465.000000  1000.000000\n",
              "mean    758.500000    35.654809  ...     0.515701    65.752000\n",
              "std     438.353168    10.980450  ...     0.366927     5.044992\n",
              "min       0.000000    19.000000  ...     0.000029    46.000000\n",
              "25%     379.250000    27.000000  ...     0.115981    63.000000\n",
              "50%     758.500000    33.000000  ...     0.618602    67.000000\n",
              "75%    1137.750000    41.000000  ...     0.836816    68.000000\n",
              "max    1517.000000    75.000000  ...     0.999895    80.000000\n",
              "\n",
              "[8 rows x 8 columns]"
            ]
          },
          "metadata": {
            "tags": []
          },
          "execution_count": 47
        }
      ]
    },
    {
      "cell_type": "markdown",
      "metadata": {
        "id": "aqlUY6oBmPJV"
      },
      "source": [
        "Descriptive interprataion"
      ]
    },
    {
      "cell_type": "code",
      "metadata": {
        "colab": {
          "base_uri": "https://localhost:8080/",
          "height": 542
        },
        "id": "by_BzLwMmRGU",
        "outputId": "49647752-e841-4dbf-9af0-a9765f340e64"
      },
      "source": [
        "SA = df.loc[:,['Sex','Age']]\n",
        "fig = px.box(SA, x=\"Sex\", y=\"Age\", points=\"all\",color=\"Sex\")\n",
        "fig.update_layout(\n",
        "    title={\n",
        "          'text':\"Sex Vs Age Cross tabulation\",\n",
        "        'y':.95,\n",
        "        'x':.5,\n",
        "        'xanchor': 'center',\n",
        "        'yanchor': 'top'\n",
        "    },\n",
        "    xaxis_title=\"Sex\",\n",
        "    yaxis_title=\"Age\",\n",
        "   \n",
        ")\n",
        "fig.show()\n"
      ],
      "execution_count": null,
      "outputs": [
        {
          "output_type": "display_data",
          "data": {
            "text/html": [
              "<html>\n",
              "<head><meta charset=\"utf-8\" /></head>\n",
              "<body>\n",
              "    <div>\n",
              "            <script src=\"https://cdnjs.cloudflare.com/ajax/libs/mathjax/2.7.5/MathJax.js?config=TeX-AMS-MML_SVG\"></script><script type=\"text/javascript\">if (window.MathJax) {MathJax.Hub.Config({SVG: {font: \"STIX-Web\"}});}</script>\n",
              "                <script type=\"text/javascript\">window.PlotlyConfig = {MathJaxConfig: 'local'};</script>\n",
              "        <script src=\"https://cdn.plot.ly/plotly-latest.min.js\"></script>    \n",
              "            <div id=\"b1874d24-76b2-4b0a-8314-18518aaada51\" class=\"plotly-graph-div\" style=\"height:525px; width:100%;\"></div>\n",
              "            <script type=\"text/javascript\">\n",
              "                \n",
              "                    window.PLOTLYENV=window.PLOTLYENV || {};\n",
              "                    \n",
              "                if (document.getElementById(\"b1874d24-76b2-4b0a-8314-18518aaada51\")) {\n",
              "                    Plotly.newPlot(\n",
              "                        'b1874d24-76b2-4b0a-8314-18518aaada51',\n",
              "                        [{\"alignmentgroup\": \"True\", \"boxpoints\": \"all\", \"hoverlabel\": {\"namelength\": 0}, \"hovertemplate\": \"Sex=%{x}<br>Age=%{y}\", \"legendgroup\": \"Sex=male\", \"marker\": {\"color\": \"#636efa\"}, \"name\": \"Sex=male\", \"notched\": false, \"offsetgroup\": \"Sex=male\", \"orientation\": \"v\", \"showlegend\": true, \"type\": \"box\", \"x\": [\"male\", \"male\", \"male\", \"male\", \"male\", \"male\", \"male\", \"male\", \"male\", \"male\", \"male\", \"male\", \"male\", \"male\", \"male\", \"male\", \"male\", \"male\", \"male\", \"male\", \"male\", \"male\", \"male\", \"male\", \"male\", \"male\", \"male\", \"male\", \"male\", \"male\", \"male\", \"male\", \"male\", \"male\", \"male\", \"male\", \"male\", \"male\", \"male\", \"male\", \"male\", \"male\", \"male\", \"male\", \"male\", \"male\", \"male\", \"male\", \"male\", \"male\", \"male\", \"male\", \"male\", \"male\", \"male\", \"male\", \"male\", \"male\", \"male\", \"male\", \"male\", \"male\", \"male\", \"male\", \"male\", \"male\", \"male\", \"male\", \"male\", \"male\", \"male\", \"male\", \"male\", \"male\", \"male\", \"male\", \"male\", \"male\", \"male\", \"male\", \"male\", \"male\", \"male\", \"male\", \"male\", \"male\", \"male\", \"male\", \"male\", \"male\", \"male\", \"male\", \"male\", \"male\", \"male\", \"male\", \"male\", \"male\", \"male\", \"male\", \"male\", \"male\", \"male\", \"male\", \"male\", \"male\", \"male\", \"male\", \"male\", \"male\", \"male\", \"male\", \"male\", \"male\", \"male\", \"male\", \"male\", \"male\", \"male\", \"male\", \"male\", \"male\", \"male\", \"male\", \"male\", \"male\", \"male\", \"male\", \"male\", \"male\", \"male\", \"male\", \"male\", \"male\", \"male\", \"male\", \"male\", \"male\", \"male\", \"male\", \"male\", \"male\", \"male\", \"male\", \"male\", \"male\", \"male\", \"male\", \"male\", \"male\", \"male\", \"male\", \"male\", \"male\", \"male\", \"male\", \"male\", \"male\", \"male\", \"male\", \"male\", \"male\", \"male\", \"male\", \"male\", \"male\", \"male\", \"male\", \"male\", \"male\", \"male\", \"male\", \"male\", \"male\", \"male\", \"male\", \"male\", \"male\", \"male\", \"male\", \"male\", \"male\", \"male\", \"male\", \"male\", \"male\", \"male\", \"male\", \"male\", \"male\", \"male\", \"male\", \"male\", \"male\", \"male\", \"male\", \"male\", \"male\", \"male\", \"male\", \"male\", \"male\", \"male\", \"male\", \"male\", \"male\", \"male\", \"male\", \"male\", \"male\", \"male\", \"male\", \"male\", \"male\", \"male\", \"male\", \"male\", \"male\", \"male\", \"male\", \"male\", \"male\", \"male\", \"male\", \"male\", \"male\", \"male\", \"male\", \"male\", \"male\", \"male\", \"male\", \"male\", \"male\", \"male\", \"male\", \"male\", \"male\", \"male\", \"male\", \"male\", \"male\", \"male\", \"male\", \"male\", \"male\", \"male\", \"male\", \"male\", \"male\", \"male\", \"male\", \"male\", \"male\", \"male\", \"male\", \"male\", \"male\", \"male\", \"male\", \"male\", \"male\", \"male\", \"male\", \"male\", \"male\", \"male\", \"male\", \"male\", \"male\", \"male\", \"male\", \"male\", \"male\", \"male\", \"male\", \"male\", \"male\", \"male\", \"male\", \"male\", \"male\", \"male\", \"male\", \"male\", \"male\", \"male\", \"male\", \"male\", \"male\", \"male\", \"male\", \"male\", \"male\", \"male\", \"male\", \"male\", \"male\", \"male\", \"male\", \"male\", \"male\", \"male\", \"male\", \"male\", \"male\", \"male\", \"male\", \"male\", \"male\", \"male\", \"male\", \"male\", \"male\", \"male\", \"male\", \"male\", \"male\", \"male\", \"male\", \"male\", \"male\", \"male\", \"male\", \"male\", \"male\", \"male\", \"male\", \"male\", \"male\", \"male\", \"male\", \"male\", \"male\", \"male\", \"male\", \"male\", \"male\", \"male\", \"male\", \"male\", \"male\", \"male\", \"male\", \"male\", \"male\", \"male\", \"male\", \"male\", \"male\", \"male\", \"male\", \"male\", \"male\", \"male\", \"male\", \"male\", \"male\", \"male\", \"male\", \"male\", \"male\", \"male\", \"male\", \"male\", \"male\", \"male\", \"male\", \"male\", \"male\", \"male\", \"male\", \"male\", \"male\", \"male\", \"male\", \"male\", \"male\", \"male\", \"male\", \"male\", \"male\", \"male\", \"male\", \"male\", \"male\", \"male\", \"male\", \"male\", \"male\", \"male\", \"male\", \"male\", \"male\", \"male\", \"male\", \"male\", \"male\", \"male\", \"male\", \"male\", \"male\", \"male\", \"male\", \"male\", \"male\", \"male\", \"male\", \"male\", \"male\", \"male\", \"male\", \"male\", \"male\", \"male\", \"male\", \"male\", \"male\", \"male\", \"male\", \"male\", \"male\", \"male\", \"male\", \"male\", \"male\", \"male\", \"male\", \"male\", \"male\", \"male\", \"male\", \"male\", \"male\", \"male\", \"male\", \"male\", \"male\", \"male\", \"male\", \"male\", \"male\", \"male\", \"male\", \"male\", \"male\", \"male\", \"male\", \"male\", \"male\", \"male\", \"male\", \"male\", \"male\", \"male\", \"male\", \"male\", \"male\", \"male\", \"male\", \"male\", \"male\", \"male\", \"male\", \"male\", \"male\", \"male\", \"male\", \"male\", \"male\", \"male\", \"male\", \"male\", \"male\", \"male\", \"male\", \"male\", \"male\", \"male\", \"male\", \"male\", \"male\", \"male\", \"male\", \"male\", \"male\", \"male\", \"male\", \"male\", \"male\", \"male\", \"male\", \"male\", \"male\", \"male\", \"male\", \"male\", \"male\", \"male\", \"male\", \"male\", \"male\", \"male\", \"male\", \"male\", \"male\", \"male\", \"male\", \"male\", \"male\", \"male\", \"male\", \"male\", \"male\", \"male\", \"male\", \"male\", \"male\", \"male\", \"male\", \"male\", \"male\", \"male\", \"male\", \"male\", \"male\", \"male\", \"male\", \"male\", \"male\", \"male\", \"male\", \"male\", \"male\", \"male\", \"male\", \"male\", \"male\", \"male\", \"male\", \"male\", \"male\", \"male\", \"male\", \"male\", \"male\", \"male\", \"male\", \"male\", \"male\", \"male\", \"male\", \"male\", \"male\", \"male\", \"male\", \"male\", \"male\", \"male\", \"male\", \"male\", \"male\", \"male\", \"male\", \"male\", \"male\", \"male\", \"male\", \"male\", \"male\", \"male\", \"male\", \"male\", \"male\", \"male\", \"male\", \"male\", \"male\", \"male\", \"male\", \"male\", \"male\", \"male\", \"male\", \"male\", \"male\", \"male\", \"male\", \"male\", \"male\", \"male\", \"male\", \"male\", \"male\", \"male\", \"male\", \"male\", \"male\", \"male\", \"male\", \"male\", \"male\", \"male\", \"male\", \"male\", \"male\", \"male\", \"male\", \"male\", \"male\", \"male\", \"male\", \"male\", \"male\", \"male\", \"male\", \"male\", \"male\", \"male\", \"male\", \"male\", \"male\", \"male\", \"male\", \"male\", \"male\", \"male\", \"male\", \"male\", \"male\", \"male\", \"male\", \"male\", \"male\", \"male\", \"male\", \"male\", \"male\", \"male\", \"male\", \"male\", \"male\", \"male\", \"male\", \"male\", \"male\", \"male\", \"male\", \"male\", \"male\", \"male\", \"male\", \"male\", \"male\", \"male\", \"male\", \"male\", \"male\", \"male\", \"male\", \"male\", \"male\", \"male\", \"male\", \"male\", \"male\", \"male\", \"male\", \"male\", \"male\", \"male\", \"male\", \"male\", \"male\", \"male\", \"male\", \"male\", \"male\", \"male\", \"male\", \"male\", \"male\", \"male\", \"male\", \"male\", \"male\", \"male\", \"male\", \"male\", \"male\", \"male\", \"male\", \"male\", \"male\", \"male\", \"male\", \"male\", \"male\", \"male\", \"male\", \"male\", \"male\", \"male\", \"male\", \"male\", \"male\", \"male\", \"male\", \"male\", \"male\", \"male\", \"male\", \"male\", \"male\", \"male\", \"male\", \"male\", \"male\", \"male\", \"male\", \"male\", \"male\", \"male\", \"male\", \"male\", \"male\", \"male\", \"male\", \"male\", \"male\", \"male\", \"male\", \"male\", \"male\", \"male\", \"male\", \"male\", \"male\", \"male\", \"male\", \"male\", \"male\", \"male\", \"male\", \"male\", \"male\", \"male\", \"male\", \"male\", \"male\", \"male\", \"male\", \"male\", \"male\", \"male\", \"male\", \"male\", \"male\", \"male\", \"male\", \"male\", \"male\", \"male\", \"male\", \"male\", \"male\", \"male\", \"male\", \"male\", \"male\", \"male\", \"male\", \"male\", \"male\", \"male\", \"male\", \"male\", \"male\", \"male\", \"male\", \"male\", \"male\", \"male\", \"male\", \"male\", \"male\", \"male\", \"male\", \"male\", \"male\", \"male\", \"male\", \"male\", \"male\", \"male\", \"male\", \"male\", \"male\", \"male\", \"male\", \"male\", \"male\", \"male\", \"male\", \"male\", \"male\", \"male\", \"male\", \"male\", \"male\", \"male\", \"male\", \"male\", \"male\", \"male\", \"male\", \"male\", \"male\", \"male\", \"male\", \"male\", \"male\", \"male\", \"male\", \"male\", \"male\", \"male\", \"male\", \"male\", \"male\", \"male\", \"male\", \"male\", \"male\", \"male\", \"male\", \"male\", \"male\", \"male\", \"male\", \"male\", \"male\", \"male\", \"male\", \"male\", \"male\", \"male\", \"male\", \"male\", \"male\", \"male\", \"male\", \"male\", \"male\", \"male\", \"male\", \"male\", \"male\", \"male\", \"male\", \"male\", \"male\", \"male\", \"male\", \"male\", \"male\", \"male\", \"male\", \"male\", \"male\", \"male\", \"male\", \"male\", \"male\", \"male\", \"male\", \"male\", \"male\", \"male\", \"male\", \"male\", \"male\", \"male\", \"male\", \"male\", \"male\", \"male\", \"male\", \"male\", \"male\", \"male\", \"male\", \"male\", \"male\", \"male\", \"male\", \"male\", \"male\", \"male\", \"male\", \"male\", \"male\", \"male\", \"male\", \"male\", \"male\", \"male\", \"male\", \"male\", \"male\", \"male\", \"male\", \"male\", \"male\", \"male\", \"male\", \"male\", \"male\", \"male\", \"male\", \"male\", \"male\", \"male\", \"male\", \"male\", \"male\", \"male\", \"male\", \"male\", \"male\", \"male\", \"male\", \"male\", \"male\", \"male\", \"male\", \"male\", \"male\", \"male\", \"male\", \"male\", \"male\", \"male\", \"male\", \"male\", \"male\", \"male\", \"male\", \"male\", \"male\", \"male\", \"male\", \"male\", \"male\", \"male\", \"male\", \"male\", \"male\", \"male\", \"male\", \"male\", \"male\", \"male\", \"male\", \"male\", \"male\", \"male\", \"male\", \"male\", \"male\", \"male\", \"male\", \"male\", \"male\", \"male\", \"male\", \"male\", \"male\", \"male\", \"male\", \"male\", \"male\", \"male\", \"male\", \"male\", \"male\", \"male\", \"male\", \"male\", \"male\", \"male\", \"male\", \"male\", \"male\", \"male\", \"male\", \"male\", \"male\", \"male\", \"male\", \"male\", \"male\", \"male\", \"male\", \"male\", \"male\", \"male\", \"male\", \"male\", \"male\", \"male\", \"male\", \"male\", \"male\", \"male\", \"male\", \"male\", \"male\", \"male\", \"male\", \"male\", \"male\", \"male\", \"male\", \"male\", \"male\", \"male\", \"male\", \"male\", \"male\", \"male\", \"male\", \"male\", \"male\", \"male\", \"male\", \"male\", \"male\", \"male\", \"male\", \"male\", \"male\", \"male\", \"male\", \"male\", \"male\", \"male\", \"male\", \"male\", \"male\", \"male\", \"male\", \"male\", \"male\", \"male\", \"male\", \"male\", \"male\", \"male\", \"male\", \"male\", \"male\", \"male\", \"male\", \"male\", \"male\", \"male\", \"male\", \"male\", \"male\", \"male\", \"male\", \"male\", \"male\", \"male\", \"male\", \"male\", \"male\", \"male\", \"male\", \"male\", \"male\", \"male\", \"male\", \"male\", \"male\", \"male\", \"male\", \"male\", \"male\", \"male\", \"male\", \"male\", \"male\", \"male\", \"male\", \"male\", \"male\", \"male\", \"male\", \"male\", \"male\", \"male\"], \"x0\": \" \", \"xaxis\": \"x\", \"y\": [67, 49, 45, 53, 35, 35, 28, 60, 53, 25, 48, 48, 26, 36, 39, 63, 27, 30, 57, 25, 31, 44, 24, 39, 29, 30, 25, 31, 57, 26, 52, 25, 48, 37, 46, 51, 40, 66, 34, 39, 22, 52, 47, 28, 56, 54, 20, 58, 36, 36, 41, 24, 35, 26, 39, 39, 32, 28, 47, 24, 63, 30, 40, 29, 27, 47, 27, 27, 27, 22, 28, 42, 38, 24, 36, 45, 34, 70, 33, 42, 31, 65, 28, 40, 31, 68, 34, 29, 21, 36, 27, 26, 21, 38, 38, 43, 21, 33, 50, 51, 23, 24, 26, 30, 30, 27, 27, 53, 22, 22, 26, 25, 42, 23, 61, 39, 51, 24, 52, 35, 27, 35, 29, 27, 36, 32, 36, 45, 25, 32, 36, 28, 34, 32, 49, 29, 23, 50, 63, 26, 31, 48, 28, 56, 46, 45, 43, 49, 44, 33, 22, 40, 25, 25, 31, 38, 28, 32, 34, 39, 49, 31, 75, 23, 44, 28, 31, 28, 23, 49, 26, 28, 61, 21, 25, 27, 42, 36, 33, 63, 34, 36, 57, 39, 26, 40, 39, 32, 46, 46, 39, 27, 27, 43, 27, 35, 40, 35, 33, 47, 21, 29, 20, 29, 36, 33, 25, 23, 65, 41, 30, 34, 31, 36, 35, 32, 37, 36, 63, 32, 35, 22, 28, 25, 44, 52, 35, 26, 26, 39, 20, 29, 40, 32, 42, 27, 34, 28, 45, 26, 32, 20, 54, 40, 36, 44, 53, 30, 42, 31, 41, 32, 41, 25, 33, 42, 23, 60, 31, 61, 43, 32, 35, 34, 27, 31, 49, 24, 37, 36, 41, 38, 27, 27, 27, 49, 33, 36, 21, 47, 60, 31, 33, 45, 48, 27, 37, 49, 32, 38, 65, 35, 64, 44, 21, 26, 38, 33, 27, 32, 38, 40, 50, 37, 45, 42, 35, 22, 41, 37, 41, 23, 23, 50, 27, 34, 43, 47, 31, 42, 33, 24, 64, 37, 33, 47, 31, 34, 30, 25, 44, 28, 24, 46, 24, 37, 25, 27, 63, 40, 32, 31, 33, 21, 35, 45, 23, 41, 30, 26, 33, 55, 74, 39, 31, 35, 24, 30, 40, 31, 28, 63, 66, 37, 38, 25, 60, 38, 50, 27, 41, 27, 51, 51, 54, 35, 54, 35, 24, 26, 65, 55, 28, 24, 54, 46, 43, 26, 27, 41, 47, 30, 47, 38, 29, 48, 63, 46, 29, 28, 47, 68, 28, 59, 57, 33, 43, 35, 32, 45, 28, 26, 27, 32, 25, 42, 37, 29, 36, 28, 27, 36, 38, 48, 36, 23, 34, 40, 46, 38, 34, 29, 31, 42, 43, 44, 42, 40, 20, 24, 27, 31, 68, 39, 37, 30, 55, 46, 39, 58, 43, 24, 30, 30, 30, 42, 46, 31, 31, 42, 43, 40, 24, 49, 37, 45, 30, 30, 29, 22, 23, 29, 40, 43, 36, 47, 25, 49, 33, 26, 30, 33, 29, 48, 37, 34, 23, 30, 50, 40, 38, 23, 27, 30, 33, 43, 27, 45, 50, 28, 34, 52, 33, 36, 36, 25, 33, 26, 49, 34, 46, 33, 41, 36, 24, 25, 30, 22, 31, 28, 36, 28, 26, 31, 24, 49, 26, 38, 35, 28, 26, 35, 37, 35, 36, 32, 47, 44, 28, 26, 35, 26, 26, 26, 32, 33, 47, 35, 32, 35, 35, 30, 39, 30, 24, 28, 39, 43, 40, 29, 52, 26, 41, 31, 50, 50, 40, 30, 26, 61, 35, 61, 36, 35, 31, 52, 40, 41, 25, 44, 43, 46, 43, 31, 27, 44, 43, 44, 34, 36, 37, 33, 39, 45, 44, 36, 29, 35, 38, 27, 31, 34, 37, 29, 36, 26, 22, 27, 38, 22, 30, 25, 33, 55, 36, 41, 53, 27, 36, 26, 44, 25, 32, 49, 46, 45, 66, 30, 29, 31, 36, 49, 45, 37, 36, 26, 40, 51, 28, 41, 61, 47, 28, 29, 26, 22, 37, 37, 26, 28, 30, 34, 36, 36, 61, 35, 32, 34, 49, 61, 26, 29, 51, 36, 44, 50, 37, 27, 26, 50, 31, 33, 40, 27, 61, 29, 49, 35, 32, 22, 43, 30, 38, 40, 26, 44, 38, 41, 32, 34, 35, 40, 34, 44, 26, 32, 24, 40, 33, 30, 47, 26, 74, 40, 66, 36, 32, 42, 74, 26, 36, 62, 31, 24, 33, 44, 24, 44, 30, 50, 35, 48, 30, 33, 27, 41, 32, 24, 38, 39, 30, 36, 36, 23, 36, 43, 36, 38, 36, 47, 31, 25, 38, 23, 50, 41, 31, 38, 32, 32, 30, 24, 31, 22, 39, 26, 30, 32, 40, 35, 29, 33, 34, 41, 24, 24, 28, 47, 42, 26, 35, 44, 34, 23, 26, 27, 28, 36, 43, 34, 43, 27, 26, 36, 61, 38, 35, 27, 35, 54, 46, 37, 42, 39, 30, 25, 37, 24, 36, 33, 33, 35, 22, 48, 61, 38, 26, 32, 27, 37, 26, 35, 36, 41, 36, 32, 45, 36, 50, 24, 32, 26, 34, 44, 45, 38, 38, 27, 28, 29, 39, 25, 39, 45, 48, 27, 32, 31, 39, 31, 26, 32, 48, 34, 22, 41, 36, 30, 26, 24, 37, 33, 36, 36, 26, 44, 39, 22, 33, 33, 37, 37, 29, 25, 20, 31, 28, 22, 39, 31, 32, 26, 34, 22, 36, 50, 34, 32, 44, 43, 31, 74, 28, 33, 46, 47, 32, 32, 28, 30, 35, 49, 37, 31, 28, 43, 35, 30, 27, 26, 26, 49, 48, 22, 74, 33, 35, 23, 36, 44, 26, 25, 29, 53, 23, 31, 30, 47, 46, 31, 37, 36, 51, 29, 43, 34, 47, 36, 27, 36, 43, 34, 36, 36, 31, 32, 32, 27, 44, 31, 27, 32, 26, 30, 44, 27, 22, 36, 31, 27, 33, 30, 37, 27, 23, 30, 31, 32, 24, 26, 42, 24, 32, 38, 22, 34, 34, 31, 36, 20, 62, 36, 33, 37, 30, 24, 31, 35, 44, 36, 27, 35, 32, 52, 35, 35, 54, 38, 62, 37, 34, 34, 54, 39, 46, 50, 27, 27, 31, 50, 25, 37, 53, 36, 36, 51, 30, 61, 66, 46, 32, 34, 50, 22, 29, 33, 36, 32, 30, 42, 24, 46, 24, 52, 33, 45, 24, 32, 36, 32, 44, 28, 30, 66, 30, 35, 51, 26, 28, 34, 52, 47, 36, 40, 34, 35, 28, 46, 43, 30, 31, 32, 31, 66, 35, 35, 37, 32, 27, 53, 34, 37, 51, 33, 62, 66, 34, 33, 34, 31, 27, 26, 30, 36, 26, 28, 34, 31, 22, 26, 50, 22, 22, 46, 26, 28, 36, 38, 38, 27, 42, 33, 31, 47, 34, 32, 38, 29, 26, 35, 36, 24, 36], \"y0\": \" \", \"yaxis\": \"y\"}, {\"alignmentgroup\": \"True\", \"boxpoints\": \"all\", \"hoverlabel\": {\"namelength\": 0}, \"hovertemplate\": \"Sex=%{x}<br>Age=%{y}\", \"legendgroup\": \"Sex=female\", \"marker\": {\"color\": \"#EF553B\"}, \"name\": \"Sex=female\", \"notched\": false, \"offsetgroup\": \"Sex=female\", \"orientation\": \"v\", \"showlegend\": true, \"type\": \"box\", \"x\": [\"female\", \"female\", \"female\", \"female\", \"female\", \"female\", \"female\", \"female\", \"female\", \"female\", \"female\", \"female\", \"female\", \"female\", \"female\", \"female\", \"female\", \"female\", \"female\", \"female\", \"female\", \"female\", \"female\", \"female\", \"female\", \"female\", \"female\", \"female\", \"female\", \"female\", \"female\", \"female\", \"female\", \"female\", \"female\", \"female\", \"female\", \"female\", \"female\", \"female\", \"female\", \"female\", \"female\", \"female\", \"female\", \"female\", \"female\", \"female\", \"female\", \"female\", \"female\", \"female\", \"female\", \"female\", \"female\", \"female\", \"female\", \"female\", \"female\", \"female\", \"female\", \"female\", \"female\", \"female\", \"female\", \"female\", \"female\", \"female\", \"female\", \"female\", \"female\", \"female\", \"female\", \"female\", \"female\", \"female\", \"female\", \"female\", \"female\", \"female\", \"female\", \"female\", \"female\", \"female\", \"female\", \"female\", \"female\", \"female\", \"female\", \"female\", \"female\", \"female\", \"female\", \"female\", \"female\", \"female\", \"female\", \"female\", \"female\", \"female\", \"female\", \"female\", \"female\", \"female\", \"female\", \"female\", \"female\", \"female\", \"female\", \"female\", \"female\", \"female\", \"female\", \"female\", \"female\", \"female\", \"female\", \"female\", \"female\", \"female\", \"female\", \"female\", \"female\", \"female\", \"female\", \"female\", \"female\", \"female\", \"female\", \"female\", \"female\", \"female\", \"female\", \"female\", \"female\", \"female\", \"female\", \"female\", \"female\", \"female\", \"female\", \"female\", \"female\", \"female\", \"female\", \"female\", \"female\", \"female\", \"female\", \"female\", \"female\", \"female\", \"female\", \"female\", \"female\", \"female\", \"female\", \"female\", \"female\", \"female\", \"female\", \"female\", \"female\", \"female\", \"female\", \"female\", \"female\", \"female\", \"female\", \"female\", \"female\", \"female\", \"female\", \"female\", \"female\", \"female\", \"female\", \"female\", \"female\", \"female\", \"female\", \"female\", \"female\", \"female\", \"female\", \"female\", \"female\", \"female\", \"female\", \"female\", \"female\", \"female\", \"female\", \"female\", \"female\", \"female\", \"female\", \"female\", \"female\", \"female\", \"female\", \"female\", \"female\", \"female\", \"female\", \"female\", \"female\", \"female\", \"female\", \"female\", \"female\", \"female\", \"female\", \"female\", \"female\", \"female\", \"female\", \"female\", \"female\", \"female\", \"female\", \"female\", \"female\", \"female\", \"female\", \"female\", \"female\", \"female\", \"female\", \"female\", \"female\", \"female\", \"female\", \"female\", \"female\", \"female\", \"female\", \"female\", \"female\", \"female\", \"female\", \"female\", \"female\", \"female\", \"female\", \"female\", \"female\", \"female\", \"female\", \"female\", \"female\", \"female\", \"female\", \"female\", \"female\", \"female\", \"female\", \"female\", \"female\", \"female\", \"female\", \"female\", \"female\", \"female\", \"female\", \"female\", \"female\", \"female\", \"female\", \"female\", \"female\", \"female\", \"female\", \"female\", \"female\", \"female\", \"female\", \"female\", \"female\", \"female\", \"female\", \"female\", \"female\", \"female\", \"female\", \"female\", \"female\", \"female\", \"female\", \"female\", \"female\", \"female\", \"female\", \"female\", \"female\", \"female\", \"female\", \"female\", \"female\", \"female\", \"female\", \"female\", \"female\", \"female\", \"female\", \"female\", \"female\", \"female\", \"female\", \"female\", \"female\", \"female\", \"female\", \"female\", \"female\", \"female\", \"female\", \"female\", \"female\", \"female\", \"female\", \"female\", \"female\", \"female\", \"female\", \"female\", \"female\", \"female\", \"female\", \"female\", \"female\", \"female\", \"female\", \"female\", \"female\", \"female\", \"female\", \"female\", \"female\", \"female\", \"female\", \"female\", \"female\", \"female\", \"female\", \"female\", \"female\", \"female\", \"female\", \"female\", \"female\", \"female\", \"female\", \"female\", \"female\", \"female\", \"female\", \"female\", \"female\", \"female\", \"female\", \"female\", \"female\", \"female\", \"female\", \"female\", \"female\", \"female\", \"female\", \"female\", \"female\", \"female\", \"female\", \"female\", \"female\", \"female\", \"female\", \"female\", \"female\", \"female\", \"female\", \"female\", \"female\", \"female\", \"female\", \"female\", \"female\", \"female\", \"female\", \"female\", \"female\", \"female\", \"female\", \"female\", \"female\", \"female\", \"female\", \"female\", \"female\", \"female\", \"female\", \"female\", \"female\", \"female\", \"female\", \"female\", \"female\", \"female\", \"female\", \"female\", \"female\", \"female\", \"female\", \"female\", \"female\"], \"x0\": \" \", \"xaxis\": \"x\", \"y\": [22, 25, 24, 22, 28, 32, 44, 42, 58, 23, 28, 31, 23, 26, 29, 25, 30, 41, 44, 24, 58, 27, 33, 24, 30, 23, 25, 30, 27, 23, 25, 41, 27, 29, 24, 21, 38, 44, 30, 23, 39, 51, 29, 20, 30, 33, 25, 26, 53, 74, 33, 28, 27, 45, 39, 64, 23, 35, 29, 22, 39, 46, 24, 23, 57, 55, 57, 38, 37, 26, 32, 35, 49, 44, 26, 20, 54, 42, 24, 24, 48, 27, 36, 24, 24, 23, 24, 24, 26, 43, 23, 23, 29, 23, 22, 40, 23, 60, 37, 52, 38, 25, 25, 21, 19, 31, 55, 43, 20, 35, 23, 33, 20, 25, 55, 26, 30, 30, 41, 34, 29, 27, 34, 29, 26, 26, 23, 57, 62, 42, 27, 27, 24, 37, 23, 24, 23, 26, 28, 37, 45, 37, 24, 23, 29, 23, 31, 23, 26, 24, 27, 26, 52, 20, 58, 42, 20, 32, 23, 45, 30, 34, 28, 50, 22, 48, 22, 22, 21, 22, 28, 19, 25, 34, 27, 28, 27, 26, 26, 25, 38, 29, 47, 32, 35, 25, 25, 35, 24, 24, 21, 41, 25, 59, 44, 28, 37, 29, 23, 26, 23, 37, 49, 23, 23, 25, 32, 59, 24, 31, 26, 25, 25, 25, 67, 23, 22, 22, 48, 24, 24, 26, 54, 24, 33, 23, 42, 25, 21, 23, 23, 29, 35, 20, 27, 24, 40, 24, 65, 28, 33, 46, 33, 34, 25, 25, 32, 28, 22, 21, 22, 23, 28, 46, 30, 26, 29, 57, 26, 54, 29, 33, 64, 25, 64, 31, 27, 34, 50, 35, 33, 34, 34, 27, 27, 23, 55, 36, 29, 29, 67, 23, 36, 20, 61, 56, 26, 40, 35, 29, 29, 31, 27, 27, 23, 33, 34, 39, 35, 31, 28, 35, 29, 66, 39, 33, 28, 35, 26, 28, 40, 57, 40, 30, 67, 34, 40, 50, 34, 61, 27, 30, 40, 23, 27, 40, 30, 33, 34, 35, 61, 27, 35, 33, 27, 40, 29, 34, 31, 28, 57, 22, 57, 57, 29, 29, 34, 34, 55, 61, 53, 29, 33, 35, 30, 23, 35, 34, 35, 57, 29, 40, 26, 40, 35, 66, 28, 75, 36, 61, 39, 30, 66, 56, 29, 30, 29, 28, 67, 28, 37, 28, 31, 57, 34, 34, 22, 56, 22, 33, 34, 50, 66, 28, 23, 55, 28, 34, 75, 28, 33, 29, 50, 29, 66, 50, 36, 30, 29, 27, 29, 28, 23, 31, 33], \"y0\": \" \", \"yaxis\": \"y\"}],\n",
              "                        {\"boxmode\": \"group\", \"legend\": {\"tracegroupgap\": 0}, \"margin\": {\"t\": 60}, \"template\": {\"data\": {\"bar\": [{\"error_x\": {\"color\": \"#2a3f5f\"}, \"error_y\": {\"color\": \"#2a3f5f\"}, \"marker\": {\"line\": {\"color\": \"#E5ECF6\", \"width\": 0.5}}, \"type\": \"bar\"}], \"barpolar\": [{\"marker\": {\"line\": {\"color\": \"#E5ECF6\", \"width\": 0.5}}, \"type\": \"barpolar\"}], \"carpet\": [{\"aaxis\": {\"endlinecolor\": \"#2a3f5f\", \"gridcolor\": \"white\", \"linecolor\": \"white\", \"minorgridcolor\": \"white\", \"startlinecolor\": \"#2a3f5f\"}, \"baxis\": {\"endlinecolor\": \"#2a3f5f\", \"gridcolor\": \"white\", \"linecolor\": \"white\", \"minorgridcolor\": \"white\", \"startlinecolor\": \"#2a3f5f\"}, \"type\": \"carpet\"}], \"choropleth\": [{\"colorbar\": {\"outlinewidth\": 0, \"ticks\": \"\"}, \"type\": \"choropleth\"}], \"contour\": [{\"colorbar\": {\"outlinewidth\": 0, \"ticks\": \"\"}, \"colorscale\": [[0.0, \"#0d0887\"], [0.1111111111111111, \"#46039f\"], [0.2222222222222222, \"#7201a8\"], [0.3333333333333333, \"#9c179e\"], [0.4444444444444444, \"#bd3786\"], [0.5555555555555556, \"#d8576b\"], [0.6666666666666666, \"#ed7953\"], [0.7777777777777778, \"#fb9f3a\"], [0.8888888888888888, \"#fdca26\"], [1.0, \"#f0f921\"]], \"type\": \"contour\"}], \"contourcarpet\": [{\"colorbar\": {\"outlinewidth\": 0, \"ticks\": \"\"}, \"type\": \"contourcarpet\"}], \"heatmap\": [{\"colorbar\": {\"outlinewidth\": 0, \"ticks\": \"\"}, \"colorscale\": [[0.0, \"#0d0887\"], [0.1111111111111111, \"#46039f\"], [0.2222222222222222, \"#7201a8\"], [0.3333333333333333, \"#9c179e\"], [0.4444444444444444, \"#bd3786\"], [0.5555555555555556, \"#d8576b\"], [0.6666666666666666, \"#ed7953\"], [0.7777777777777778, \"#fb9f3a\"], [0.8888888888888888, \"#fdca26\"], [1.0, \"#f0f921\"]], \"type\": \"heatmap\"}], \"heatmapgl\": [{\"colorbar\": {\"outlinewidth\": 0, \"ticks\": \"\"}, \"colorscale\": [[0.0, \"#0d0887\"], [0.1111111111111111, \"#46039f\"], [0.2222222222222222, \"#7201a8\"], [0.3333333333333333, \"#9c179e\"], [0.4444444444444444, \"#bd3786\"], [0.5555555555555556, \"#d8576b\"], [0.6666666666666666, \"#ed7953\"], [0.7777777777777778, \"#fb9f3a\"], [0.8888888888888888, \"#fdca26\"], [1.0, \"#f0f921\"]], \"type\": \"heatmapgl\"}], \"histogram\": [{\"marker\": {\"colorbar\": {\"outlinewidth\": 0, \"ticks\": \"\"}}, \"type\": \"histogram\"}], \"histogram2d\": [{\"colorbar\": {\"outlinewidth\": 0, \"ticks\": \"\"}, \"colorscale\": [[0.0, \"#0d0887\"], [0.1111111111111111, \"#46039f\"], [0.2222222222222222, \"#7201a8\"], [0.3333333333333333, \"#9c179e\"], [0.4444444444444444, \"#bd3786\"], [0.5555555555555556, \"#d8576b\"], [0.6666666666666666, \"#ed7953\"], [0.7777777777777778, \"#fb9f3a\"], [0.8888888888888888, \"#fdca26\"], [1.0, \"#f0f921\"]], \"type\": \"histogram2d\"}], \"histogram2dcontour\": [{\"colorbar\": {\"outlinewidth\": 0, \"ticks\": \"\"}, \"colorscale\": [[0.0, \"#0d0887\"], [0.1111111111111111, \"#46039f\"], [0.2222222222222222, \"#7201a8\"], [0.3333333333333333, \"#9c179e\"], [0.4444444444444444, \"#bd3786\"], [0.5555555555555556, \"#d8576b\"], [0.6666666666666666, \"#ed7953\"], [0.7777777777777778, \"#fb9f3a\"], [0.8888888888888888, \"#fdca26\"], [1.0, \"#f0f921\"]], \"type\": \"histogram2dcontour\"}], \"mesh3d\": [{\"colorbar\": {\"outlinewidth\": 0, \"ticks\": \"\"}, \"type\": \"mesh3d\"}], \"parcoords\": [{\"line\": {\"colorbar\": {\"outlinewidth\": 0, \"ticks\": \"\"}}, \"type\": \"parcoords\"}], \"pie\": [{\"automargin\": true, \"type\": \"pie\"}], \"scatter\": [{\"marker\": {\"colorbar\": {\"outlinewidth\": 0, \"ticks\": \"\"}}, \"type\": \"scatter\"}], \"scatter3d\": [{\"line\": {\"colorbar\": {\"outlinewidth\": 0, \"ticks\": \"\"}}, \"marker\": {\"colorbar\": {\"outlinewidth\": 0, \"ticks\": \"\"}}, \"type\": \"scatter3d\"}], \"scattercarpet\": [{\"marker\": {\"colorbar\": {\"outlinewidth\": 0, \"ticks\": \"\"}}, \"type\": \"scattercarpet\"}], \"scattergeo\": [{\"marker\": {\"colorbar\": {\"outlinewidth\": 0, \"ticks\": \"\"}}, \"type\": \"scattergeo\"}], \"scattergl\": [{\"marker\": {\"colorbar\": {\"outlinewidth\": 0, \"ticks\": \"\"}}, \"type\": \"scattergl\"}], \"scattermapbox\": [{\"marker\": {\"colorbar\": {\"outlinewidth\": 0, \"ticks\": \"\"}}, \"type\": \"scattermapbox\"}], \"scatterpolar\": [{\"marker\": {\"colorbar\": {\"outlinewidth\": 0, \"ticks\": \"\"}}, \"type\": \"scatterpolar\"}], \"scatterpolargl\": [{\"marker\": {\"colorbar\": {\"outlinewidth\": 0, \"ticks\": \"\"}}, \"type\": \"scatterpolargl\"}], \"scatterternary\": [{\"marker\": {\"colorbar\": {\"outlinewidth\": 0, \"ticks\": \"\"}}, \"type\": \"scatterternary\"}], \"surface\": [{\"colorbar\": {\"outlinewidth\": 0, \"ticks\": \"\"}, \"colorscale\": [[0.0, \"#0d0887\"], [0.1111111111111111, \"#46039f\"], [0.2222222222222222, \"#7201a8\"], [0.3333333333333333, \"#9c179e\"], [0.4444444444444444, \"#bd3786\"], [0.5555555555555556, \"#d8576b\"], [0.6666666666666666, \"#ed7953\"], [0.7777777777777778, \"#fb9f3a\"], [0.8888888888888888, \"#fdca26\"], [1.0, \"#f0f921\"]], \"type\": \"surface\"}], \"table\": [{\"cells\": {\"fill\": {\"color\": \"#EBF0F8\"}, \"line\": {\"color\": \"white\"}}, \"header\": {\"fill\": {\"color\": \"#C8D4E3\"}, \"line\": {\"color\": \"white\"}}, \"type\": \"table\"}]}, \"layout\": {\"annotationdefaults\": {\"arrowcolor\": \"#2a3f5f\", \"arrowhead\": 0, \"arrowwidth\": 1}, \"coloraxis\": {\"colorbar\": {\"outlinewidth\": 0, \"ticks\": \"\"}}, \"colorscale\": {\"diverging\": [[0, \"#8e0152\"], [0.1, \"#c51b7d\"], [0.2, \"#de77ae\"], [0.3, \"#f1b6da\"], [0.4, \"#fde0ef\"], [0.5, \"#f7f7f7\"], [0.6, \"#e6f5d0\"], [0.7, \"#b8e186\"], [0.8, \"#7fbc41\"], [0.9, \"#4d9221\"], [1, \"#276419\"]], \"sequential\": [[0.0, \"#0d0887\"], [0.1111111111111111, \"#46039f\"], [0.2222222222222222, \"#7201a8\"], [0.3333333333333333, \"#9c179e\"], [0.4444444444444444, \"#bd3786\"], [0.5555555555555556, \"#d8576b\"], [0.6666666666666666, \"#ed7953\"], [0.7777777777777778, \"#fb9f3a\"], [0.8888888888888888, \"#fdca26\"], [1.0, \"#f0f921\"]], \"sequentialminus\": [[0.0, \"#0d0887\"], [0.1111111111111111, \"#46039f\"], [0.2222222222222222, \"#7201a8\"], [0.3333333333333333, \"#9c179e\"], [0.4444444444444444, \"#bd3786\"], [0.5555555555555556, \"#d8576b\"], [0.6666666666666666, \"#ed7953\"], [0.7777777777777778, \"#fb9f3a\"], [0.8888888888888888, \"#fdca26\"], [1.0, \"#f0f921\"]]}, \"colorway\": [\"#636efa\", \"#EF553B\", \"#00cc96\", \"#ab63fa\", \"#FFA15A\", \"#19d3f3\", \"#FF6692\", \"#B6E880\", \"#FF97FF\", \"#FECB52\"], \"font\": {\"color\": \"#2a3f5f\"}, \"geo\": {\"bgcolor\": \"white\", \"lakecolor\": \"white\", \"landcolor\": \"#E5ECF6\", \"showlakes\": true, \"showland\": true, \"subunitcolor\": \"white\"}, \"hoverlabel\": {\"align\": \"left\"}, \"hovermode\": \"closest\", \"mapbox\": {\"style\": \"light\"}, \"paper_bgcolor\": \"white\", \"plot_bgcolor\": \"#E5ECF6\", \"polar\": {\"angularaxis\": {\"gridcolor\": \"white\", \"linecolor\": \"white\", \"ticks\": \"\"}, \"bgcolor\": \"#E5ECF6\", \"radialaxis\": {\"gridcolor\": \"white\", \"linecolor\": \"white\", \"ticks\": \"\"}}, \"scene\": {\"xaxis\": {\"backgroundcolor\": \"#E5ECF6\", \"gridcolor\": \"white\", \"gridwidth\": 2, \"linecolor\": \"white\", \"showbackground\": true, \"ticks\": \"\", \"zerolinecolor\": \"white\"}, \"yaxis\": {\"backgroundcolor\": \"#E5ECF6\", \"gridcolor\": \"white\", \"gridwidth\": 2, \"linecolor\": \"white\", \"showbackground\": true, \"ticks\": \"\", \"zerolinecolor\": \"white\"}, \"zaxis\": {\"backgroundcolor\": \"#E5ECF6\", \"gridcolor\": \"white\", \"gridwidth\": 2, \"linecolor\": \"white\", \"showbackground\": true, \"ticks\": \"\", \"zerolinecolor\": \"white\"}}, \"shapedefaults\": {\"line\": {\"color\": \"#2a3f5f\"}}, \"ternary\": {\"aaxis\": {\"gridcolor\": \"white\", \"linecolor\": \"white\", \"ticks\": \"\"}, \"baxis\": {\"gridcolor\": \"white\", \"linecolor\": \"white\", \"ticks\": \"\"}, \"bgcolor\": \"#E5ECF6\", \"caxis\": {\"gridcolor\": \"white\", \"linecolor\": \"white\", \"ticks\": \"\"}}, \"title\": {\"x\": 0.05}, \"xaxis\": {\"automargin\": true, \"gridcolor\": \"white\", \"linecolor\": \"white\", \"ticks\": \"\", \"title\": {\"standoff\": 15}, \"zerolinecolor\": \"white\", \"zerolinewidth\": 2}, \"yaxis\": {\"automargin\": true, \"gridcolor\": \"white\", \"linecolor\": \"white\", \"ticks\": \"\", \"title\": {\"standoff\": 15}, \"zerolinecolor\": \"white\", \"zerolinewidth\": 2}}}, \"title\": {\"text\": \"Sex Vs Age Cross tabulation\", \"x\": 0.5, \"xanchor\": \"center\", \"y\": 0.95, \"yanchor\": \"top\"}, \"xaxis\": {\"anchor\": \"y\", \"categoryarray\": [\"male\", \"female\"], \"categoryorder\": \"array\", \"domain\": [0.0, 1.0], \"title\": {\"text\": \"Sex\"}}, \"yaxis\": {\"anchor\": \"x\", \"domain\": [0.0, 1.0], \"title\": {\"text\": \"Age\"}}},\n",
              "                        {\"responsive\": true}\n",
              "                    ).then(function(){\n",
              "                            \n",
              "var gd = document.getElementById('b1874d24-76b2-4b0a-8314-18518aaada51');\n",
              "var x = new MutationObserver(function (mutations, observer) {{\n",
              "        var display = window.getComputedStyle(gd).display;\n",
              "        if (!display || display === 'none') {{\n",
              "            console.log([gd, 'removed!']);\n",
              "            Plotly.purge(gd);\n",
              "            observer.disconnect();\n",
              "        }}\n",
              "}});\n",
              "\n",
              "// Listen for the removal of the full notebook cells\n",
              "var notebookContainer = gd.closest('#notebook-container');\n",
              "if (notebookContainer) {{\n",
              "    x.observe(notebookContainer, {childList: true});\n",
              "}}\n",
              "\n",
              "// Listen for the clearing of the current output cell\n",
              "var outputEl = gd.closest('.output');\n",
              "if (outputEl) {{\n",
              "    x.observe(outputEl, {childList: true});\n",
              "}}\n",
              "\n",
              "                        })\n",
              "                };\n",
              "                \n",
              "            </script>\n",
              "        </div>\n",
              "</body>\n",
              "</html>"
            ]
          },
          "metadata": {
            "tags": []
          }
        }
      ]
    },
    {
      "cell_type": "code",
      "metadata": {
        "colab": {
          "base_uri": "https://localhost:8080/",
          "height": 542
        },
        "id": "m0EA6lTym2Nd",
        "outputId": "32438937-f0f8-4ef5-bf85-0b87429c22d0"
      },
      "source": [
        "Purpose = df['Purpose']\n",
        "fig = px.histogram(df, x=\"Purpose\", color=\"Purpose\")\n",
        "fig.update_layout(\n",
        "    title={\n",
        "          'text':\"Purpose breakdown\",\n",
        "        'y':.95,\n",
        "        'x':.5,\n",
        "        'xanchor': 'center',\n",
        "        'yanchor': 'top'\n",
        "    }\n",
        "   \n",
        ")\n",
        "fig.show()"
      ],
      "execution_count": null,
      "outputs": [
        {
          "output_type": "display_data",
          "data": {
            "text/html": [
              "<html>\n",
              "<head><meta charset=\"utf-8\" /></head>\n",
              "<body>\n",
              "    <div>\n",
              "            <script src=\"https://cdnjs.cloudflare.com/ajax/libs/mathjax/2.7.5/MathJax.js?config=TeX-AMS-MML_SVG\"></script><script type=\"text/javascript\">if (window.MathJax) {MathJax.Hub.Config({SVG: {font: \"STIX-Web\"}});}</script>\n",
              "                <script type=\"text/javascript\">window.PlotlyConfig = {MathJaxConfig: 'local'};</script>\n",
              "        <script src=\"https://cdn.plot.ly/plotly-latest.min.js\"></script>    \n",
              "            <div id=\"b878ed57-a85d-4e88-a997-bfde50b23e92\" class=\"plotly-graph-div\" style=\"height:525px; width:100%;\"></div>\n",
              "            <script type=\"text/javascript\">\n",
              "                \n",
              "                    window.PLOTLYENV=window.PLOTLYENV || {};\n",
              "                    \n",
              "                if (document.getElementById(\"b878ed57-a85d-4e88-a997-bfde50b23e92\")) {\n",
              "                    Plotly.newPlot(\n",
              "                        'b878ed57-a85d-4e88-a997-bfde50b23e92',\n",
              "                        [{\"alignmentgroup\": \"True\", \"bingroup\": \"x\", \"hoverlabel\": {\"namelength\": 0}, \"hovertemplate\": \"Purpose=%{x}<br>count=%{y}\", \"legendgroup\": \"Purpose=radio/TV\", \"marker\": {\"color\": \"#636efa\"}, \"name\": \"Purpose=radio/TV\", \"offsetgroup\": \"Purpose=radio/TV\", \"orientation\": \"v\", \"showlegend\": true, \"type\": \"histogram\", \"x\": [\"radio/TV\", \"radio/TV\", \"radio/TV\", \"radio/TV\", \"radio/TV\", \"radio/TV\", \"radio/TV\", \"radio/TV\", \"radio/TV\", \"radio/TV\", \"radio/TV\", \"radio/TV\", \"radio/TV\", \"radio/TV\", \"radio/TV\", \"radio/TV\", \"radio/TV\", \"radio/TV\", \"radio/TV\", \"radio/TV\", \"radio/TV\", \"radio/TV\", \"radio/TV\", \"radio/TV\", \"radio/TV\", \"radio/TV\", \"radio/TV\", \"radio/TV\", \"radio/TV\", \"radio/TV\", \"radio/TV\", \"radio/TV\", \"radio/TV\", \"radio/TV\", \"radio/TV\", \"radio/TV\", \"radio/TV\", \"radio/TV\", \"radio/TV\", \"radio/TV\", \"radio/TV\", \"radio/TV\", \"radio/TV\", \"radio/TV\", \"radio/TV\", \"radio/TV\", \"radio/TV\", \"radio/TV\", \"radio/TV\", \"radio/TV\", \"radio/TV\", \"radio/TV\", \"radio/TV\", \"radio/TV\", \"radio/TV\", \"radio/TV\", \"radio/TV\", \"radio/TV\", \"radio/TV\", \"radio/TV\", \"radio/TV\", \"radio/TV\", \"radio/TV\", \"radio/TV\", \"radio/TV\", \"radio/TV\", \"radio/TV\", \"radio/TV\", \"radio/TV\", \"radio/TV\", \"radio/TV\", \"radio/TV\", \"radio/TV\", \"radio/TV\", \"radio/TV\", \"radio/TV\", \"radio/TV\", \"radio/TV\", \"radio/TV\", \"radio/TV\", \"radio/TV\", \"radio/TV\", \"radio/TV\", \"radio/TV\", \"radio/TV\", \"radio/TV\", \"radio/TV\", \"radio/TV\", \"radio/TV\", \"radio/TV\", \"radio/TV\", \"radio/TV\", \"radio/TV\", \"radio/TV\", \"radio/TV\", \"radio/TV\", \"radio/TV\", \"radio/TV\", \"radio/TV\", \"radio/TV\", \"radio/TV\", \"radio/TV\", \"radio/TV\", \"radio/TV\", \"radio/TV\", \"radio/TV\", \"radio/TV\", \"radio/TV\", \"radio/TV\", \"radio/TV\", \"radio/TV\", \"radio/TV\", \"radio/TV\", \"radio/TV\", \"radio/TV\", \"radio/TV\", \"radio/TV\", \"radio/TV\", \"radio/TV\", \"radio/TV\", \"radio/TV\", \"radio/TV\", \"radio/TV\", \"radio/TV\", \"radio/TV\", \"radio/TV\", \"radio/TV\", \"radio/TV\", \"radio/TV\", \"radio/TV\", \"radio/TV\", \"radio/TV\", \"radio/TV\", \"radio/TV\", \"radio/TV\", \"radio/TV\", \"radio/TV\", \"radio/TV\", \"radio/TV\", \"radio/TV\", \"radio/TV\", \"radio/TV\", \"radio/TV\", \"radio/TV\", \"radio/TV\", \"radio/TV\", \"radio/TV\", \"radio/TV\", \"radio/TV\", \"radio/TV\", \"radio/TV\", \"radio/TV\", \"radio/TV\", \"radio/TV\", \"radio/TV\", \"radio/TV\", \"radio/TV\", \"radio/TV\", \"radio/TV\", \"radio/TV\", \"radio/TV\", \"radio/TV\", \"radio/TV\", \"radio/TV\", \"radio/TV\", \"radio/TV\", \"radio/TV\", \"radio/TV\", \"radio/TV\", \"radio/TV\", \"radio/TV\", \"radio/TV\", \"radio/TV\", \"radio/TV\", \"radio/TV\", \"radio/TV\", \"radio/TV\", \"radio/TV\", \"radio/TV\", \"radio/TV\", \"radio/TV\", \"radio/TV\", \"radio/TV\", \"radio/TV\", \"radio/TV\", \"radio/TV\", \"radio/TV\", \"radio/TV\", \"radio/TV\", \"radio/TV\", \"radio/TV\", \"radio/TV\", \"radio/TV\", \"radio/TV\", \"radio/TV\", \"radio/TV\", \"radio/TV\", \"radio/TV\", \"radio/TV\", \"radio/TV\", \"radio/TV\", \"radio/TV\", \"radio/TV\", \"radio/TV\", \"radio/TV\", \"radio/TV\", \"radio/TV\", \"radio/TV\", \"radio/TV\", \"radio/TV\", \"radio/TV\", \"radio/TV\", \"radio/TV\", \"radio/TV\", \"radio/TV\", \"radio/TV\", \"radio/TV\", \"radio/TV\", \"radio/TV\", \"radio/TV\", \"radio/TV\", \"radio/TV\", \"radio/TV\", \"radio/TV\", \"radio/TV\", \"radio/TV\", \"radio/TV\", \"radio/TV\", \"radio/TV\", \"radio/TV\", \"radio/TV\", \"radio/TV\", \"radio/TV\", \"radio/TV\", \"radio/TV\", \"radio/TV\", \"radio/TV\", \"radio/TV\", \"radio/TV\", \"radio/TV\", \"radio/TV\", \"radio/TV\", \"radio/TV\", \"radio/TV\", \"radio/TV\", \"radio/TV\", \"radio/TV\", \"radio/TV\", \"radio/TV\", \"radio/TV\", \"radio/TV\", \"radio/TV\", \"radio/TV\", \"radio/TV\", \"radio/TV\", \"radio/TV\", \"radio/TV\", \"radio/TV\", \"radio/TV\", \"radio/TV\", \"radio/TV\", \"radio/TV\", \"radio/TV\", \"radio/TV\", \"radio/TV\", \"radio/TV\", \"radio/TV\", \"radio/TV\", \"radio/TV\", \"radio/TV\", \"radio/TV\", \"radio/TV\", \"radio/TV\", \"radio/TV\", \"radio/TV\", \"radio/TV\", \"radio/TV\", \"radio/TV\", \"radio/TV\", \"radio/TV\", \"radio/TV\", \"radio/TV\", \"radio/TV\", \"radio/TV\", \"radio/TV\", \"radio/TV\", \"radio/TV\", \"radio/TV\", \"radio/TV\", \"radio/TV\", \"radio/TV\", \"radio/TV\", \"radio/TV\", \"radio/TV\", \"radio/TV\", \"radio/TV\", \"radio/TV\", \"radio/TV\", \"radio/TV\", \"radio/TV\", \"radio/TV\", \"radio/TV\", \"radio/TV\", \"radio/TV\", \"radio/TV\", \"radio/TV\", \"radio/TV\", \"radio/TV\", \"radio/TV\", \"radio/TV\", \"radio/TV\", \"radio/TV\", \"radio/TV\", \"radio/TV\", \"radio/TV\", \"radio/TV\", \"radio/TV\", \"radio/TV\", \"radio/TV\", \"radio/TV\", \"radio/TV\", \"radio/TV\", \"radio/TV\", \"radio/TV\", \"radio/TV\", \"radio/TV\", \"radio/TV\", \"radio/TV\", \"radio/TV\", \"radio/TV\", \"radio/TV\", \"radio/TV\", \"radio/TV\", \"radio/TV\", \"radio/TV\", \"radio/TV\", \"radio/TV\", \"radio/TV\", \"radio/TV\", \"radio/TV\", \"radio/TV\", \"radio/TV\", \"radio/TV\", \"radio/TV\", \"radio/TV\", \"radio/TV\", \"radio/TV\", \"radio/TV\", \"radio/TV\", \"radio/TV\", \"radio/TV\", \"radio/TV\", \"radio/TV\", \"radio/TV\", \"radio/TV\", \"radio/TV\", \"radio/TV\", \"radio/TV\", \"radio/TV\", \"radio/TV\", \"radio/TV\", \"radio/TV\", \"radio/TV\", \"radio/TV\", \"radio/TV\", \"radio/TV\", \"radio/TV\", \"radio/TV\", \"radio/TV\", \"radio/TV\", \"radio/TV\", \"radio/TV\", \"radio/TV\", \"radio/TV\", \"radio/TV\", \"radio/TV\", \"radio/TV\", \"radio/TV\", \"radio/TV\", \"radio/TV\", \"radio/TV\", \"radio/TV\", \"radio/TV\", \"radio/TV\", \"radio/TV\", \"radio/TV\", \"radio/TV\", \"radio/TV\", \"radio/TV\", \"radio/TV\", \"radio/TV\", \"radio/TV\", \"radio/TV\", \"radio/TV\", \"radio/TV\", \"radio/TV\", \"radio/TV\", \"radio/TV\", \"radio/TV\", \"radio/TV\", \"radio/TV\", \"radio/TV\", \"radio/TV\", \"radio/TV\", \"radio/TV\", \"radio/TV\", \"radio/TV\", \"radio/TV\", \"radio/TV\", \"radio/TV\", \"radio/TV\", \"radio/TV\", \"radio/TV\", \"radio/TV\", \"radio/TV\", \"radio/TV\", \"radio/TV\", \"radio/TV\", \"radio/TV\", \"radio/TV\", \"radio/TV\", \"radio/TV\", \"radio/TV\", \"radio/TV\", \"radio/TV\", \"radio/TV\", \"radio/TV\", \"radio/TV\", \"radio/TV\", \"radio/TV\", \"radio/TV\", \"radio/TV\", \"radio/TV\", \"radio/TV\", \"radio/TV\", \"radio/TV\"], \"xaxis\": \"x\", \"yaxis\": \"y\"}, {\"alignmentgroup\": \"True\", \"bingroup\": \"x\", \"hoverlabel\": {\"namelength\": 0}, \"hovertemplate\": \"Purpose=%{x}<br>count=%{y}\", \"legendgroup\": \"Purpose=education\", \"marker\": {\"color\": \"#EF553B\"}, \"name\": \"Purpose=education\", \"offsetgroup\": \"Purpose=education\", \"orientation\": \"v\", \"showlegend\": true, \"type\": \"histogram\", \"x\": [\"education\", \"education\", \"education\", \"education\", \"education\", \"education\", \"education\", \"education\", \"education\", \"education\", \"education\", \"education\", \"education\", \"education\", \"education\", \"education\", \"education\", \"education\", \"education\", \"education\", \"education\", \"education\", \"education\", \"education\", \"education\", \"education\", \"education\", \"education\", \"education\", \"education\", \"education\", \"education\", \"education\", \"education\", \"education\", \"education\", \"education\", \"education\", \"education\", \"education\", \"education\", \"education\", \"education\", \"education\", \"education\", \"education\", \"education\", \"education\", \"education\", \"education\", \"education\", \"education\", \"education\", \"education\", \"education\", \"education\", \"education\", \"education\", \"education\", \"education\", \"education\", \"education\", \"education\", \"education\", \"education\", \"education\", \"education\", \"education\", \"education\", \"education\", \"education\", \"education\", \"education\", \"education\", \"education\", \"education\", \"education\", \"education\", \"education\", \"education\", \"education\", \"education\", \"education\", \"education\", \"education\", \"education\", \"education\", \"education\", \"education\", \"education\", \"education\", \"education\", \"education\", \"education\", \"education\", \"education\", \"education\", \"education\", \"education\", \"education\", \"education\", \"education\", \"education\", \"education\", \"education\", \"education\"], \"xaxis\": \"x\", \"yaxis\": \"y\"}, {\"alignmentgroup\": \"True\", \"bingroup\": \"x\", \"hoverlabel\": {\"namelength\": 0}, \"hovertemplate\": \"Purpose=%{x}<br>count=%{y}\", \"legendgroup\": \"Purpose=furniture/equipment\", \"marker\": {\"color\": \"#00cc96\"}, \"name\": \"Purpose=furniture/equipment\", \"offsetgroup\": \"Purpose=furniture/equipment\", \"orientation\": \"v\", \"showlegend\": true, \"type\": \"histogram\", \"x\": [\"furniture/equipment\", \"furniture/equipment\", \"furniture/equipment\", \"furniture/equipment\", \"furniture/equipment\", \"furniture/equipment\", \"furniture/equipment\", \"furniture/equipment\", \"furniture/equipment\", \"furniture/equipment\", \"furniture/equipment\", \"furniture/equipment\", \"furniture/equipment\", \"furniture/equipment\", \"furniture/equipment\", \"furniture/equipment\", \"furniture/equipment\", \"furniture/equipment\", \"furniture/equipment\", \"furniture/equipment\", \"furniture/equipment\", \"furniture/equipment\", \"furniture/equipment\", \"furniture/equipment\", \"furniture/equipment\", \"furniture/equipment\", \"furniture/equipment\", \"furniture/equipment\", \"furniture/equipment\", \"furniture/equipment\", \"furniture/equipment\", \"furniture/equipment\", \"furniture/equipment\", \"furniture/equipment\", \"furniture/equipment\", \"furniture/equipment\", \"furniture/equipment\", \"furniture/equipment\", \"furniture/equipment\", \"furniture/equipment\", \"furniture/equipment\", \"furniture/equipment\", \"furniture/equipment\", \"furniture/equipment\", \"furniture/equipment\", \"furniture/equipment\", \"furniture/equipment\", \"furniture/equipment\", \"furniture/equipment\", \"furniture/equipment\", \"furniture/equipment\", \"furniture/equipment\", \"furniture/equipment\", \"furniture/equipment\", \"furniture/equipment\", \"furniture/equipment\", \"furniture/equipment\", \"furniture/equipment\", \"furniture/equipment\", \"furniture/equipment\", \"furniture/equipment\", \"furniture/equipment\", \"furniture/equipment\", \"furniture/equipment\", \"furniture/equipment\", \"furniture/equipment\", \"furniture/equipment\", \"furniture/equipment\", \"furniture/equipment\", \"furniture/equipment\", \"furniture/equipment\", \"furniture/equipment\", \"furniture/equipment\", \"furniture/equipment\", \"furniture/equipment\", \"furniture/equipment\", \"furniture/equipment\", \"furniture/equipment\", \"furniture/equipment\", \"furniture/equipment\", \"furniture/equipment\", \"furniture/equipment\", \"furniture/equipment\", \"furniture/equipment\", \"furniture/equipment\", \"furniture/equipment\", \"furniture/equipment\", \"furniture/equipment\", \"furniture/equipment\", \"furniture/equipment\", \"furniture/equipment\", \"furniture/equipment\", \"furniture/equipment\", \"furniture/equipment\", \"furniture/equipment\", \"furniture/equipment\", \"furniture/equipment\", \"furniture/equipment\", \"furniture/equipment\", \"furniture/equipment\", \"furniture/equipment\", \"furniture/equipment\", \"furniture/equipment\", \"furniture/equipment\", \"furniture/equipment\", \"furniture/equipment\", \"furniture/equipment\", \"furniture/equipment\", \"furniture/equipment\", \"furniture/equipment\", \"furniture/equipment\", \"furniture/equipment\", \"furniture/equipment\", \"furniture/equipment\", \"furniture/equipment\", \"furniture/equipment\", \"furniture/equipment\", \"furniture/equipment\", \"furniture/equipment\", \"furniture/equipment\", \"furniture/equipment\", \"furniture/equipment\", \"furniture/equipment\", \"furniture/equipment\", \"furniture/equipment\", \"furniture/equipment\", \"furniture/equipment\", \"furniture/equipment\", \"furniture/equipment\", \"furniture/equipment\", \"furniture/equipment\", \"furniture/equipment\", \"furniture/equipment\", \"furniture/equipment\", \"furniture/equipment\", \"furniture/equipment\", \"furniture/equipment\", \"furniture/equipment\", \"furniture/equipment\", \"furniture/equipment\", \"furniture/equipment\", \"furniture/equipment\", \"furniture/equipment\", \"furniture/equipment\", \"furniture/equipment\", \"furniture/equipment\", \"furniture/equipment\", \"furniture/equipment\", \"furniture/equipment\", \"furniture/equipment\", \"furniture/equipment\", \"furniture/equipment\", \"furniture/equipment\", \"furniture/equipment\", \"furniture/equipment\", \"furniture/equipment\", \"furniture/equipment\", \"furniture/equipment\", \"furniture/equipment\", \"furniture/equipment\", \"furniture/equipment\", \"furniture/equipment\", \"furniture/equipment\", \"furniture/equipment\", \"furniture/equipment\", \"furniture/equipment\", \"furniture/equipment\", \"furniture/equipment\", \"furniture/equipment\", \"furniture/equipment\", \"furniture/equipment\", \"furniture/equipment\", \"furniture/equipment\", \"furniture/equipment\", \"furniture/equipment\", \"furniture/equipment\", \"furniture/equipment\", \"furniture/equipment\", \"furniture/equipment\", \"furniture/equipment\", \"furniture/equipment\", \"furniture/equipment\", \"furniture/equipment\", \"furniture/equipment\", \"furniture/equipment\", \"furniture/equipment\", \"furniture/equipment\", \"furniture/equipment\", \"furniture/equipment\", \"furniture/equipment\", \"furniture/equipment\", \"furniture/equipment\", \"furniture/equipment\", \"furniture/equipment\", \"furniture/equipment\", \"furniture/equipment\", \"furniture/equipment\", \"furniture/equipment\", \"furniture/equipment\", \"furniture/equipment\", \"furniture/equipment\", \"furniture/equipment\", \"furniture/equipment\", \"furniture/equipment\", \"furniture/equipment\", \"furniture/equipment\", \"furniture/equipment\", \"furniture/equipment\", \"furniture/equipment\", \"furniture/equipment\", \"furniture/equipment\", \"furniture/equipment\", \"furniture/equipment\", \"furniture/equipment\", \"furniture/equipment\", \"furniture/equipment\", \"furniture/equipment\", \"furniture/equipment\", \"furniture/equipment\", \"furniture/equipment\", \"furniture/equipment\", \"furniture/equipment\", \"furniture/equipment\", \"furniture/equipment\", \"furniture/equipment\", \"furniture/equipment\", \"furniture/equipment\", \"furniture/equipment\", \"furniture/equipment\", \"furniture/equipment\", \"furniture/equipment\", \"furniture/equipment\", \"furniture/equipment\", \"furniture/equipment\", \"furniture/equipment\", \"furniture/equipment\", \"furniture/equipment\", \"furniture/equipment\", \"furniture/equipment\", \"furniture/equipment\", \"furniture/equipment\", \"furniture/equipment\", \"furniture/equipment\", \"furniture/equipment\", \"furniture/equipment\", \"furniture/equipment\", \"furniture/equipment\", \"furniture/equipment\"], \"xaxis\": \"x\", \"yaxis\": \"y\"}, {\"alignmentgroup\": \"True\", \"bingroup\": \"x\", \"hoverlabel\": {\"namelength\": 0}, \"hovertemplate\": \"Purpose=%{x}<br>count=%{y}\", \"legendgroup\": \"Purpose=car\", \"marker\": {\"color\": \"#ab63fa\"}, \"name\": \"Purpose=car\", \"offsetgroup\": \"Purpose=car\", \"orientation\": \"v\", \"showlegend\": true, \"type\": \"histogram\", \"x\": [\"car\", \"car\", \"car\", \"car\", \"car\", \"car\", \"car\", \"car\", \"car\", \"car\", \"car\", \"car\", \"car\", \"car\", \"car\", \"car\", \"car\", \"car\", \"car\", \"car\", \"car\", \"car\", \"car\", \"car\", \"car\", \"car\", \"car\", \"car\", \"car\", \"car\", \"car\", \"car\", \"car\", \"car\", \"car\", \"car\", \"car\", \"car\", \"car\", \"car\", \"car\", \"car\", \"car\", \"car\", \"car\", \"car\", \"car\", \"car\", \"car\", \"car\", \"car\", \"car\", \"car\", \"car\", \"car\", \"car\", \"car\", \"car\", \"car\", \"car\", \"car\", \"car\", \"car\", \"car\", \"car\", \"car\", \"car\", \"car\", \"car\", \"car\", \"car\", \"car\", \"car\", \"car\", \"car\", \"car\", \"car\", \"car\", \"car\", \"car\", \"car\", \"car\", \"car\", \"car\", \"car\", \"car\", \"car\", \"car\", \"car\", \"car\", \"car\", \"car\", \"car\", \"car\", \"car\", \"car\", \"car\", \"car\", \"car\", \"car\", \"car\", \"car\", \"car\", \"car\", \"car\", \"car\", \"car\", \"car\", \"car\", \"car\", \"car\", \"car\", \"car\", \"car\", \"car\", \"car\", \"car\", \"car\", \"car\", \"car\", \"car\", \"car\", \"car\", \"car\", \"car\", \"car\", \"car\", \"car\", \"car\", \"car\", \"car\", \"car\", \"car\", \"car\", \"car\", \"car\", \"car\", \"car\", \"car\", \"car\", \"car\", \"car\", \"car\", \"car\", \"car\", \"car\", \"car\", \"car\", \"car\", \"car\", \"car\", \"car\", \"car\", \"car\", \"car\", \"car\", \"car\", \"car\", \"car\", \"car\", \"car\", \"car\", \"car\", \"car\", \"car\", \"car\", \"car\", \"car\", \"car\", \"car\", \"car\", \"car\", \"car\", \"car\", \"car\", \"car\", \"car\", \"car\", \"car\", \"car\", \"car\", \"car\", \"car\", \"car\", \"car\", \"car\", \"car\", \"car\", \"car\", \"car\", \"car\", \"car\", \"car\", \"car\", \"car\", \"car\", \"car\", \"car\", \"car\", \"car\", \"car\", \"car\", \"car\", \"car\", \"car\", \"car\", \"car\", \"car\", \"car\", \"car\", \"car\", \"car\", \"car\", \"car\", \"car\", \"car\", \"car\", \"car\", \"car\", \"car\", \"car\", \"car\", \"car\", \"car\", \"car\", \"car\", \"car\", \"car\", \"car\", \"car\", \"car\", \"car\", \"car\", \"car\", \"car\", \"car\", \"car\", \"car\", \"car\", \"car\", \"car\", \"car\", \"car\", \"car\", \"car\", \"car\", \"car\", \"car\", \"car\", \"car\", \"car\", \"car\", \"car\", \"car\", \"car\", \"car\", \"car\", \"car\", \"car\", \"car\", \"car\", \"car\", \"car\", \"car\", \"car\", \"car\", \"car\", \"car\", \"car\", \"car\", \"car\", \"car\", \"car\", \"car\", \"car\", \"car\", \"car\", \"car\", \"car\", \"car\", \"car\", \"car\", \"car\", \"car\", \"car\", \"car\", \"car\", \"car\", \"car\", \"car\", \"car\", \"car\", \"car\", \"car\", \"car\", \"car\", \"car\", \"car\", \"car\", \"car\", \"car\", \"car\", \"car\", \"car\", \"car\", \"car\", \"car\", \"car\", \"car\", \"car\", \"car\", \"car\", \"car\", \"car\", \"car\", \"car\", \"car\", \"car\", \"car\", \"car\", \"car\", \"car\", \"car\", \"car\", \"car\", \"car\", \"car\", \"car\", \"car\", \"car\", \"car\", \"car\", \"car\", \"car\", \"car\", \"car\", \"car\", \"car\", \"car\", \"car\", \"car\", \"car\", \"car\", \"car\", \"car\", \"car\", \"car\", \"car\", \"car\", \"car\", \"car\", \"car\", \"car\", \"car\", \"car\", \"car\", \"car\", \"car\", \"car\", \"car\", \"car\", \"car\", \"car\", \"car\", \"car\", \"car\", \"car\", \"car\", \"car\", \"car\", \"car\", \"car\", \"car\", \"car\", \"car\", \"car\", \"car\", \"car\", \"car\", \"car\", \"car\", \"car\", \"car\", \"car\", \"car\", \"car\", \"car\", \"car\", \"car\", \"car\", \"car\", \"car\", \"car\", \"car\", \"car\", \"car\", \"car\", \"car\", \"car\", \"car\", \"car\", \"car\", \"car\", \"car\", \"car\", \"car\", \"car\", \"car\", \"car\", \"car\", \"car\", \"car\", \"car\", \"car\", \"car\", \"car\", \"car\", \"car\", \"car\", \"car\", \"car\", \"car\", \"car\", \"car\", \"car\", \"car\", \"car\", \"car\", \"car\", \"car\", \"car\", \"car\", \"car\", \"car\", \"car\", \"car\", \"car\", \"car\", \"car\", \"car\", \"car\", \"car\", \"car\", \"car\", \"car\", \"car\", \"car\", \"car\", \"car\", \"car\", \"car\", \"car\", \"car\", \"car\", \"car\"], \"xaxis\": \"x\", \"yaxis\": \"y\"}, {\"alignmentgroup\": \"True\", \"bingroup\": \"x\", \"hoverlabel\": {\"namelength\": 0}, \"hovertemplate\": \"Purpose=%{x}<br>count=%{y}\", \"legendgroup\": \"Purpose=business\", \"marker\": {\"color\": \"#FFA15A\"}, \"name\": \"Purpose=business\", \"offsetgroup\": \"Purpose=business\", \"orientation\": \"v\", \"showlegend\": true, \"type\": \"histogram\", \"x\": [\"business\", \"business\", \"business\", \"business\", \"business\", \"business\", \"business\", \"business\", \"business\", \"business\", \"business\", \"business\", \"business\", \"business\", \"business\", \"business\", \"business\", \"business\", \"business\", \"business\", \"business\", \"business\", \"business\", \"business\", \"business\", \"business\", \"business\", \"business\", \"business\", \"business\", \"business\", \"business\", \"business\", \"business\", \"business\", \"business\", \"business\", \"business\", \"business\", \"business\", \"business\", \"business\", \"business\", \"business\", \"business\", \"business\", \"business\", \"business\", \"business\", \"business\", \"business\", \"business\", \"business\", \"business\", \"business\", \"business\", \"business\", \"business\", \"business\", \"business\", \"business\", \"business\", \"business\", \"business\", \"business\", \"business\", \"business\", \"business\", \"business\", \"business\", \"business\", \"business\", \"business\", \"business\", \"business\", \"business\", \"business\", \"business\", \"business\", \"business\", \"business\", \"business\", \"business\", \"business\", \"business\", \"business\", \"business\", \"business\", \"business\", \"business\", \"business\", \"business\", \"business\", \"business\", \"business\", \"business\", \"business\", \"business\", \"business\", \"business\", \"business\", \"business\", \"business\", \"business\", \"business\", \"business\", \"business\", \"business\", \"business\", \"business\", \"business\", \"business\", \"business\", \"business\", \"business\", \"business\", \"business\", \"business\", \"business\", \"business\", \"business\", \"business\", \"business\", \"business\", \"business\", \"business\", \"business\", \"business\", \"business\", \"business\", \"business\", \"business\", \"business\", \"business\", \"business\", \"business\", \"business\", \"business\", \"business\", \"business\", \"business\", \"business\", \"business\", \"business\", \"business\", \"business\", \"business\", \"business\", \"business\", \"business\", \"business\", \"business\", \"business\", \"business\", \"business\", \"business\", \"business\", \"business\", \"business\", \"business\", \"business\", \"business\", \"business\", \"business\", \"business\", \"business\", \"business\", \"business\", \"business\", \"business\", \"business\", \"business\", \"business\", \"business\", \"business\", \"business\", \"business\", \"business\", \"business\", \"business\", \"business\", \"business\", \"business\", \"business\", \"business\", \"business\", \"business\", \"business\", \"business\", \"business\", \"business\", \"business\", \"business\", \"business\", \"business\", \"business\", \"business\", \"business\", \"business\", \"business\", \"business\", \"business\", \"business\", \"business\", \"business\", \"business\"], \"xaxis\": \"x\", \"yaxis\": \"y\"}, {\"alignmentgroup\": \"True\", \"bingroup\": \"x\", \"hoverlabel\": {\"namelength\": 0}, \"hovertemplate\": \"Purpose=%{x}<br>count=%{y}\", \"legendgroup\": \"Purpose=repairs\", \"marker\": {\"color\": \"#19d3f3\"}, \"name\": \"Purpose=repairs\", \"offsetgroup\": \"Purpose=repairs\", \"orientation\": \"v\", \"showlegend\": true, \"type\": \"histogram\", \"x\": [\"repairs\", \"repairs\", \"repairs\", \"repairs\", \"repairs\", \"repairs\", \"repairs\", \"repairs\", \"repairs\", \"repairs\", \"repairs\", \"repairs\", \"repairs\", \"repairs\", \"repairs\", \"repairs\", \"repairs\", \"repairs\", \"repairs\", \"repairs\", \"repairs\", \"repairs\", \"repairs\", \"repairs\", \"repairs\", \"repairs\", \"repairs\", \"repairs\", \"repairs\", \"repairs\"], \"xaxis\": \"x\", \"yaxis\": \"y\"}, {\"alignmentgroup\": \"True\", \"bingroup\": \"x\", \"hoverlabel\": {\"namelength\": 0}, \"hovertemplate\": \"Purpose=%{x}<br>count=%{y}\", \"legendgroup\": \"Purpose=vacation/others\", \"marker\": {\"color\": \"#FF6692\"}, \"name\": \"Purpose=vacation/others\", \"offsetgroup\": \"Purpose=vacation/others\", \"orientation\": \"v\", \"showlegend\": true, \"type\": \"histogram\", \"x\": [\"vacation/others\", \"vacation/others\", \"vacation/others\", \"vacation/others\", \"vacation/others\", \"vacation/others\", \"vacation/others\", \"vacation/others\", \"vacation/others\", \"vacation/others\", \"vacation/others\", \"vacation/others\", \"vacation/others\", \"vacation/others\", \"vacation/others\", \"vacation/others\", \"vacation/others\"], \"xaxis\": \"x\", \"yaxis\": \"y\"}, {\"alignmentgroup\": \"True\", \"bingroup\": \"x\", \"hoverlabel\": {\"namelength\": 0}, \"hovertemplate\": \"Purpose=%{x}<br>count=%{y}\", \"legendgroup\": \"Purpose=domestic appliances\", \"marker\": {\"color\": \"#B6E880\"}, \"name\": \"Purpose=domestic appliances\", \"offsetgroup\": \"Purpose=domestic appliances\", \"orientation\": \"v\", \"showlegend\": true, \"type\": \"histogram\", \"x\": [\"domestic appliances\", \"domestic appliances\", \"domestic appliances\", \"domestic appliances\", \"domestic appliances\", \"domestic appliances\", \"domestic appliances\", \"domestic appliances\", \"domestic appliances\", \"domestic appliances\", \"domestic appliances\", \"domestic appliances\", \"domestic appliances\", \"domestic appliances\", \"domestic appliances\", \"domestic appliances\", \"domestic appliances\", \"domestic appliances\", \"domestic appliances\", \"domestic appliances\"], \"xaxis\": \"x\", \"yaxis\": \"y\"}],\n",
              "                        {\"barmode\": \"relative\", \"legend\": {\"tracegroupgap\": 0}, \"margin\": {\"t\": 60}, \"template\": {\"data\": {\"bar\": [{\"error_x\": {\"color\": \"#2a3f5f\"}, \"error_y\": {\"color\": \"#2a3f5f\"}, \"marker\": {\"line\": {\"color\": \"#E5ECF6\", \"width\": 0.5}}, \"type\": \"bar\"}], \"barpolar\": [{\"marker\": {\"line\": {\"color\": \"#E5ECF6\", \"width\": 0.5}}, \"type\": \"barpolar\"}], \"carpet\": [{\"aaxis\": {\"endlinecolor\": \"#2a3f5f\", \"gridcolor\": \"white\", \"linecolor\": \"white\", \"minorgridcolor\": \"white\", \"startlinecolor\": \"#2a3f5f\"}, \"baxis\": {\"endlinecolor\": \"#2a3f5f\", \"gridcolor\": \"white\", \"linecolor\": \"white\", \"minorgridcolor\": \"white\", \"startlinecolor\": \"#2a3f5f\"}, \"type\": \"carpet\"}], \"choropleth\": [{\"colorbar\": {\"outlinewidth\": 0, \"ticks\": \"\"}, \"type\": \"choropleth\"}], \"contour\": [{\"colorbar\": {\"outlinewidth\": 0, \"ticks\": \"\"}, \"colorscale\": [[0.0, \"#0d0887\"], [0.1111111111111111, \"#46039f\"], [0.2222222222222222, \"#7201a8\"], [0.3333333333333333, \"#9c179e\"], [0.4444444444444444, \"#bd3786\"], [0.5555555555555556, \"#d8576b\"], [0.6666666666666666, \"#ed7953\"], [0.7777777777777778, \"#fb9f3a\"], [0.8888888888888888, \"#fdca26\"], [1.0, \"#f0f921\"]], \"type\": \"contour\"}], \"contourcarpet\": [{\"colorbar\": {\"outlinewidth\": 0, \"ticks\": \"\"}, \"type\": \"contourcarpet\"}], \"heatmap\": [{\"colorbar\": {\"outlinewidth\": 0, \"ticks\": \"\"}, \"colorscale\": [[0.0, \"#0d0887\"], [0.1111111111111111, \"#46039f\"], [0.2222222222222222, \"#7201a8\"], [0.3333333333333333, \"#9c179e\"], [0.4444444444444444, \"#bd3786\"], [0.5555555555555556, \"#d8576b\"], [0.6666666666666666, \"#ed7953\"], [0.7777777777777778, \"#fb9f3a\"], [0.8888888888888888, \"#fdca26\"], [1.0, \"#f0f921\"]], \"type\": \"heatmap\"}], \"heatmapgl\": [{\"colorbar\": {\"outlinewidth\": 0, \"ticks\": \"\"}, \"colorscale\": [[0.0, \"#0d0887\"], [0.1111111111111111, \"#46039f\"], [0.2222222222222222, \"#7201a8\"], [0.3333333333333333, \"#9c179e\"], [0.4444444444444444, \"#bd3786\"], [0.5555555555555556, \"#d8576b\"], [0.6666666666666666, \"#ed7953\"], [0.7777777777777778, \"#fb9f3a\"], [0.8888888888888888, \"#fdca26\"], [1.0, \"#f0f921\"]], \"type\": \"heatmapgl\"}], \"histogram\": [{\"marker\": {\"colorbar\": {\"outlinewidth\": 0, \"ticks\": \"\"}}, \"type\": \"histogram\"}], \"histogram2d\": [{\"colorbar\": {\"outlinewidth\": 0, \"ticks\": \"\"}, \"colorscale\": [[0.0, \"#0d0887\"], [0.1111111111111111, \"#46039f\"], [0.2222222222222222, \"#7201a8\"], [0.3333333333333333, \"#9c179e\"], [0.4444444444444444, \"#bd3786\"], [0.5555555555555556, \"#d8576b\"], [0.6666666666666666, \"#ed7953\"], [0.7777777777777778, \"#fb9f3a\"], [0.8888888888888888, \"#fdca26\"], [1.0, \"#f0f921\"]], \"type\": \"histogram2d\"}], \"histogram2dcontour\": [{\"colorbar\": {\"outlinewidth\": 0, \"ticks\": \"\"}, \"colorscale\": [[0.0, \"#0d0887\"], [0.1111111111111111, \"#46039f\"], [0.2222222222222222, \"#7201a8\"], [0.3333333333333333, \"#9c179e\"], [0.4444444444444444, \"#bd3786\"], [0.5555555555555556, \"#d8576b\"], [0.6666666666666666, \"#ed7953\"], [0.7777777777777778, \"#fb9f3a\"], [0.8888888888888888, \"#fdca26\"], [1.0, \"#f0f921\"]], \"type\": \"histogram2dcontour\"}], \"mesh3d\": [{\"colorbar\": {\"outlinewidth\": 0, \"ticks\": \"\"}, \"type\": \"mesh3d\"}], \"parcoords\": [{\"line\": {\"colorbar\": {\"outlinewidth\": 0, \"ticks\": \"\"}}, \"type\": \"parcoords\"}], \"pie\": [{\"automargin\": true, \"type\": \"pie\"}], \"scatter\": [{\"marker\": {\"colorbar\": {\"outlinewidth\": 0, \"ticks\": \"\"}}, \"type\": \"scatter\"}], \"scatter3d\": [{\"line\": {\"colorbar\": {\"outlinewidth\": 0, \"ticks\": \"\"}}, \"marker\": {\"colorbar\": {\"outlinewidth\": 0, \"ticks\": \"\"}}, \"type\": \"scatter3d\"}], \"scattercarpet\": [{\"marker\": {\"colorbar\": {\"outlinewidth\": 0, \"ticks\": \"\"}}, \"type\": \"scattercarpet\"}], \"scattergeo\": [{\"marker\": {\"colorbar\": {\"outlinewidth\": 0, \"ticks\": \"\"}}, \"type\": \"scattergeo\"}], \"scattergl\": [{\"marker\": {\"colorbar\": {\"outlinewidth\": 0, \"ticks\": \"\"}}, \"type\": \"scattergl\"}], \"scattermapbox\": [{\"marker\": {\"colorbar\": {\"outlinewidth\": 0, \"ticks\": \"\"}}, \"type\": \"scattermapbox\"}], \"scatterpolar\": [{\"marker\": {\"colorbar\": {\"outlinewidth\": 0, \"ticks\": \"\"}}, \"type\": \"scatterpolar\"}], \"scatterpolargl\": [{\"marker\": {\"colorbar\": {\"outlinewidth\": 0, \"ticks\": \"\"}}, \"type\": \"scatterpolargl\"}], \"scatterternary\": [{\"marker\": {\"colorbar\": {\"outlinewidth\": 0, \"ticks\": \"\"}}, \"type\": \"scatterternary\"}], \"surface\": [{\"colorbar\": {\"outlinewidth\": 0, \"ticks\": \"\"}, \"colorscale\": [[0.0, \"#0d0887\"], [0.1111111111111111, \"#46039f\"], [0.2222222222222222, \"#7201a8\"], [0.3333333333333333, \"#9c179e\"], [0.4444444444444444, \"#bd3786\"], [0.5555555555555556, \"#d8576b\"], [0.6666666666666666, \"#ed7953\"], [0.7777777777777778, \"#fb9f3a\"], [0.8888888888888888, \"#fdca26\"], [1.0, \"#f0f921\"]], \"type\": \"surface\"}], \"table\": [{\"cells\": {\"fill\": {\"color\": \"#EBF0F8\"}, \"line\": {\"color\": \"white\"}}, \"header\": {\"fill\": {\"color\": \"#C8D4E3\"}, \"line\": {\"color\": \"white\"}}, \"type\": \"table\"}]}, \"layout\": {\"annotationdefaults\": {\"arrowcolor\": \"#2a3f5f\", \"arrowhead\": 0, \"arrowwidth\": 1}, \"coloraxis\": {\"colorbar\": {\"outlinewidth\": 0, \"ticks\": \"\"}}, \"colorscale\": {\"diverging\": [[0, \"#8e0152\"], [0.1, \"#c51b7d\"], [0.2, \"#de77ae\"], [0.3, \"#f1b6da\"], [0.4, \"#fde0ef\"], [0.5, \"#f7f7f7\"], [0.6, \"#e6f5d0\"], [0.7, \"#b8e186\"], [0.8, \"#7fbc41\"], [0.9, \"#4d9221\"], [1, \"#276419\"]], \"sequential\": [[0.0, \"#0d0887\"], [0.1111111111111111, \"#46039f\"], [0.2222222222222222, \"#7201a8\"], [0.3333333333333333, \"#9c179e\"], [0.4444444444444444, \"#bd3786\"], [0.5555555555555556, \"#d8576b\"], [0.6666666666666666, \"#ed7953\"], [0.7777777777777778, \"#fb9f3a\"], [0.8888888888888888, \"#fdca26\"], [1.0, \"#f0f921\"]], \"sequentialminus\": [[0.0, \"#0d0887\"], [0.1111111111111111, \"#46039f\"], [0.2222222222222222, \"#7201a8\"], [0.3333333333333333, \"#9c179e\"], [0.4444444444444444, \"#bd3786\"], [0.5555555555555556, \"#d8576b\"], [0.6666666666666666, \"#ed7953\"], [0.7777777777777778, \"#fb9f3a\"], [0.8888888888888888, \"#fdca26\"], [1.0, \"#f0f921\"]]}, \"colorway\": [\"#636efa\", \"#EF553B\", \"#00cc96\", \"#ab63fa\", \"#FFA15A\", \"#19d3f3\", \"#FF6692\", \"#B6E880\", \"#FF97FF\", \"#FECB52\"], \"font\": {\"color\": \"#2a3f5f\"}, \"geo\": {\"bgcolor\": \"white\", \"lakecolor\": \"white\", \"landcolor\": \"#E5ECF6\", \"showlakes\": true, \"showland\": true, \"subunitcolor\": \"white\"}, \"hoverlabel\": {\"align\": \"left\"}, \"hovermode\": \"closest\", \"mapbox\": {\"style\": \"light\"}, \"paper_bgcolor\": \"white\", \"plot_bgcolor\": \"#E5ECF6\", \"polar\": {\"angularaxis\": {\"gridcolor\": \"white\", \"linecolor\": \"white\", \"ticks\": \"\"}, \"bgcolor\": \"#E5ECF6\", \"radialaxis\": {\"gridcolor\": \"white\", \"linecolor\": \"white\", \"ticks\": \"\"}}, \"scene\": {\"xaxis\": {\"backgroundcolor\": \"#E5ECF6\", \"gridcolor\": \"white\", \"gridwidth\": 2, \"linecolor\": \"white\", \"showbackground\": true, \"ticks\": \"\", \"zerolinecolor\": \"white\"}, \"yaxis\": {\"backgroundcolor\": \"#E5ECF6\", \"gridcolor\": \"white\", \"gridwidth\": 2, \"linecolor\": \"white\", \"showbackground\": true, \"ticks\": \"\", \"zerolinecolor\": \"white\"}, \"zaxis\": {\"backgroundcolor\": \"#E5ECF6\", \"gridcolor\": \"white\", \"gridwidth\": 2, \"linecolor\": \"white\", \"showbackground\": true, \"ticks\": \"\", \"zerolinecolor\": \"white\"}}, \"shapedefaults\": {\"line\": {\"color\": \"#2a3f5f\"}}, \"ternary\": {\"aaxis\": {\"gridcolor\": \"white\", \"linecolor\": \"white\", \"ticks\": \"\"}, \"baxis\": {\"gridcolor\": \"white\", \"linecolor\": \"white\", \"ticks\": \"\"}, \"bgcolor\": \"#E5ECF6\", \"caxis\": {\"gridcolor\": \"white\", \"linecolor\": \"white\", \"ticks\": \"\"}}, \"title\": {\"x\": 0.05}, \"xaxis\": {\"automargin\": true, \"gridcolor\": \"white\", \"linecolor\": \"white\", \"ticks\": \"\", \"title\": {\"standoff\": 15}, \"zerolinecolor\": \"white\", \"zerolinewidth\": 2}, \"yaxis\": {\"automargin\": true, \"gridcolor\": \"white\", \"linecolor\": \"white\", \"ticks\": \"\", \"title\": {\"standoff\": 15}, \"zerolinecolor\": \"white\", \"zerolinewidth\": 2}}}, \"title\": {\"text\": \"Purpose breakdown\", \"x\": 0.5, \"xanchor\": \"center\", \"y\": 0.95, \"yanchor\": \"top\"}, \"xaxis\": {\"anchor\": \"y\", \"categoryarray\": [\"radio/TV\", \"education\", \"furniture/equipment\", \"car\", \"business\", \"repairs\", \"vacation/others\", \"domestic appliances\"], \"categoryorder\": \"array\", \"domain\": [0.0, 1.0], \"title\": {\"text\": \"Purpose\"}}, \"yaxis\": {\"anchor\": \"x\", \"domain\": [0.0, 1.0], \"title\": {\"text\": \"count\"}}},\n",
              "                        {\"responsive\": true}\n",
              "                    ).then(function(){\n",
              "                            \n",
              "var gd = document.getElementById('b878ed57-a85d-4e88-a997-bfde50b23e92');\n",
              "var x = new MutationObserver(function (mutations, observer) {{\n",
              "        var display = window.getComputedStyle(gd).display;\n",
              "        if (!display || display === 'none') {{\n",
              "            console.log([gd, 'removed!']);\n",
              "            Plotly.purge(gd);\n",
              "            observer.disconnect();\n",
              "        }}\n",
              "}});\n",
              "\n",
              "// Listen for the removal of the full notebook cells\n",
              "var notebookContainer = gd.closest('#notebook-container');\n",
              "if (notebookContainer) {{\n",
              "    x.observe(notebookContainer, {childList: true});\n",
              "}}\n",
              "\n",
              "// Listen for the clearing of the current output cell\n",
              "var outputEl = gd.closest('.output');\n",
              "if (outputEl) {{\n",
              "    x.observe(outputEl, {childList: true});\n",
              "}}\n",
              "\n",
              "                        })\n",
              "                };\n",
              "                \n",
              "            </script>\n",
              "        </div>\n",
              "</body>\n",
              "</html>"
            ]
          },
          "metadata": {
            "tags": []
          }
        }
      ]
    },
    {
      "cell_type": "code",
      "metadata": {
        "id": "AzVXvUG9qtHd"
      },
      "source": [
        "\n",
        "def PlotBarCharts(inpData, colsToPlot):\n",
        "    %matplotlib inline\n",
        "    \n",
        "    import matplotlib.pyplot as plt\n",
        "    \n",
        "    # Generating multiple subplots\n",
        "    fig, subPlot=plt.subplots(nrows=1, ncols=len(colsToPlot), figsize=(20,5))\n",
        "    fig.suptitle('Bar charts of: '+ str(colsToPlot))\n",
        "\n",
        "    for colName, plotNumber in zip(colsToPlot, range(len(colsToPlot))):\n",
        "        inpData.groupby(colName).size().plot(kind='bar',ax=subPlot[plotNumber])"
      ],
      "execution_count": null,
      "outputs": []
    },
    {
      "cell_type": "code",
      "metadata": {
        "colab": {
          "base_uri": "https://localhost:8080/",
          "height": 355
        },
        "id": "zEPkux1Pq2kz",
        "outputId": "7b57a53e-610c-4f16-f165-cdf35539e11b"
      },
      "source": [
        "# Calling the function for plotting\n",
        "PlotBarCharts(inpData=df, \n",
        "              colsToPlot=['Sex', 'Age', 'Purpose','Housing','Duration'])"
      ],
      "execution_count": null,
      "outputs": [
        {
          "output_type": "display_data",
          "data": {
            "image/png": "[encoded data removed]",
            "text/plain": [
              "<Figure size 1440x360 with 5 Axes>"
            ]
          },
          "metadata": {
            "tags": [],
            "needs_background": "light"
          }
        }
      ]
    },
    {
      "cell_type": "markdown",
      "metadata": {
        "id": "dlMjXvkPt_RD"
      },
      "source": [
        "These grouped bar charts show the frequency in the Y-Axis and the category in the X-Axis. If the ratio of bars is similar across all categories, then the two columns are not correlated."
      ]
    },
    {
      "cell_type": "code",
      "metadata": {
        "colab": {
          "base_uri": "https://localhost:8080/",
          "height": 1000
        },
        "id": "amSVlM0hsjfP",
        "outputId": "8c3f7e68-972d-432f-a219-4a657577f9db"
      },
      "source": [
        "# Visual Inference using Grouped Bar charts\n",
        "CategoricalColsList=['Sex', 'Age', 'Purpose','Housing','Job','Saving accounts', 'Checking account']\n",
        "\n",
        "import matplotlib.pyplot as plt\n",
        "fig, PlotCanvas=plt.subplots(nrows=len(CategoricalColsList), ncols=1, figsize=(10,90))\n",
        "\n",
        "# Creating Grouped bar plots for each categorical predictor against the Target Variable \"GoodCredit\"\n",
        "for CategoricalCol , i in zip(CategoricalColsList, range(len(CategoricalColsList))):\n",
        "    CrossTabResult=pd.crosstab(index=df[CategoricalCol], columns=df['class'])\n",
        "    CrossTabResult.plot.bar(color=['red','blue'], ax=PlotCanvas[i])"
      ],
      "execution_count": null,
      "outputs": [
        {
          "output_type": "display_data",
          "data": {
            "image/png": "[encoded data removed]",
            "text/plain": [
              "<Figure size 720x6480 with 7 Axes>"
            ]
          },
          "metadata": {
            "tags": [],
            "needs_background": "light"
          }
        }
      ]
    },
    {
      "cell_type": "code",
      "metadata": {
        "colab": {
          "base_uri": "https://localhost:8080/",
          "height": 542
        },
        "id": "jDkz6hGUuKtl",
        "outputId": "6aaf871a-cb5e-47f5-c588-e734cdac72c5"
      },
      "source": [
        "import ipywidgets as widgets\n",
        "# Create dimensions\n",
        "#0-bad credit\n",
        "#1-good credit\n",
        "gender_dim = go.parcats.Dimension(values=df.Sex, label=\"Sex\")\n",
        "Housing_dim = go.parcats.Dimension(values=df.Housing, label=\"Housing\")\n",
        "#Saving_accounts_dim = go.parcats.Dimension(values=df['Saving accounts'], label=\"Saving accounts\")\n",
        "Checking_account_dim = go.parcats.Dimension(values=df['Checking account'], label=\"Checking account\")\n",
        "Purpose_dim = go.parcats.Dimension(values=df.Purpose, label=\"Purpose\")\n",
        "class_dim = go.parcats.Dimension(values=df[\"class\"], label=\"class\")\n",
        "# Create parcats trace\n",
        "color = np.zeros(len(df), dtype='uint8')\n",
        "\n",
        "fig = go.Figure(data = [go.Parcats(dimensions=[gender_dim, Housing_dim,Checking_account_dim,Purpose_dim],\n",
        "        hoveron='color', hoverinfo='count+probability',\n",
        "        labelfont={'size': 18, 'family': 'Times'},\n",
        "        tickfont={'size': 16, 'family': 'Times'},\n",
        "        arrangement='freeform')])\n",
        "\n",
        "fig.show()"
      ],
      "execution_count": null,
      "outputs": [
        {
          "output_type": "display_data",
          "data": {
            "text/html": [
              "<html>\n",
              "<head><meta charset=\"utf-8\" /></head>\n",
              "<body>\n",
              "    <div>\n",
              "            <script src=\"https://cdnjs.cloudflare.com/ajax/libs/mathjax/2.7.5/MathJax.js?config=TeX-AMS-MML_SVG\"></script><script type=\"text/javascript\">if (window.MathJax) {MathJax.Hub.Config({SVG: {font: \"STIX-Web\"}});}</script>\n",
              "                <script type=\"text/javascript\">window.PlotlyConfig = {MathJaxConfig: 'local'};</script>\n",
              "        <script src=\"https://cdn.plot.ly/plotly-latest.min.js\"></script>    \n",
              "            <div id=\"b9909e83-6d6e-4957-9f76-c6412d827af5\" class=\"plotly-graph-div\" style=\"height:525px; width:100%;\"></div>\n",
              "            <script type=\"text/javascript\">\n",
              "                \n",
              "                    window.PLOTLYENV=window.PLOTLYENV || {};\n",
              "                    \n",
              "                if (document.getElementById(\"b9909e83-6d6e-4957-9f76-c6412d827af5\")) {\n",
              "                    Plotly.newPlot(\n",
              "                        'b9909e83-6d6e-4957-9f76-c6412d827af5',\n",
              "                        [{\"arrangement\": \"freeform\", \"dimensions\": [{\"label\": \"Sex\", \"values\": [\"male\", \"female\", \"male\", \"male\", \"male\", \"male\", \"male\", \"male\", \"female\", \"female\", \"female\", \"male\", \"female\", \"female\", \"male\", \"male\", \"female\", \"male\", \"male\", \"male\", \"male\", \"male\", \"female\", \"male\", \"male\", \"male\", \"male\", \"male\", \"male\", \"male\", \"male\", \"female\", \"female\", \"male\", \"female\", \"male\", \"male\", \"male\", \"male\", \"male\", \"male\", \"male\", \"female\", \"female\", \"male\", \"female\", \"male\", \"female\", \"male\", \"female\", \"female\", \"male\", \"male\", \"female\", \"male\", \"male\", \"male\", \"male\", \"male\", \"female\", \"female\", \"female\", \"male\", \"female\", \"male\", \"male\", \"male\", \"male\", \"female\", \"male\", \"male\", \"male\", \"male\", \"male\", \"male\", \"female\", \"male\", \"male\", \"male\", \"male\", \"male\", \"female\", \"female\", \"male\", \"female\", \"male\", \"female\", \"female\", \"female\", \"female\", \"female\", \"male\", \"male\", \"female\", \"male\", \"male\", \"female\", \"female\", \"male\", \"male\", \"male\", \"female\", \"female\", \"male\", \"female\", \"male\", \"female\", \"male\", \"male\", \"female\", \"female\", \"female\", \"male\", \"male\", \"male\", \"male\", \"female\", \"male\", \"female\", \"male\", \"male\", \"female\", \"male\", \"female\", \"female\", \"male\", \"female\", \"female\", \"male\", \"male\", \"male\", \"male\", \"male\", \"male\", \"female\", \"male\", \"female\", \"male\", \"male\", \"male\", \"female\", \"female\", \"male\", \"male\", \"male\", \"male\", \"male\", \"male\", \"male\", \"male\", \"male\", \"female\", \"male\", \"male\", \"female\", \"male\", \"male\", \"female\", \"male\", \"female\", \"male\", \"male\", \"male\", \"male\", \"male\", \"male\", \"male\", \"male\", \"male\", \"male\", \"male\", \"male\", \"female\", \"male\", \"female\", \"male\", \"male\", \"male\", \"male\", \"female\", \"female\", \"female\", \"female\", \"male\", \"male\", \"male\", \"female\", \"female\", \"male\", \"female\", \"male\", \"female\", \"male\", \"male\", \"female\", \"male\", \"male\", \"male\", \"female\", \"male\", \"male\", \"male\", \"male\", \"female\", \"male\", \"female\", \"male\", \"male\", \"male\", \"male\", \"female\", \"male\", \"male\", \"female\", \"male\", \"male\", \"female\", \"male\", \"male\", \"female\", \"female\", \"male\", \"male\", \"female\", \"female\", \"male\", \"male\", \"female\", \"male\", \"female\", \"male\", \"male\", \"male\", \"male\", \"male\", \"male\", \"female\", \"female\", \"male\", \"male\", \"male\", \"female\", \"male\", \"male\", \"male\", \"male\", \"female\", \"female\", \"male\", \"male\", \"female\", \"female\", \"male\", \"male\", \"female\", \"female\", \"female\", \"female\", \"female\", \"female\", \"male\", \"male\", \"male\", \"male\", \"male\", \"female\", \"male\", \"male\", \"male\", \"male\", \"female\", \"male\", \"female\", \"male\", \"male\", \"female\", \"male\", \"female\", \"female\", \"male\", \"male\", \"male\", \"female\", \"male\", \"female\", \"female\", \"male\", \"female\", \"female\", \"male\", \"female\", \"male\", \"female\", \"male\", \"female\", \"male\", \"male\", \"female\", \"male\", \"male\", \"male\", \"male\", \"male\", \"female\", \"male\", \"male\", \"female\", \"male\", \"male\", \"female\", \"female\", \"female\", \"male\", \"female\", \"male\", \"male\", \"male\", \"female\", \"male\", \"male\", \"male\", \"male\", \"male\", \"male\", \"female\", \"female\", \"male\", \"female\", \"female\", \"female\", \"male\", \"female\", \"male\", \"male\", \"male\", \"male\", \"female\", \"male\", \"male\", \"male\", \"female\", \"male\", \"female\", \"male\", \"female\", \"male\", \"male\", \"male\", \"female\", \"male\", \"male\", \"female\", \"female\", \"male\", \"female\", \"male\", \"male\", \"male\", \"female\", \"female\", \"male\", \"male\", \"male\", \"male\", \"male\", \"female\", \"male\", \"female\", \"male\", \"male\", \"male\", \"male\", \"male\", \"male\", \"male\", \"male\", \"female\", \"male\", \"female\", \"male\", \"male\", \"female\", \"male\", \"female\", \"female\", \"male\", \"male\", \"male\", \"male\", \"male\", \"female\", \"male\", \"male\", \"male\", \"female\", \"male\", \"female\", \"male\", \"male\", \"male\", \"male\", \"male\", \"female\", \"male\", \"female\", \"male\", \"female\", \"male\", \"female\", \"male\", \"male\", \"male\", \"male\", \"male\", \"female\", \"male\", \"male\", \"female\", \"female\", \"male\", \"female\", \"male\", \"female\", \"female\", \"male\", \"male\", \"male\", \"female\", \"male\", \"female\", \"female\", \"male\", \"male\", \"male\", \"male\", \"female\", \"female\", \"female\", \"female\", \"female\", \"male\", \"female\", \"female\", \"female\", \"female\", \"female\", \"male\", \"male\", \"female\", \"female\", \"female\", \"female\", \"male\", \"male\", \"male\", \"female\", \"male\", \"male\", \"male\", \"female\", \"male\", \"male\", \"male\", \"female\", \"male\", \"female\", \"female\", \"male\", \"female\", \"male\", \"female\", \"male\", \"male\", \"male\", \"male\", \"male\", \"male\", \"male\", \"male\", \"male\", \"male\", \"male\", \"male\", \"male\", \"male\", \"female\", \"male\", \"male\", \"male\", \"male\", \"male\", \"male\", \"female\", \"male\", \"male\", \"male\", \"male\", \"female\", \"male\", \"male\", \"male\", \"female\", \"male\", \"male\", \"male\", \"male\", \"male\", \"male\", \"male\", \"female\", \"male\", \"male\", \"female\", \"male\", \"female\", \"male\", \"female\", \"female\", \"female\", \"male\", \"female\", \"female\", \"male\", \"female\", \"male\", \"male\", \"male\", \"male\", \"male\", \"male\", \"female\", \"female\", \"female\", \"female\", \"female\", \"female\", \"male\", \"male\", \"female\", \"female\", \"female\", \"female\", \"female\", \"male\", \"male\", \"female\", \"male\", \"male\", \"male\", \"female\", \"female\", \"male\", \"male\", \"female\", \"female\", \"female\", \"female\", \"male\", \"female\", \"male\", \"male\", \"male\", \"male\", \"female\", \"female\", \"male\", \"male\", \"male\", \"male\", \"female\", \"male\", \"male\", \"female\", \"female\", \"male\", \"female\", \"male\", \"female\", \"male\", \"female\", \"male\", \"female\", \"male\", \"male\", \"male\", \"male\", \"male\", \"male\", \"male\", \"female\", \"male\", \"female\", \"male\", \"male\", \"male\", \"female\", \"female\", \"male\", \"female\", \"male\", \"male\", \"male\", \"male\", \"female\", \"male\", \"male\", \"male\", \"male\", \"female\", \"female\", \"male\", \"male\", \"male\", \"male\", \"male\", \"male\", \"female\", \"male\", \"male\", \"female\", \"male\", \"female\", \"female\", \"male\", \"female\", \"female\", \"male\", \"male\", \"male\", \"male\", \"female\", \"male\", \"male\", \"male\", \"male\", \"male\", \"male\", \"male\", \"male\", \"male\", \"male\", \"male\", \"female\", \"male\", \"male\", \"female\", \"male\", \"male\", \"female\", \"female\", \"male\", \"male\", \"female\", \"female\", \"female\", \"male\", \"male\", \"male\", \"male\", \"male\", \"male\", \"male\", \"male\", \"female\", \"male\", \"male\", \"male\", \"male\", \"male\", \"male\", \"male\", \"male\", \"female\", \"female\", \"male\", \"male\", \"male\", \"male\", \"male\", \"male\", \"male\", \"male\", \"female\", \"female\", \"female\", \"female\", \"female\", \"male\", \"female\", \"male\", \"male\", \"female\", \"male\", \"female\", \"male\", \"male\", \"male\", \"female\", \"male\", \"male\", \"male\", \"male\", \"female\", \"male\", \"female\", \"male\", \"female\", \"male\", \"male\", \"male\", \"male\", \"male\", \"male\", \"female\", \"female\", \"male\", \"male\", \"male\", \"female\", \"female\", \"female\", \"male\", \"male\", \"male\", \"male\", \"male\", \"male\", \"male\", \"female\", \"male\", \"female\", \"male\", \"male\", \"male\", \"female\", \"male\", \"female\", \"female\", \"male\", \"male\", \"male\", \"male\", \"male\", \"male\", \"female\", \"male\", \"female\", \"male\", \"male\", \"male\", \"male\", \"male\", \"male\", \"male\", \"female\", \"male\", \"male\", \"male\", \"male\", \"male\", \"male\", \"female\", \"male\", \"male\", \"male\", \"male\", \"female\", \"male\", \"male\", \"male\", \"male\", \"male\", \"male\", \"male\", \"male\", \"male\", \"male\", \"male\", \"female\", \"female\", \"male\", \"female\", \"female\", \"male\", \"male\", \"male\", \"male\", \"male\", \"male\", \"female\", \"male\", \"male\", \"male\", \"male\", \"female\", \"male\", \"male\", \"male\", \"male\", \"male\", \"male\", \"female\", \"female\", \"male\", \"male\", \"male\", \"male\", \"male\", \"female\", \"male\", \"female\", \"male\", \"male\", \"male\", \"male\", \"male\", \"male\", \"male\", \"male\", \"male\", \"female\", \"male\", \"male\", \"female\", \"male\", \"female\", \"male\", \"female\", \"male\", \"female\", \"male\", \"male\", \"male\", \"male\", \"male\", \"male\", \"male\", \"male\", \"male\", \"male\", \"male\", \"male\", \"male\", \"male\", \"male\", \"female\", \"male\", \"male\", \"male\", \"female\", \"female\", \"male\", \"male\", \"male\", \"male\", \"male\", \"male\", \"male\", \"male\", \"female\", \"male\", \"male\", \"male\", \"male\", \"female\", \"male\", \"male\", \"male\", \"female\", \"male\", \"female\", \"male\", \"male\", \"male\", \"male\", \"male\", \"male\", \"male\", \"male\", \"male\", \"male\", \"male\", \"male\", \"male\", \"male\", \"female\", \"male\", \"female\", \"male\", \"male\", \"male\", \"male\", \"male\", \"male\", \"male\", \"female\", \"male\", \"female\", \"male\", \"male\", \"male\", \"male\", \"male\", \"male\", \"male\", \"male\", \"male\", \"female\", \"male\", \"male\", \"female\", \"female\", \"male\", \"male\", \"male\", \"male\", \"male\", \"male\", \"male\", \"male\", \"male\", \"male\", \"male\", \"male\", \"male\", \"male\", \"female\", \"female\", \"male\", \"male\", \"male\", \"male\", \"male\", \"male\", \"male\", \"male\", \"female\", \"male\", \"male\", \"male\", \"male\", \"female\", \"female\", \"female\", \"male\", \"male\", \"male\", \"female\", \"male\", \"male\", \"male\", \"male\", \"male\", \"male\", \"male\", \"male\", \"male\", \"male\", \"male\", \"male\", \"male\", \"female\", \"female\", \"female\", \"male\", \"male\", \"female\", \"female\", \"male\", \"female\", \"male\", \"male\", \"female\", \"male\", \"male\", \"male\", \"male\", \"male\", \"female\", \"female\", \"male\", \"male\", \"male\", \"male\", \"female\", \"female\", \"male\", \"female\", \"male\", \"male\", \"male\", \"female\", \"female\", \"male\", \"male\", \"male\", \"male\", \"male\", \"male\", \"male\", \"male\", \"male\", \"male\", \"male\", \"female\", \"male\", \"male\", \"male\", \"male\", \"female\", \"male\", \"male\", \"male\", \"male\", \"female\", \"male\", \"female\", \"male\", \"male\", \"male\", \"female\", \"male\", \"male\", \"male\", \"male\", \"male\", \"male\", \"male\", \"male\", \"male\", \"male\", \"male\", \"male\", \"female\", \"male\", \"male\", \"male\", \"female\", \"male\", \"male\", \"male\", \"male\", \"male\", \"male\", \"female\", \"male\", \"male\", \"male\", \"male\", \"male\", \"female\", \"female\", \"male\", \"male\", \"male\", \"female\", \"male\", \"male\", \"female\", \"female\", \"female\", \"female\", \"male\", \"male\", \"female\", \"male\", \"female\", \"male\", \"male\", \"male\", \"male\", \"male\", \"male\", \"male\", \"male\", \"male\", \"male\", \"female\", \"male\", \"female\", \"male\", \"male\", \"male\", \"male\", \"male\", \"male\", \"female\", \"male\", \"male\", \"male\", \"female\", \"male\", \"male\", \"male\", \"male\", \"male\", \"male\", \"male\", \"male\", \"male\", \"female\", \"female\", \"female\", \"male\", \"male\", \"male\", \"male\", \"male\", \"female\", \"female\", \"male\", \"male\", \"male\", \"male\", \"male\", \"male\", \"female\", \"male\", \"male\", \"male\", \"male\", \"male\", \"male\", \"male\", \"male\", \"male\", \"male\", \"male\", \"male\", \"male\", \"male\", \"male\", \"male\", \"male\", \"female\", \"male\", \"male\", \"male\", \"male\", \"male\", \"male\", \"male\", \"female\", \"male\", \"male\", \"male\", \"male\", \"female\", \"female\", \"male\", \"male\", \"male\", \"male\", \"male\", \"male\", \"male\", \"male\", \"male\", \"male\", \"female\", \"male\", \"male\", \"female\", \"male\", \"male\", \"male\", \"male\", \"female\", \"male\", \"male\", \"male\", \"male\", \"male\", \"male\", \"male\", \"male\", \"male\", \"male\", \"male\", \"male\", \"female\", \"male\", \"male\", \"male\", \"male\", \"male\", \"female\", \"female\", \"male\", \"male\", \"male\", \"male\", \"male\", \"male\", \"male\", \"female\", \"male\", \"male\", \"male\", \"male\", \"male\", \"male\", \"male\", \"male\", \"male\", \"male\", \"male\", \"male\", \"male\", \"female\", \"male\", \"male\", \"male\", \"male\", \"male\", \"male\", \"male\", \"male\", \"male\", \"male\", \"male\", \"male\", \"female\", \"male\", \"male\", \"male\", \"female\", \"male\", \"male\", \"male\", \"male\", \"male\", \"female\", \"male\", \"male\", \"male\", \"female\", \"male\", \"male\", \"male\", \"male\", \"male\", \"female\", \"female\", \"male\", \"male\", \"female\", \"male\", \"male\", \"male\", \"male\", \"male\", \"male\", \"male\", \"male\", \"female\", \"male\", \"male\", \"male\", \"male\", \"male\", \"male\", \"male\", \"male\", \"male\", \"male\", \"male\", \"male\", \"male\", \"male\", \"female\", \"male\", \"male\", \"female\", \"male\", \"male\", \"male\", \"male\", \"male\", \"female\", \"male\", \"male\", \"male\", \"male\", \"male\", \"male\", \"male\", \"male\", \"male\", \"male\", \"male\", \"male\", \"female\", \"male\", \"male\", \"male\", \"male\", \"female\", \"male\", \"male\", \"female\", \"female\", \"male\", \"male\", \"male\", \"male\", \"male\", \"male\", \"male\", \"male\", \"male\", \"male\", \"female\", \"male\", \"female\", \"male\", \"male\", \"male\", \"male\", \"male\", \"male\", \"male\", \"male\", \"male\", \"female\", \"male\", \"female\", \"male\", \"female\", \"male\", \"female\", \"female\", \"male\", \"male\", \"male\", \"male\", \"male\", \"female\", \"female\", \"male\", \"male\", \"male\", \"male\", \"male\", \"male\", \"female\", \"male\", \"female\", \"male\", \"female\", \"male\", \"male\", \"male\", \"male\", \"male\", \"male\", \"male\", \"male\", \"male\", \"male\", \"male\", \"female\", \"male\", \"male\", \"male\", \"male\", \"female\", \"male\", \"male\", \"male\", \"male\", \"male\", \"male\", \"male\", \"male\", \"male\", \"female\", \"male\", \"male\", \"male\", \"male\", \"female\", \"male\", \"male\", \"male\", \"male\", \"male\", \"male\", \"male\", \"male\", \"male\", \"male\", \"male\", \"male\", \"male\", \"male\", \"male\", \"male\", \"male\", \"male\", \"male\", \"female\", \"male\", \"male\", \"female\", \"male\", \"male\", \"male\", \"male\", \"female\", \"male\", \"male\", \"male\", \"male\", \"male\", \"male\", \"male\", \"male\", \"female\", \"male\", \"female\", \"male\", \"male\", \"female\", \"female\", \"female\", \"male\", \"male\", \"male\", \"male\", \"male\", \"male\", \"male\", \"male\", \"male\", \"male\", \"male\", \"male\", \"male\", \"male\", \"male\", \"female\", \"male\", \"female\", \"male\", \"male\", \"male\", \"male\", \"male\", \"male\", \"male\", \"female\", \"female\", \"male\", \"male\", \"male\", \"male\", \"female\", \"male\", \"male\", \"male\", \"female\", \"male\", \"female\", \"male\", \"female\", \"male\", \"male\", \"male\", \"male\", \"male\", \"male\", \"male\", \"male\", \"male\", \"female\", \"male\", \"male\", \"female\", \"male\", \"male\", \"female\", \"female\", \"female\", \"male\", \"male\", \"male\", \"male\", \"female\", \"male\", \"male\", \"male\", \"male\", \"male\", \"male\", \"male\", \"male\", \"male\", \"male\", \"male\", \"male\", \"male\", \"male\", \"female\", \"male\", \"female\", \"female\", \"female\", \"female\", \"male\", \"male\", \"male\", \"male\", \"male\", \"male\", \"male\", \"male\", \"male\"]}, {\"label\": \"Housing\", \"values\": [\"own\", \"own\", \"own\", \"free\", \"free\", \"free\", \"rent\", \"own\", \"rent\", \"rent\", \"own\", \"own\", \"rent\", \"own\", \"own\", \"own\", \"free\", \"own\", \"rent\", \"own\", \"own\", \"own\", \"rent\", \"own\", \"own\", \"own\", \"rent\", \"own\", \"free\", \"own\", \"rent\", \"free\", \"rent\", \"own\", \"own\", \"own\", \"own\", \"own\", \"own\", \"free\", \"own\", \"own\", \"own\", \"rent\", \"own\", \"own\", \"own\", \"own\", \"free\", \"own\", \"own\", \"rent\", \"free\", \"own\", \"own\", \"free\", \"own\", \"own\", \"own\", \"own\", \"rent\", \"own\", \"own\", \"own\", \"free\", \"own\", \"own\", \"own\", \"own\", \"rent\", \"rent\", \"own\", \"rent\", \"rent\", \"rent\", \"own\", \"rent\", \"rent\", \"own\", \"own\", \"own\", \"own\", \"rent\", \"rent\", \"own\", \"own\", \"own\", \"rent\", \"own\", \"own\", \"rent\", \"rent\", \"free\", \"rent\", \"own\", \"own\", \"own\", \"own\", \"own\", \"own\", \"free\", \"own\", \"own\", \"own\", \"rent\", \"own\", \"own\", \"own\", \"own\", \"own\", \"own\", \"own\", \"own\", \"free\", \"own\", \"own\", \"rent\", \"rent\", \"rent\", \"own\", \"own\", \"own\", \"free\", \"own\", \"rent\", \"rent\", \"own\", \"own\", \"own\", \"rent\", \"own\", \"own\", \"own\", \"own\", \"free\", \"free\", \"own\", \"free\", \"rent\", \"rent\", \"own\", \"rent\", \"free\", \"own\", \"own\", \"rent\", \"own\", \"free\", \"own\", \"own\", \"own\", \"own\", \"own\", \"own\", \"own\", \"own\", \"rent\", \"own\", \"own\", \"rent\", \"own\", \"own\", \"own\", \"own\", \"free\", \"own\", \"free\", \"own\", \"own\", \"own\", \"own\", \"rent\", \"own\", \"own\", \"own\", \"own\", \"free\", \"own\", \"rent\", \"rent\", \"own\", \"own\", \"own\", \"own\", \"own\", \"free\", \"own\", \"own\", \"own\", \"own\", \"free\", \"free\", \"own\", \"own\", \"own\", \"own\", \"own\", \"own\", \"rent\", \"free\", \"own\", \"own\", \"own\", \"own\", \"own\", \"own\", \"rent\", \"rent\", \"own\", \"own\", \"own\", \"own\", \"free\", \"own\", \"own\", \"rent\", \"free\", \"free\", \"own\", \"own\", \"rent\", \"own\", \"own\", \"own\", \"own\", \"own\", \"free\", \"rent\", \"own\", \"own\", \"rent\", \"free\", \"own\", \"own\", \"own\", \"own\", \"own\", \"own\", \"own\", \"own\", \"free\", \"own\", \"own\", \"rent\", \"own\", \"free\", \"own\", \"rent\", \"rent\", \"rent\", \"own\", \"rent\", \"own\", \"own\", \"free\", \"rent\", \"own\", \"rent\", \"rent\", \"own\", \"rent\", \"own\", \"own\", \"own\", \"own\", \"rent\", \"free\", \"rent\", \"own\", \"own\", \"rent\", \"own\", \"rent\", \"own\", \"own\", \"rent\", \"free\", \"free\", \"rent\", \"own\", \"free\", \"free\", \"own\", \"own\", \"free\", \"rent\", \"own\", \"own\", \"rent\", \"own\", \"rent\", \"free\", \"own\", \"rent\", \"free\", \"own\", \"rent\", \"own\", \"own\", \"own\", \"own\", \"own\", \"own\", \"own\", \"own\", \"rent\", \"own\", \"own\", \"own\", \"rent\", \"own\", \"rent\", \"own\", \"own\", \"rent\", \"own\", \"own\", \"free\", \"own\", \"free\", \"own\", \"own\", \"rent\", \"own\", \"own\", \"own\", \"own\", \"own\", \"rent\", \"own\", \"own\", \"own\", \"own\", \"own\", \"rent\", \"free\", \"own\", \"own\", \"own\", \"own\", \"rent\", \"own\", \"rent\", \"own\", \"own\", \"own\", \"rent\", \"own\", \"rent\", \"own\", \"own\", \"own\", \"rent\", \"own\", \"free\", \"rent\", \"rent\", \"own\", \"free\", \"own\", \"rent\", \"own\", \"rent\", \"own\", \"own\", \"own\", \"free\", \"rent\", \"own\", \"own\", \"own\", \"own\", \"own\", \"free\", \"rent\", \"own\", \"own\", \"own\", \"rent\", \"free\", \"free\", \"own\", \"free\", \"own\", \"own\", \"own\", \"own\", \"rent\", \"own\", \"own\", \"rent\", \"rent\", \"own\", \"rent\", \"own\", \"free\", \"own\", \"rent\", \"free\", \"own\", \"own\", \"free\", \"own\", \"own\", \"own\", \"free\", \"own\", \"own\", \"own\", \"own\", \"own\", \"free\", \"rent\", \"free\", \"rent\", \"own\", \"own\", \"own\", \"rent\", \"own\", \"rent\", \"own\", \"own\", \"own\", \"own\", \"own\", \"own\", \"rent\", \"rent\", \"free\", \"rent\", \"rent\", \"own\", \"own\", \"own\", \"own\", \"rent\", \"rent\", \"own\", \"rent\", \"own\", \"own\", \"own\", \"free\", \"own\", \"free\", \"own\", \"free\", \"own\", \"free\", \"rent\", \"own\", \"own\", \"free\", \"rent\", \"rent\", \"own\", \"own\", \"own\", \"rent\", \"free\", \"own\", \"own\", \"own\", \"own\", \"rent\", \"own\", \"own\", \"own\", \"own\", \"own\", \"own\", \"own\", \"rent\", \"own\", \"free\", \"rent\", \"free\", \"own\", \"own\", \"own\", \"own\", \"free\", \"own\", \"own\", \"own\", \"own\", \"rent\", \"own\", \"own\", \"own\", \"own\", \"own\", \"rent\", \"own\", \"own\", \"own\", \"rent\", \"own\", \"own\", \"rent\", \"own\", \"free\", \"own\", \"free\", \"own\", \"free\", \"free\", \"own\", \"own\", \"own\", \"own\", \"own\", \"own\", \"rent\", \"free\", \"free\", \"own\", \"free\", \"own\", \"rent\", \"own\", \"own\", \"free\", \"own\", \"own\", \"own\", \"own\", \"free\", \"own\", \"rent\", \"own\", \"rent\", \"own\", \"rent\", \"rent\", \"own\", \"rent\", \"own\", \"rent\", \"own\", \"own\", \"rent\", \"own\", \"own\", \"rent\", \"own\", \"own\", \"own\", \"rent\", \"own\", \"own\", \"own\", \"own\", \"own\", \"rent\", \"own\", \"free\", \"rent\", \"own\", \"free\", \"own\", \"own\", \"own\", \"rent\", \"own\", \"free\", \"own\", \"own\", \"rent\", \"rent\", \"own\", \"rent\", \"own\", \"free\", \"rent\", \"own\", \"own\", \"own\", \"own\", \"own\", \"own\", \"own\", \"own\", \"free\", \"own\", \"own\", \"own\", \"free\", \"rent\", \"free\", \"rent\", \"own\", \"own\", \"free\", \"rent\", \"own\", \"own\", \"rent\", \"own\", \"own\", \"own\", \"free\", \"rent\", \"own\", \"own\", \"own\", \"free\", \"rent\", \"rent\", \"own\", \"own\", \"own\", \"own\", \"own\", \"own\", \"rent\", \"free\", \"free\", \"rent\", \"rent\", \"own\", \"own\", \"own\", \"own\", \"rent\", \"own\", \"own\", \"own\", \"own\", \"own\", \"own\", \"rent\", \"own\", \"own\", \"own\", \"rent\", \"own\", \"free\", \"free\", \"own\", \"free\", \"own\", \"rent\", \"own\", \"own\", \"own\", \"rent\", \"rent\", \"own\", \"own\", \"own\", \"rent\", \"own\", \"own\", \"own\", \"free\", \"own\", \"free\", \"own\", \"own\", \"free\", \"own\", \"own\", \"own\", \"own\", \"rent\", \"own\", \"own\", \"own\", \"own\", \"own\", \"rent\", \"rent\", \"own\", \"rent\", \"own\", \"free\", \"rent\", \"rent\", \"own\", \"own\", \"own\", \"own\", \"own\", \"own\", \"own\", \"rent\", \"own\", \"own\", \"rent\", \"own\", \"own\", \"rent\", \"rent\", \"own\", \"own\", \"rent\", \"free\", \"own\", \"own\", \"own\", \"own\", \"own\", \"own\", \"own\", \"own\", \"rent\", \"free\", \"own\", \"own\", \"own\", \"own\", \"rent\", \"own\", \"own\", \"own\", \"own\", \"own\", \"own\", \"rent\", \"own\", \"own\", \"own\", \"free\", \"rent\", \"own\", \"own\", \"own\", \"own\", \"rent\", \"rent\", \"own\", \"own\", \"rent\", \"rent\", \"own\", \"own\", \"own\", \"rent\", \"own\", \"rent\", \"own\", \"own\", \"rent\", \"own\", \"own\", \"free\", \"own\", \"own\", \"own\", \"rent\", \"own\", \"own\", \"own\", \"own\", \"own\", \"free\", \"own\", \"own\", \"own\", \"own\", \"own\", \"own\", \"own\", \"own\", \"own\", \"own\", \"own\", \"own\", \"own\", \"own\", \"own\", \"own\", \"own\", \"own\", \"own\", \"own\", \"own\", \"own\", \"own\", \"own\", \"own\", \"own\", \"own\", \"own\", \"own\", \"own\", \"own\", \"own\", \"own\", \"own\", \"own\", \"own\", \"own\", \"own\", \"own\", \"own\", \"own\", \"own\", \"own\", \"own\", \"own\", \"own\", \"own\", \"own\", \"own\", \"own\", \"own\", \"own\", \"own\", \"own\", \"own\", \"own\", \"own\", \"own\", \"own\", \"own\", \"own\", \"own\", \"own\", \"own\", \"rent\", \"own\", \"rent\", \"own\", \"own\", \"own\", \"own\", \"own\", \"own\", \"free\", \"own\", \"own\", \"own\", \"own\", \"own\", \"own\", \"own\", \"own\", \"own\", \"own\", \"own\", \"own\", \"own\", \"own\", \"own\", \"own\", \"rent\", \"own\", \"own\", \"own\", \"own\", \"own\", \"own\", \"free\", \"own\", \"own\", \"own\", \"own\", \"own\", \"own\", \"own\", \"own\", \"own\", \"own\", \"rent\", \"rent\", \"own\", \"own\", \"own\", \"own\", \"own\", \"own\", \"own\", \"rent\", \"own\", \"rent\", \"own\", \"own\", \"own\", \"own\", \"own\", \"own\", \"own\", \"own\", \"own\", \"own\", \"own\", \"own\", \"own\", \"own\", \"own\", \"own\", \"own\", \"own\", \"own\", \"own\", \"own\", \"own\", \"own\", \"own\", \"own\", \"own\", \"own\", \"rent\", \"own\", \"own\", \"own\", \"own\", \"own\", \"own\", \"own\", \"own\", \"own\", \"own\", \"own\", \"own\", \"own\", \"free\", \"own\", \"free\", \"own\", \"own\", \"own\", \"own\", \"own\", \"own\", \"own\", \"own\", \"own\", \"own\", \"own\", \"own\", \"own\", \"own\", \"own\", \"free\", \"own\", \"own\", \"own\", \"own\", \"own\", \"own\", \"own\", \"own\", \"own\", \"own\", \"own\", \"own\", \"own\", \"own\", \"own\", \"own\", \"own\", \"own\", \"own\", \"own\", \"own\", \"own\", \"own\", \"own\", \"own\", \"rent\", \"own\", \"own\", \"own\", \"own\", \"own\", \"own\", \"own\", \"own\", \"own\", \"free\", \"own\", \"rent\", \"own\", \"own\", \"own\", \"own\", \"own\", \"own\", \"own\", \"own\", \"own\", \"own\", \"own\", \"own\", \"rent\", \"own\", \"free\", \"own\", \"own\", \"own\", \"own\", \"own\", \"own\", \"own\", \"own\", \"own\", \"own\", \"own\", \"rent\", \"own\", \"own\", \"own\", \"own\", \"own\", \"own\", \"own\", \"own\", \"rent\", \"own\", \"rent\", \"own\", \"own\", \"own\", \"own\", \"own\", \"own\", \"own\", \"own\", \"own\", \"own\", \"own\", \"own\", \"own\", \"own\", \"own\", \"own\", \"own\", \"own\", \"own\", \"own\", \"own\", \"own\", \"own\", \"own\", \"own\", \"own\", \"rent\", \"own\", \"rent\", \"own\", \"own\", \"rent\", \"own\", \"own\", \"own\", \"own\", \"own\", \"own\", \"own\", \"own\", \"own\", \"own\", \"own\", \"own\", \"own\", \"own\", \"own\", \"own\", \"own\", \"own\", \"own\", \"own\", \"own\", \"own\", \"own\", \"own\", \"own\", \"own\", \"own\", \"own\", \"own\", \"own\", \"own\", \"own\", \"own\", \"own\", \"own\", \"own\", \"own\", \"own\", \"own\", \"own\", \"own\", \"own\", \"free\", \"own\", \"own\", \"own\", \"own\", \"own\", \"own\", \"own\", \"own\", \"own\", \"own\", \"own\", \"own\", \"own\", \"own\", \"own\", \"own\", \"own\", \"own\", \"own\", \"own\", \"own\", \"own\", \"own\", \"own\", \"own\", \"own\", \"own\", \"own\", \"own\", \"own\", \"own\", \"own\", \"own\", \"own\", \"own\", \"own\", \"own\", \"own\", \"own\", \"own\", \"own\", \"own\", \"own\", \"own\", \"own\", \"own\", \"own\", \"own\", \"own\", \"own\", \"own\", \"own\", \"own\", \"own\", \"own\", \"own\", \"own\", \"own\", \"own\", \"own\", \"own\", \"own\", \"own\", \"own\", \"own\", \"own\", \"own\", \"own\", \"own\", \"own\", \"own\", \"own\", \"own\", \"own\", \"own\", \"own\", \"own\", \"own\", \"own\", \"own\", \"own\", \"rent\", \"own\", \"free\", \"own\", \"own\", \"own\", \"own\", \"own\", \"own\", \"own\", \"own\", \"own\", \"own\", \"own\", \"own\", \"own\", \"own\", \"own\", \"own\", \"own\", \"own\", \"own\", \"own\", \"own\", \"own\", \"own\", \"own\", \"own\", \"own\", \"own\", \"own\", \"own\", \"own\", \"own\", \"own\", \"own\", \"own\", \"own\", \"own\", \"own\", \"own\", \"own\", \"rent\", \"own\", \"own\", \"own\", \"own\", \"own\", \"own\", \"own\", \"own\", \"own\", \"own\", \"own\", \"own\", \"own\", \"own\", \"own\", \"own\", \"free\", \"own\", \"own\", \"own\", \"own\", \"own\", \"rent\", \"own\", \"own\", \"free\", \"rent\", \"own\", \"own\", \"own\", \"own\", \"own\", \"own\", \"own\", \"own\", \"own\", \"own\", \"free\", \"own\", \"own\", \"own\", \"own\", \"own\", \"own\", \"own\", \"own\", \"own\", \"own\", \"own\", \"own\", \"own\", \"own\", \"own\", \"own\", \"own\", \"own\", \"own\", \"own\", \"own\", \"own\", \"own\", \"own\", \"own\", \"own\", \"own\", \"own\", \"own\", \"own\", \"own\", \"own\", \"own\", \"own\", \"own\", \"own\", \"own\", \"own\", \"own\", \"own\", \"own\", \"own\", \"own\", \"own\", \"own\", \"own\", \"own\", \"own\", \"own\", \"own\", \"own\", \"own\", \"own\", \"own\", \"own\", \"own\", \"own\", \"own\", \"own\", \"rent\", \"own\", \"own\", \"own\", \"own\", \"own\", \"own\", \"free\", \"own\", \"own\", \"own\", \"own\", \"own\", \"own\", \"own\", \"own\", \"own\", \"own\", \"own\", \"own\", \"own\", \"own\", \"own\", \"own\", \"own\", \"own\", \"free\", \"rent\", \"own\", \"own\", \"own\", \"own\", \"own\", \"own\", \"own\", \"own\", \"own\", \"own\", \"own\", \"own\", \"own\", \"own\", \"own\", \"own\", \"own\", \"own\", \"own\", \"own\", \"own\", \"own\", \"own\", \"own\", \"own\", \"rent\", \"own\", \"own\", \"own\", \"own\", \"rent\", \"own\", \"own\", \"own\", \"own\", \"own\", \"own\", \"own\", \"own\", \"own\", \"own\", \"own\", \"own\", \"own\", \"own\", \"own\", \"own\", \"own\", \"own\", \"rent\", \"own\", \"own\", \"own\", \"own\", \"own\", \"own\", \"own\", \"free\", \"own\", \"own\", \"own\", \"own\", \"own\", \"own\", \"own\", \"own\", \"own\", \"own\", \"own\", \"own\", \"free\", \"own\", \"own\", \"own\", \"free\", \"own\", \"own\", \"own\", \"own\", \"own\", \"own\", \"own\", \"own\", \"own\", \"own\", \"rent\", \"own\", \"own\", \"rent\", \"own\", \"own\", \"own\", \"free\", \"own\", \"free\", \"own\", \"own\", \"own\", \"own\", \"own\", \"own\", \"own\", \"own\", \"rent\", \"own\", \"own\", \"own\", \"own\", \"own\", \"free\", \"own\", \"own\", \"own\", \"own\", \"own\", \"own\", \"own\", \"own\", \"own\", \"own\", \"own\", \"own\", \"own\", \"own\", \"own\", \"own\", \"own\", \"own\", \"own\", \"own\", \"own\", \"own\", \"own\", \"own\", \"own\", \"own\", \"own\", \"own\", \"own\", \"own\", \"own\", \"own\", \"own\", \"own\", \"own\", \"own\", \"own\", \"own\", \"own\", \"own\", \"own\", \"own\", \"own\", \"own\", \"own\", \"free\", \"own\", \"own\", \"own\", \"own\", \"own\", \"own\", \"own\", \"own\", \"own\", \"own\", \"own\", \"own\", \"own\", \"own\", \"own\", \"own\", \"own\", \"own\", \"own\", \"own\", \"own\", \"own\", \"own\", \"own\"]}, {\"label\": \"Checking account\", \"values\": [\"little\", \"moderate\", \"little\", \"little\", \"little\", \"little\", \"moderate\", \"moderate\", \"moderate\", \"little\", \"moderate\", \"little\", \"little\", \"little\", \"little\", \"little\", \"moderate\", \"little\", \"little\", \"little\", \"little\", \"little\", \"rich\", \"little\", \"little\", \"moderate\", \"little\", \"moderate\", \"little\", \"moderate\", \"little\", \"little\", \"little\", \"little\", \"little\", \"moderate\", \"moderate\", \"little\", \"little\", \"moderate\", \"little\", \"moderate\", \"little\", \"little\", \"moderate\", \"little\", \"little\", \"little\", \"little\", \"little\", \"little\", \"little\", \"little\", \"moderate\", \"little\", \"little\", \"little\", \"little\", \"moderate\", \"little\", \"little\", \"little\", \"little\", \"moderate\", \"moderate\", \"little\", \"little\", \"little\", \"little\", \"rich\", \"moderate\", \"moderate\", \"moderate\", \"little\", \"moderate\", \"little\", \"moderate\", \"little\", \"moderate\", \"little\", \"moderate\", \"little\", \"rich\", \"moderate\", \"little\", \"little\", \"little\", \"little\", \"little\", \"little\", \"little\", \"little\", \"rich\", \"moderate\", \"little\", \"little\", \"little\", \"moderate\", \"little\", \"little\", \"little\", \"little\", \"little\", \"little\", \"rich\", \"rich\", \"moderate\", \"little\", \"little\", \"little\", \"little\", \"little\", \"little\", \"little\", \"little\", \"rich\", \"moderate\", \"moderate\", \"little\", \"little\", \"little\", \"little\", \"moderate\", \"little\", \"little\", \"little\", \"little\", \"little\", \"little\", \"little\", \"little\", \"little\", \"little\", \"little\", \"moderate\", \"moderate\", \"moderate\", \"moderate\", \"little\", \"moderate\", \"little\", \"moderate\", \"moderate\", \"little\", \"little\", \"little\", \"little\", \"little\", \"little\", \"little\", \"little\", \"little\", \"little\", \"little\", \"moderate\", \"rich\", \"little\", \"little\", \"moderate\", \"little\", \"little\", \"little\", \"little\", \"moderate\", \"little\", \"little\", \"little\", \"rich\", \"moderate\", \"little\", \"moderate\", \"moderate\", \"little\", \"little\", \"little\", \"little\", \"little\", \"little\", \"little\", \"little\", \"little\", \"rich\", \"moderate\", \"moderate\", \"little\", \"little\", \"little\", \"little\", \"little\", \"little\", \"little\", \"little\", \"little\", \"little\", \"little\", \"little\", \"little\", \"little\", \"little\", \"moderate\", \"moderate\", \"little\", \"little\", \"little\", \"little\", \"little\", \"little\", \"little\", \"little\", \"little\", \"little\", \"little\", \"moderate\", \"moderate\", \"little\", \"moderate\", \"little\", \"rich\", \"little\", \"moderate\", \"little\", \"little\", \"little\", \"little\", \"moderate\", \"little\", \"little\", \"little\", \"little\", \"moderate\", \"moderate\", \"moderate\", \"little\", \"moderate\", \"little\", \"little\", \"moderate\", \"little\", \"moderate\", \"little\", \"little\", \"little\", \"little\", \"little\", \"rich\", \"little\", \"moderate\", \"little\", \"little\", \"little\", \"moderate\", \"little\", \"little\", \"moderate\", \"moderate\", \"little\", \"little\", \"moderate\", \"little\", \"moderate\", \"little\", \"moderate\", \"little\", \"little\", \"little\", \"little\", \"moderate\", \"little\", \"little\", \"little\", \"little\", \"little\", \"moderate\", \"little\", \"little\", \"little\", \"little\", \"moderate\", \"little\", \"little\", \"little\", \"moderate\", \"little\", \"little\", \"moderate\", \"little\", \"little\", \"little\", \"little\", \"moderate\", \"moderate\", \"little\", \"little\", \"moderate\", \"little\", \"little\", \"moderate\", \"little\", \"little\", \"little\", \"little\", \"little\", \"little\", \"moderate\", \"little\", \"little\", \"little\", \"little\", \"little\", \"little\", \"moderate\", \"little\", \"moderate\", \"moderate\", \"moderate\", \"little\", \"little\", \"little\", \"moderate\", \"little\", \"little\", \"little\", \"little\", \"little\", \"rich\", \"little\", \"little\", \"moderate\", \"little\", \"little\", \"little\", \"little\", \"little\", \"little\", \"little\", \"little\", \"little\", \"little\", \"little\", \"little\", \"moderate\", \"little\", \"little\", \"little\", \"little\", \"little\", \"moderate\", \"little\", \"little\", \"rich\", \"little\", \"moderate\", \"little\", \"little\", \"little\", \"little\", \"little\", \"little\", \"moderate\", \"little\", \"little\", \"little\", \"moderate\", \"little\", \"moderate\", \"little\", \"little\", \"little\", \"little\", \"moderate\", \"little\", \"little\", \"little\", \"little\", \"moderate\", \"little\", \"little\", \"little\", \"little\", \"little\", \"little\", \"little\", \"little\", \"little\", \"moderate\", \"moderate\", \"little\", \"little\", \"little\", \"moderate\", \"moderate\", \"little\", \"little\", \"rich\", \"moderate\", \"little\", \"rich\", \"moderate\", \"little\", \"little\", \"little\", \"little\", \"little\", \"little\", \"little\", \"little\", \"little\", \"little\", \"little\", \"little\", \"moderate\", \"little\", \"little\", \"moderate\", \"moderate\", \"little\", \"moderate\", \"little\", \"little\", \"little\", \"little\", \"moderate\", \"little\", \"moderate\", \"moderate\", \"little\", \"moderate\", \"little\", \"moderate\", \"little\", \"little\", \"little\", \"little\", \"little\", \"little\", \"little\", \"moderate\", \"moderate\", \"moderate\", \"little\", \"little\", \"moderate\", \"moderate\", \"moderate\", \"little\", \"moderate\", \"little\", \"little\", \"little\", \"rich\", \"little\", \"little\", \"moderate\", \"moderate\", \"little\", \"moderate\", \"little\", \"little\", \"little\", \"little\", \"little\", \"little\", \"little\", \"little\", \"little\", \"little\", \"moderate\", \"little\", \"little\", \"little\", \"little\", \"moderate\", \"little\", \"little\", \"little\", \"rich\", \"little\", \"little\", \"moderate\", \"little\", \"moderate\", \"little\", \"little\", \"moderate\", \"little\", \"moderate\", \"moderate\", \"rich\", \"little\", \"little\", \"little\", \"moderate\", \"little\", \"little\", \"rich\", \"little\", \"little\", \"little\", \"little\", \"moderate\", \"little\", \"little\", \"little\", \"little\", \"little\", \"moderate\", \"little\", \"moderate\", \"little\", \"moderate\", \"little\", \"little\", \"little\", \"little\", \"little\", \"little\", \"rich\", \"moderate\", \"little\", \"moderate\", \"moderate\", \"moderate\", \"moderate\", \"little\", \"little\", \"moderate\", \"little\", \"little\", \"little\", \"moderate\", \"moderate\", \"little\", \"little\", \"little\", \"little\", \"moderate\", \"moderate\", \"little\", \"moderate\", \"little\", \"little\", \"moderate\", \"moderate\", \"little\", \"little\", \"moderate\", \"moderate\", \"little\", \"little\", \"little\", \"little\", \"little\", \"little\", \"little\", \"little\", \"moderate\", \"little\", \"little\", \"little\", \"rich\", \"rich\", \"little\", \"little\", \"little\", \"little\", \"little\", \"little\", \"moderate\", \"little\", \"little\", \"moderate\", \"little\", \"little\", \"little\", \"rich\", \"little\", \"little\", \"little\", \"little\", \"moderate\", \"moderate\", \"moderate\", \"moderate\", \"little\", \"moderate\", \"little\", \"little\", \"little\", \"rich\", \"little\", \"little\", \"little\", \"little\", \"moderate\", \"little\", \"moderate\", \"little\", \"little\", \"moderate\", \"little\", \"moderate\", \"little\", \"moderate\", \"moderate\", \"moderate\", \"little\", \"little\", \"little\", \"moderate\", \"little\", \"little\", \"little\", \"little\", \"little\", \"little\", \"little\", \"little\", \"little\", \"moderate\", \"little\", \"little\", \"moderate\", \"rich\", \"little\", \"little\", \"little\", \"little\", \"little\", \"little\", \"little\", \"little\", \"little\", \"little\", \"little\", \"little\", \"little\", \"little\", \"little\", \"little\", \"little\", \"little\", \"little\", \"little\", \"little\", \"little\", \"little\", \"little\", \"little\", \"little\", \"little\", \"little\", \"little\", \"little\", \"little\", \"little\", \"little\", \"little\", \"little\", \"little\", \"little\", \"little\", \"little\", \"moderate\", \"little\", \"moderate\", \"little\", \"little\", \"little\", \"little\", \"moderate\", \"little\", \"little\", \"little\", \"little\", \"little\", \"little\", \"little\", \"little\", \"little\", \"little\", \"little\", \"moderate\", \"little\", \"moderate\", \"little\", \"moderate\", \"moderate\", \"little\", \"moderate\", \"little\", \"little\", \"little\", \"little\", \"little\", \"moderate\", \"little\", \"little\", \"little\", \"little\", \"little\", \"little\", \"little\", \"moderate\", \"little\", \"little\", \"moderate\", \"rich\", \"moderate\", \"moderate\", \"little\", \"little\", \"little\", \"little\", \"little\", \"moderate\", \"little\", \"moderate\", \"little\", \"little\", \"little\", \"little\", \"rich\", \"moderate\", \"little\", \"moderate\", \"little\", \"little\", \"moderate\", \"moderate\", \"moderate\", \"little\", \"little\", \"little\", \"little\", \"little\", \"little\", \"little\", \"moderate\", \"little\", \"moderate\", \"moderate\", \"little\", \"little\", \"little\", \"little\", \"rich\", \"little\", \"little\", \"moderate\", \"little\", \"little\", \"little\", \"little\", \"little\", \"little\", \"little\", \"little\", \"little\", \"moderate\", \"moderate\", \"moderate\", \"little\", \"moderate\", \"moderate\", \"little\", \"moderate\", \"little\", \"rich\", \"little\", \"little\", \"little\", \"little\", \"little\", \"moderate\", \"moderate\", \"little\", \"rich\", \"moderate\", \"rich\", \"little\", \"little\", \"little\", \"little\", \"little\", \"rich\", \"little\", \"rich\", \"little\", \"moderate\", \"moderate\", \"little\", \"little\", \"moderate\", \"little\", \"little\", \"moderate\", \"little\", \"rich\", \"little\", \"rich\", \"little\", \"little\", \"little\", \"little\", \"little\", \"moderate\", \"rich\", \"moderate\", \"rich\", \"rich\", \"little\", \"moderate\", \"little\", \"moderate\", \"little\", \"little\", \"rich\", \"rich\", \"little\", \"little\", \"little\", \"moderate\", \"rich\", \"little\", \"little\", \"moderate\", \"little\", \"rich\", \"moderate\", \"little\", \"little\", \"little\", \"little\", \"little\", \"moderate\", \"little\", \"moderate\", \"rich\", \"rich\", \"little\", \"moderate\", \"little\", \"moderate\", \"little\", \"moderate\", \"moderate\", \"moderate\", \"little\", \"little\", \"little\", \"little\", \"little\", \"moderate\", \"moderate\", \"moderate\", \"moderate\", \"little\", \"little\", \"moderate\", \"little\", \"moderate\", \"little\", \"little\", \"moderate\", \"moderate\", \"little\", \"moderate\", \"little\", \"little\", \"little\", \"rich\", \"rich\", \"moderate\", \"little\", \"moderate\", \"little\", \"little\", \"little\", \"moderate\", \"moderate\", \"rich\", \"moderate\", \"little\", \"little\", \"little\", \"little\", \"little\", \"little\", \"moderate\", \"moderate\", \"moderate\", \"moderate\", \"rich\", \"little\", \"moderate\", \"little\", \"moderate\", \"little\", \"rich\", \"little\", \"moderate\", \"moderate\", \"moderate\", \"moderate\", \"moderate\", \"moderate\", \"moderate\", \"rich\", \"little\", \"little\", \"little\", \"moderate\", \"little\", \"little\", \"moderate\", \"moderate\", \"moderate\", \"little\", \"little\", \"little\", \"rich\", \"little\", \"little\", \"rich\", \"little\", \"moderate\", \"moderate\", \"little\", \"moderate\", \"moderate\", \"rich\", \"little\", \"rich\", \"little\", \"little\", \"little\", \"little\", \"little\", \"moderate\", \"rich\", \"moderate\", \"rich\", \"little\", \"little\", \"little\", \"little\", \"moderate\", \"moderate\", \"moderate\", \"moderate\", \"rich\", \"rich\", \"moderate\", \"rich\", \"little\", \"moderate\", \"little\", \"little\", \"moderate\", \"moderate\", \"moderate\", \"moderate\", \"little\", \"moderate\", \"little\", \"rich\", \"little\", \"little\", \"little\", \"little\", \"moderate\", \"moderate\", \"little\", \"little\", \"little\", \"little\", \"moderate\", \"rich\", \"rich\", \"little\", \"little\", \"rich\", \"little\", \"little\", \"little\", \"moderate\", \"moderate\", \"moderate\", \"rich\", \"moderate\", \"moderate\", \"moderate\", \"rich\", \"moderate\", \"rich\", \"little\", \"little\", \"little\", \"little\", \"moderate\", \"little\", \"little\", \"rich\", \"little\", \"moderate\", \"moderate\", \"moderate\", \"little\", \"little\", \"little\", \"moderate\", \"rich\", \"little\", \"little\", \"little\", \"moderate\", \"little\", \"little\", \"little\", \"moderate\", \"little\", \"moderate\", \"little\", \"moderate\", \"rich\", \"little\", \"moderate\", \"rich\", \"rich\", \"little\", \"little\", \"little\", \"rich\", \"little\", \"rich\", \"little\", \"moderate\", \"little\", \"moderate\", \"little\", \"little\", \"little\", \"little\", \"little\", \"moderate\", \"little\", \"moderate\", \"little\", \"moderate\", \"moderate\", \"little\", \"little\", \"moderate\", \"moderate\", \"little\", \"moderate\", \"moderate\", \"moderate\", \"little\", \"little\", \"little\", \"little\", \"little\", \"little\", \"rich\", \"little\", \"little\", \"little\", \"moderate\", \"little\", \"moderate\", \"little\", \"moderate\", \"rich\", \"little\", \"little\", \"little\", \"little\", \"little\", \"rich\", \"moderate\", \"little\", \"rich\", \"moderate\", \"little\", \"little\", \"little\", \"little\", \"little\", \"little\", \"little\", \"little\", \"moderate\", \"little\", \"moderate\", \"little\", \"little\", \"little\", \"moderate\", \"rich\", \"rich\", \"rich\", \"little\", \"moderate\", \"rich\", \"little\", \"rich\", \"little\", \"rich\", \"rich\", \"moderate\", \"moderate\", \"moderate\", \"little\", \"moderate\", \"moderate\", \"rich\", \"moderate\", \"moderate\", \"moderate\", \"moderate\", \"rich\", \"little\", \"moderate\", \"little\", \"moderate\", \"moderate\", \"moderate\", \"little\", \"little\", \"little\", \"little\", \"moderate\", \"moderate\", \"little\", \"little\", \"rich\", \"moderate\", \"moderate\", \"moderate\", \"moderate\", \"moderate\", \"little\", \"rich\", \"moderate\", \"little\", \"moderate\", \"little\", \"rich\", \"little\", \"little\", \"moderate\", \"little\", \"little\", \"moderate\", \"little\", \"little\", \"moderate\", \"rich\", \"little\", \"rich\", \"moderate\", \"little\", \"little\", \"moderate\", \"moderate\", \"little\", \"rich\", \"little\", \"moderate\", \"little\", \"rich\", \"little\", \"moderate\", \"little\", \"little\", \"little\", \"little\", \"moderate\", \"moderate\", \"rich\", \"rich\", \"moderate\", \"little\", \"moderate\", \"moderate\", \"little\", \"little\", \"little\", \"little\", \"little\", \"little\", \"rich\", \"little\", \"little\", \"little\", \"little\", \"little\", \"little\", \"moderate\", \"moderate\", \"moderate\", \"moderate\", \"little\", \"little\", \"moderate\", \"rich\", \"little\", \"little\", \"little\", \"moderate\", \"rich\", \"little\", \"moderate\", \"moderate\", \"moderate\", \"moderate\", \"rich\", \"rich\", \"moderate\", \"moderate\", \"little\", \"little\", \"little\", \"little\", \"moderate\", \"little\", \"little\", \"little\", \"moderate\", \"little\", \"little\", \"rich\", \"little\", \"little\", \"little\", \"little\", \"moderate\", \"little\", \"little\", \"little\", \"little\", \"moderate\", \"rich\", \"little\", \"rich\", \"moderate\", \"little\", \"little\", \"little\", \"little\", \"little\", \"moderate\", \"moderate\", \"little\", \"little\", \"rich\", \"rich\", \"rich\", \"little\", \"little\", \"moderate\", \"little\", \"moderate\", \"little\", \"moderate\", \"rich\", \"little\", \"moderate\", \"little\", \"moderate\", \"little\", \"little\", \"moderate\", \"moderate\", \"moderate\", \"little\", \"rich\", \"moderate\", \"little\", \"moderate\", \"little\", \"moderate\", \"moderate\", \"little\", \"little\", \"little\", \"moderate\", \"rich\", \"little\", \"moderate\", \"moderate\", \"rich\", \"little\", \"little\", \"moderate\", \"little\", \"little\", \"little\", \"little\", \"moderate\", \"little\", \"little\", \"moderate\", \"little\", \"little\", \"little\", \"moderate\", \"little\", \"little\", \"little\", \"little\", \"moderate\", \"little\", \"little\", \"little\", \"little\", \"little\", \"little\", \"moderate\", \"moderate\", \"moderate\", \"moderate\", \"rich\", \"little\", \"moderate\", \"little\", \"moderate\", \"little\", \"rich\", \"rich\", \"moderate\", \"moderate\", \"moderate\", \"moderate\", \"little\", \"moderate\", \"moderate\", \"little\", \"moderate\", \"little\", \"moderate\", \"moderate\", \"little\", \"moderate\", \"moderate\", \"moderate\", \"little\", \"moderate\", \"rich\", \"little\", \"little\", \"little\", \"little\", \"little\", \"little\", \"moderate\", \"rich\", \"moderate\", \"rich\", \"little\", \"moderate\", \"little\", \"little\", \"little\", \"rich\", \"moderate\", \"little\", \"little\", \"little\", \"little\", \"little\", \"moderate\", \"moderate\", \"little\", \"moderate\", \"little\", \"moderate\", \"rich\", \"little\", \"little\", \"little\", \"little\", \"little\", \"rich\", \"rich\", \"moderate\", \"little\", \"moderate\", \"moderate\", \"little\", \"little\", \"moderate\", \"moderate\", \"little\", \"moderate\", \"rich\", \"little\", \"little\", \"little\", \"little\", \"little\", \"moderate\", \"moderate\", \"little\", \"moderate\", \"moderate\", \"little\", \"little\", \"moderate\", \"moderate\", \"moderate\", \"little\", \"moderate\", \"little\", \"little\", \"little\", \"moderate\", \"rich\", \"little\", \"moderate\", \"moderate\", \"little\", \"moderate\", \"rich\", \"rich\", \"little\", \"moderate\", \"moderate\", \"moderate\", \"little\", \"moderate\", \"little\", \"moderate\", \"rich\", \"moderate\", \"little\", \"little\", \"little\", \"little\", \"rich\", \"moderate\", \"little\", \"moderate\", \"little\", \"little\", \"moderate\", \"little\", \"little\", \"little\", \"moderate\", \"little\", \"moderate\", \"moderate\", \"moderate\", \"moderate\", \"rich\", \"little\", \"moderate\", \"moderate\", \"little\", \"little\", \"moderate\", \"rich\", \"rich\", \"little\", \"moderate\", \"little\", \"little\", \"rich\", \"moderate\", \"little\", \"rich\", \"little\", \"rich\", \"moderate\", \"little\", \"little\", \"rich\", \"moderate\", \"little\", \"little\", \"little\", \"rich\", \"moderate\", \"rich\", \"moderate\", \"moderate\", \"little\", \"little\", \"little\", \"moderate\", \"little\", \"little\", \"little\", \"moderate\", \"little\", \"moderate\", \"moderate\", \"little\", \"little\", \"little\", \"little\", \"little\", \"little\", \"moderate\", \"rich\", \"little\", \"little\", \"moderate\", \"little\", \"moderate\", \"rich\", \"rich\", \"moderate\", \"moderate\", \"little\", \"moderate\"]}, {\"label\": \"Purpose\", \"values\": [\"radio/TV\", \"radio/TV\", \"education\", \"furniture/equipment\", \"car\", \"education\", \"car\", \"car\", \"car\", \"business\", \"radio/TV\", \"car\", \"car\", \"radio/TV\", \"radio/TV\", \"business\", \"car\", \"car\", \"car\", \"furniture/equipment\", \"furniture/equipment\", \"radio/TV\", \"radio/TV\", \"business\", \"furniture/equipment\", \"car\", \"business\", \"radio/TV\", \"education\", \"repairs\", \"car\", \"car\", \"car\", \"car\", \"radio/TV\", \"furniture/equipment\", \"car\", \"radio/TV\", \"car\", \"car\", \"car\", \"radio/TV\", \"radio/TV\", \"furniture/equipment\", \"business\", \"radio/TV\", \"repairs\", \"radio/TV\", \"education\", \"radio/TV\", \"car\", \"radio/TV\", \"vacation/others\", \"business\", \"education\", \"car\", \"radio/TV\", \"car\", \"furniture/equipment\", \"radio/TV\", \"business\", \"vacation/others\", \"radio/TV\", \"furniture/equipment\", \"education\", \"repairs\", \"radio/TV\", \"car\", \"radio/TV\", \"furniture/equipment\", \"business\", \"radio/TV\", \"car\", \"car\", \"radio/TV\", \"radio/TV\", \"furniture/equipment\", \"car\", \"vacation/others\", \"car\", \"car\", \"furniture/equipment\", \"education\", \"car\", \"car\", \"radio/TV\", \"radio/TV\", \"furniture/equipment\", \"furniture/equipment\", \"radio/TV\", \"car\", \"furniture/equipment\", \"car\", \"furniture/equipment\", \"car\", \"radio/TV\", \"car\", \"car\", \"education\", \"furniture/equipment\", \"furniture/equipment\", \"radio/TV\", \"radio/TV\", \"car\", \"radio/TV\", \"car\", \"radio/TV\", \"radio/TV\", \"furniture/equipment\", \"furniture/equipment\", \"car\", \"car\", \"furniture/equipment\", \"radio/TV\", \"radio/TV\", \"radio/TV\", \"car\", \"business\", \"furniture/equipment\", \"education\", \"radio/TV\", \"car\", \"car\", \"furniture/equipment\", \"furniture/equipment\", \"car\", \"furniture/equipment\", \"car\", \"furniture/equipment\", \"radio/TV\", \"car\", \"business\", \"car\", \"radio/TV\", \"car\", \"car\", \"furniture/equipment\", \"business\", \"radio/TV\", \"radio/TV\", \"radio/TV\", \"furniture/equipment\", \"car\", \"car\", \"business\", \"education\", \"car\", \"car\", \"furniture/equipment\", \"business\", \"radio/TV\", \"radio/TV\", \"business\", \"radio/TV\", \"education\", \"radio/TV\", \"furniture/equipment\", \"car\", \"radio/TV\", \"education\", \"radio/TV\", \"car\", \"repairs\", \"radio/TV\", \"furniture/equipment\", \"radio/TV\", \"furniture/equipment\", \"radio/TV\", \"radio/TV\", \"radio/TV\", \"car\", \"business\", \"radio/TV\", \"radio/TV\", \"car\", \"radio/TV\", \"car\", \"radio/TV\", \"car\", \"radio/TV\", \"car\", \"furniture/equipment\", \"car\", \"radio/TV\", \"radio/TV\", \"radio/TV\", \"car\", \"radio/TV\", \"furniture/equipment\", \"radio/TV\", \"car\", \"education\", \"car\", \"business\", \"radio/TV\", \"car\", \"radio/TV\", \"car\", \"furniture/equipment\", \"car\", \"radio/TV\", \"repairs\", \"radio/TV\", \"radio/TV\", \"furniture/equipment\", \"furniture/equipment\", \"radio/TV\", \"car\", \"furniture/equipment\", \"furniture/equipment\", \"car\", \"car\", \"vacation/others\", \"radio/TV\", \"radio/TV\", \"car\", \"car\", \"car\", \"business\", \"furniture/equipment\", \"car\", \"car\", \"furniture/equipment\", \"car\", \"radio/TV\", \"car\", \"car\", \"car\", \"radio/TV\", \"furniture/equipment\", \"car\", \"vacation/others\", \"furniture/equipment\", \"car\", \"furniture/equipment\", \"furniture/equipment\", \"furniture/equipment\", \"furniture/equipment\", \"car\", \"radio/TV\", \"car\", \"car\", \"car\", \"furniture/equipment\", \"radio/TV\", \"car\", \"car\", \"car\", \"furniture/equipment\", \"furniture/equipment\", \"radio/TV\", \"domestic appliances\", \"furniture/equipment\", \"furniture/equipment\", \"education\", \"furniture/equipment\", \"radio/TV\", \"radio/TV\", \"domestic appliances\", \"furniture/equipment\", \"radio/TV\", \"car\", \"radio/TV\", \"radio/TV\", \"radio/TV\", \"furniture/equipment\", \"education\", \"furniture/equipment\", \"furniture/equipment\", \"car\", \"furniture/equipment\", \"furniture/equipment\", \"furniture/equipment\", \"car\", \"radio/TV\", \"furniture/equipment\", \"car\", \"vacation/others\", \"business\", \"radio/TV\", \"radio/TV\", \"car\", \"car\", \"furniture/equipment\", \"car\", \"car\", \"business\", \"radio/TV\", \"radio/TV\", \"furniture/equipment\", \"furniture/equipment\", \"car\", \"radio/TV\", \"education\", \"furniture/equipment\", \"furniture/equipment\", \"car\", \"radio/TV\", \"radio/TV\", \"business\", \"car\", \"car\", \"radio/TV\", \"radio/TV\", \"car\", \"car\", \"car\", \"car\", \"car\", \"education\", \"car\", \"car\", \"car\", \"furniture/equipment\", \"car\", \"radio/TV\", \"furniture/equipment\", \"repairs\", \"vacation/others\", \"furniture/equipment\", \"repairs\", \"furniture/equipment\", \"repairs\", \"repairs\", \"business\", \"furniture/equipment\", \"education\", \"furniture/equipment\", \"education\", \"car\", \"car\", \"radio/TV\", \"furniture/equipment\", \"car\", \"car\", \"car\", \"domestic appliances\", \"radio/TV\", \"furniture/equipment\", \"car\", \"furniture/equipment\", \"car\", \"radio/TV\", \"radio/TV\", \"business\", \"car\", \"radio/TV\", \"car\", \"furniture/equipment\", \"radio/TV\", \"furniture/equipment\", \"radio/TV\", \"furniture/equipment\", \"radio/TV\", \"car\", \"car\", \"car\", \"radio/TV\", \"business\", \"radio/TV\", \"car\", \"furniture/equipment\", \"furniture/equipment\", \"furniture/equipment\", \"radio/TV\", \"car\", \"car\", \"car\", \"car\", \"car\", \"radio/TV\", \"car\", \"car\", \"car\", \"radio/TV\", \"car\", \"car\", \"car\", \"furniture/equipment\", \"radio/TV\", \"repairs\", \"radio/TV\", \"furniture/equipment\", \"car\", \"radio/TV\", \"car\", \"radio/TV\", \"radio/TV\", \"car\", \"education\", \"car\", \"car\", \"radio/TV\", \"education\", \"furniture/equipment\", \"car\", \"furniture/equipment\", \"radio/TV\", \"car\", \"furniture/equipment\", \"car\", \"car\", \"car\", \"radio/TV\", \"radio/TV\", \"car\", \"repairs\", \"radio/TV\", \"car\", \"furniture/equipment\", \"furniture/equipment\", \"car\", \"radio/TV\", \"car\", \"radio/TV\", \"car\", \"radio/TV\", \"radio/TV\", \"furniture/equipment\", \"radio/TV\", \"car\", \"radio/TV\", \"furniture/equipment\", \"radio/TV\", \"car\", \"education\", \"car\", \"furniture/equipment\", \"repairs\", \"car\", \"furniture/equipment\", \"car\", \"furniture/equipment\", \"domestic appliances\", \"furniture/equipment\", \"radio/TV\", \"car\", \"car\", \"car\", \"car\", \"car\", \"radio/TV\", \"furniture/equipment\", \"education\", \"furniture/equipment\", \"radio/TV\", \"radio/TV\", \"car\", \"domestic appliances\", \"car\", \"car\", \"furniture/equipment\", \"business\", \"radio/TV\", \"car\", \"furniture/equipment\", \"car\", \"car\", \"business\", \"furniture/equipment\", \"radio/TV\", \"radio/TV\", \"education\", \"radio/TV\", \"furniture/equipment\", \"furniture/equipment\", \"car\", \"radio/TV\", \"radio/TV\", \"radio/TV\", \"education\", \"repairs\", \"radio/TV\", \"business\", \"furniture/equipment\", \"car\", \"education\", \"education\", \"furniture/equipment\", \"car\", \"car\", \"car\", \"car\", \"car\", \"radio/TV\", \"business\", \"furniture/equipment\", \"radio/TV\", \"car\", \"furniture/equipment\", \"vacation/others\", \"furniture/equipment\", \"business\", \"car\", \"radio/TV\", \"business\", \"car\", \"radio/TV\", \"furniture/equipment\", \"radio/TV\", \"radio/TV\", \"radio/TV\", \"radio/TV\", \"radio/TV\", \"radio/TV\", \"business\", \"car\", \"car\", \"furniture/equipment\", \"repairs\", \"car\", \"radio/TV\", \"car\", \"radio/TV\", \"furniture/equipment\", \"car\", \"radio/TV\", \"business\", \"car\", \"car\", \"furniture/equipment\", \"radio/TV\", \"radio/TV\", \"education\", \"radio/TV\", \"car\", \"car\", \"radio/TV\", \"radio/TV\", \"car\", \"education\", \"car\", \"car\", \"car\", \"radio/TV\", \"business\", \"radio/TV\", \"radio/TV\", \"radio/TV\", \"car\", \"car\", \"domestic appliances\", \"car\", \"car\", \"car\", \"business\", \"radio/TV\", \"radio/TV\", \"furniture/equipment\", \"car\", \"car\", \"car\", \"car\", \"furniture/equipment\", \"car\", \"business\", \"radio/TV\", \"repairs\", \"car\", \"car\", \"radio/TV\", \"car\", \"car\", \"car\", \"furniture/equipment\", \"radio/TV\", \"car\", \"radio/TV\", \"furniture/equipment\", \"car\", \"furniture/equipment\", \"radio/TV\", \"car\", \"education\", \"car\", \"car\", \"car\", \"radio/TV\", \"car\", \"repairs\", \"radio/TV\", \"car\", \"car\", \"car\", \"education\", \"education\", \"car\", \"furniture/equipment\", \"furniture/equipment\", \"furniture/equipment\", \"car\", \"furniture/equipment\", \"car\", \"car\", \"education\", \"radio/TV\", \"furniture/equipment\", \"radio/TV\", \"car\", \"car\", \"radio/TV\", \"radio/TV\", \"car\", \"car\", \"radio/TV\", \"car\", \"domestic appliances\", \"car\", \"car\", \"radio/TV\", \"vacation/others\", \"radio/TV\", \"car\", \"furniture/equipment\", \"car\", \"car\", \"car\", \"car\", \"business\", \"car\", \"business\", \"radio/TV\", \"radio/TV\", \"car\", \"radio/TV\", \"furniture/equipment\", \"car\", \"radio/TV\", \"furniture/equipment\", \"car\", \"repairs\", \"furniture/equipment\", \"car\", \"car\", \"radio/TV\", \"radio/TV\", \"car\", \"car\", \"radio/TV\", \"car\", \"car\", \"furniture/equipment\", \"car\", \"car\", \"car\", \"radio/TV\", \"furniture/equipment\", \"furniture/equipment\", \"furniture/equipment\", \"radio/TV\", \"furniture/equipment\", \"business\", \"furniture/equipment\", \"furniture/equipment\", \"domestic appliances\", \"furniture/equipment\", \"radio/TV\", \"radio/TV\", \"car\", \"radio/TV\", \"car\", \"car\", \"car\", \"radio/TV\", \"business\", \"car\", \"car\", \"radio/TV\", \"car\", \"car\", \"radio/TV\", \"car\", \"radio/TV\", \"furniture/equipment\", \"furniture/equipment\", \"car\", \"car\", \"car\", \"radio/TV\", \"radio/TV\", \"car\", \"education\", \"car\", \"car\", \"radio/TV\", \"furniture/equipment\", \"radio/TV\", \"business\", \"vacation/others\", \"car\", \"furniture/equipment\", \"furniture/equipment\", \"radio/TV\", \"radio/TV\", \"car\", \"furniture/equipment\", \"car\", \"furniture/equipment\", \"car\", \"radio/TV\", \"car\", \"furniture/equipment\", \"radio/TV\", \"car\", \"radio/TV\", \"radio/TV\", \"radio/TV\", \"radio/TV\", \"education\", \"car\", \"car\", \"furniture/equipment\", \"car\", \"furniture/equipment\", \"car\", \"furniture/equipment\", \"business\", \"business\", \"furniture/equipment\", \"car\", \"radio/TV\", \"radio/TV\", \"radio/TV\", \"car\", \"furniture/equipment\", \"radio/TV\", \"car\", \"repairs\", \"radio/TV\", \"radio/TV\", \"radio/TV\", \"radio/TV\", \"car\", \"car\", \"car\", \"business\", \"radio/TV\", \"radio/TV\", \"car\", \"car\", \"furniture/equipment\", \"business\", \"car\", \"furniture/equipment\", \"furniture/equipment\", \"business\", \"radio/TV\", \"car\", \"radio/TV\", \"education\", \"radio/TV\", \"radio/TV\", \"furniture/equipment\", \"car\", \"furniture/equipment\", \"car\", \"radio/TV\", \"radio/TV\", \"car\", \"car\", \"radio/TV\", \"business\", \"furniture/equipment\", \"business\", \"car\", \"radio/TV\", \"car\", \"car\", \"business\", \"education\", \"car\", \"radio/TV\", \"business\", \"radio/TV\", \"radio/TV\", \"education\", \"radio/TV\", \"car\", \"education\", \"furniture/equipment\", \"radio/TV\", \"education\", \"car\", \"furniture/equipment\", \"furniture/equipment\", \"business\", \"radio/TV\", \"business\", \"business\", \"education\", \"furniture/equipment\", \"radio/TV\", \"radio/TV\", \"radio/TV\", \"business\", \"radio/TV\", \"education\", \"radio/TV\", \"car\", \"radio/TV\", \"radio/TV\", \"business\", \"education\", \"car\", \"radio/TV\", \"business\", \"car\", \"furniture/equipment\", \"furniture/equipment\", \"radio/TV\", \"business\", \"radio/TV\", \"radio/TV\", \"furniture/equipment\", \"education\", \"car\", \"car\", \"furniture/equipment\", \"radio/TV\", \"business\", \"radio/TV\", \"domestic appliances\", \"business\", \"business\", \"furniture/equipment\", \"education\", \"furniture/equipment\", \"car\", \"car\", \"business\", \"radio/TV\", \"business\", \"radio/TV\", \"furniture/equipment\", \"car\", \"car\", \"car\", \"radio/TV\", \"car\", \"radio/TV\", \"car\", \"radio/TV\", \"radio/TV\", \"radio/TV\", \"car\", \"furniture/equipment\", \"business\", \"furniture/equipment\", \"car\", \"education\", \"education\", \"business\", \"furniture/equipment\", \"business\", \"radio/TV\", \"business\", \"furniture/equipment\", \"radio/TV\", \"car\", \"car\", \"radio/TV\", \"radio/TV\", \"radio/TV\", \"furniture/equipment\", \"car\", \"business\", \"radio/TV\", \"radio/TV\", \"education\", \"car\", \"radio/TV\", \"car\", \"car\", \"radio/TV\", \"business\", \"radio/TV\", \"car\", \"radio/TV\", \"business\", \"business\", \"domestic appliances\", \"business\", \"radio/TV\", \"car\", \"business\", \"car\", \"car\", \"education\", \"radio/TV\", \"business\", \"car\", \"car\", \"radio/TV\", \"furniture/equipment\", \"car\", \"business\", \"vacation/others\", \"business\", \"business\", \"education\", \"repairs\", \"business\", \"radio/TV\", \"radio/TV\", \"car\", \"radio/TV\", \"radio/TV\", \"car\", \"car\", \"domestic appliances\", \"education\", \"furniture/equipment\", \"business\", \"furniture/equipment\", \"business\", \"business\", \"car\", \"business\", \"business\", \"business\", \"radio/TV\", \"education\", \"car\", \"business\", \"radio/TV\", \"vacation/others\", \"business\", \"education\", \"business\", \"car\", \"radio/TV\", \"car\", \"car\", \"car\", \"radio/TV\", \"vacation/others\", \"car\", \"car\", \"radio/TV\", \"furniture/equipment\", \"repairs\", \"car\", \"furniture/equipment\", \"car\", \"education\", \"business\", \"vacation/others\", \"radio/TV\", \"domestic appliances\", \"repairs\", \"car\", \"radio/TV\", \"business\", \"car\", \"radio/TV\", \"business\", \"car\", \"domestic appliances\", \"repairs\", \"business\", \"furniture/equipment\", \"business\", \"education\", \"car\", \"business\", \"radio/TV\", \"car\", \"car\", \"radio/TV\", \"radio/TV\", \"business\", \"radio/TV\", \"education\", \"car\", \"radio/TV\", \"radio/TV\", \"radio/TV\", \"car\", \"radio/TV\", \"education\", \"car\", \"car\", \"furniture/equipment\", \"furniture/equipment\", \"furniture/equipment\", \"education\", \"radio/TV\", \"furniture/equipment\", \"education\", \"business\", \"business\", \"car\", \"education\", \"radio/TV\", \"radio/TV\", \"furniture/equipment\", \"business\", \"furniture/equipment\", \"car\", \"car\", \"car\", \"radio/TV\", \"business\", \"car\", \"furniture/equipment\", \"education\", \"business\", \"radio/TV\", \"radio/TV\", \"education\", \"business\", \"education\", \"furniture/equipment\", \"radio/TV\", \"business\", \"business\", \"education\", \"radio/TV\", \"car\", \"furniture/equipment\", \"education\", \"business\", \"car\", \"car\", \"furniture/equipment\", \"business\", \"furniture/equipment\", \"business\", \"car\", \"car\", \"radio/TV\", \"business\", \"furniture/equipment\", \"education\", \"car\", \"domestic appliances\", \"business\", \"business\", \"radio/TV\", \"furniture/equipment\", \"radio/TV\", \"car\", \"radio/TV\", \"car\", \"car\", \"car\", \"radio/TV\", \"repairs\", \"business\", \"business\", \"education\", \"education\", \"car\", \"business\", \"car\", \"furniture/equipment\", \"radio/TV\", \"radio/TV\", \"furniture/equipment\", \"education\", \"business\", \"education\", \"car\", \"radio/TV\", \"furniture/equipment\", \"car\", \"business\", \"radio/TV\", \"radio/TV\", \"business\", \"furniture/equipment\", \"furniture/equipment\", \"radio/TV\", \"car\", \"education\", \"radio/TV\", \"business\", \"education\", \"car\", \"radio/TV\", \"radio/TV\", \"furniture/equipment\", \"furniture/equipment\", \"business\", \"car\", \"car\", \"car\", \"education\", \"furniture/equipment\", \"car\", \"car\", \"business\", \"radio/TV\", \"radio/TV\", \"business\", \"car\", \"business\", \"vacation/others\", \"radio/TV\", \"car\", \"car\", \"radio/TV\", \"business\", \"radio/TV\", \"furniture/equipment\", \"business\", \"radio/TV\", \"car\", \"radio/TV\", \"radio/TV\", \"radio/TV\", \"car\", \"business\", \"business\", \"radio/TV\", \"car\", \"radio/TV\", \"car\", \"radio/TV\", \"car\", \"business\", \"car\", \"business\", \"car\", \"business\", \"car\", \"business\", \"domestic appliances\", \"furniture/equipment\", \"radio/TV\", \"car\", \"radio/TV\", \"car\", \"furniture/equipment\", \"business\", \"business\", \"car\", \"car\", \"business\", \"business\", \"business\", \"radio/TV\", \"car\", \"radio/TV\", \"furniture/equipment\", \"radio/TV\", \"business\", \"car\", \"furniture/equipment\", \"furniture/equipment\", \"radio/TV\", \"car\", \"repairs\", \"radio/TV\", \"radio/TV\", \"radio/TV\", \"education\", \"business\", \"car\", \"education\", \"car\", \"radio/TV\", \"education\", \"car\", \"business\", \"business\", \"education\", \"radio/TV\", \"radio/TV\", \"car\", \"car\", \"radio/TV\", \"business\", \"radio/TV\", \"business\", \"business\", \"radio/TV\", \"car\", \"car\", \"business\", \"furniture/equipment\", \"car\", \"car\", \"radio/TV\", \"radio/TV\", \"business\", \"furniture/equipment\", \"furniture/equipment\", \"car\", \"repairs\", \"business\", \"business\", \"radio/TV\", \"radio/TV\", \"business\", \"education\", \"radio/TV\", \"education\", \"repairs\", \"business\", \"radio/TV\", \"business\", \"business\", \"car\", \"business\", \"furniture/equipment\", \"car\", \"furniture/equipment\", \"car\", \"furniture/equipment\", \"car\", \"car\", \"radio/TV\", \"business\", \"radio/TV\", \"radio/TV\", \"radio/TV\", \"car\", \"radio/TV\", \"car\", \"radio/TV\", \"radio/TV\", \"car\", \"radio/TV\", \"business\", \"repairs\", \"furniture/equipment\", \"radio/TV\", \"radio/TV\", \"education\", \"business\", \"furniture/equipment\", \"radio/TV\", \"furniture/equipment\", \"business\", \"car\", \"car\", \"car\", \"business\", \"radio/TV\", \"business\", \"radio/TV\", \"car\", \"furniture/equipment\", \"business\", \"car\", \"car\", \"furniture/equipment\", \"radio/TV\", \"radio/TV\", \"business\", \"radio/TV\", \"radio/TV\", \"repairs\", \"furniture/equipment\", \"furniture/equipment\", \"radio/TV\", \"car\", \"radio/TV\", \"business\", \"business\", \"business\", \"radio/TV\", \"business\", \"business\", \"car\", \"radio/TV\", \"repairs\", \"radio/TV\", \"business\", \"radio/TV\", \"furniture/equipment\", \"car\", \"car\", \"radio/TV\", \"car\", \"business\", \"furniture/equipment\", \"radio/TV\", \"car\", \"radio/TV\", \"furniture/equipment\", \"radio/TV\", \"business\", \"radio/TV\", \"radio/TV\", \"car\", \"business\", \"radio/TV\", \"domestic appliances\", \"radio/TV\", \"radio/TV\", \"car\", \"business\", \"furniture/equipment\", \"car\", \"radio/TV\", \"education\", \"business\", \"education\", \"business\", \"furniture/equipment\", \"business\", \"car\", \"business\", \"car\", \"radio/TV\", \"furniture/equipment\", \"furniture/equipment\", \"car\", \"radio/TV\", \"furniture/equipment\", \"radio/TV\", \"car\", \"education\", \"car\", \"business\", \"furniture/equipment\", \"business\", \"car\", \"radio/TV\", \"business\", \"education\", \"radio/TV\", \"business\", \"radio/TV\", \"furniture/equipment\", \"business\", \"car\", \"radio/TV\", \"car\", \"education\", \"business\", \"radio/TV\", \"car\", \"radio/TV\", \"education\", \"car\", \"car\", \"furniture/equipment\", \"radio/TV\", \"business\", \"furniture/equipment\", \"education\", \"education\", \"car\", \"repairs\", \"education\", \"business\", \"radio/TV\", \"business\", \"business\", \"radio/TV\", \"radio/TV\", \"domestic appliances\", \"radio/TV\", \"radio/TV\", \"radio/TV\", \"car\", \"radio/TV\", \"radio/TV\", \"education\", \"radio/TV\", \"radio/TV\", \"radio/TV\", \"radio/TV\", \"education\", \"radio/TV\", \"furniture/equipment\", \"radio/TV\", \"furniture/equipment\", \"radio/TV\", \"car\", \"car\", \"domestic appliances\", \"car\", \"business\", \"car\", \"radio/TV\", \"business\", \"car\", \"education\", \"radio/TV\", \"business\", \"radio/TV\", \"radio/TV\", \"education\", \"car\", \"radio/TV\", \"radio/TV\", \"furniture/equipment\", \"radio/TV\", \"car\", \"radio/TV\", \"car\", \"business\", \"business\", \"radio/TV\", \"radio/TV\", \"business\", \"business\", \"business\", \"car\", \"vacation/others\", \"education\", \"radio/TV\", \"business\", \"car\", \"furniture/equipment\", \"education\", \"business\", \"furniture/equipment\", \"education\", \"radio/TV\", \"radio/TV\", \"furniture/equipment\", \"radio/TV\", \"furniture/equipment\", \"education\", \"radio/TV\", \"radio/TV\", \"business\", \"furniture/equipment\", \"car\", \"car\", \"furniture/equipment\", \"radio/TV\", \"radio/TV\", \"business\", \"radio/TV\", \"furniture/equipment\", \"radio/TV\", \"car\", \"radio/TV\", \"car\", \"business\", \"radio/TV\", \"education\", \"car\", \"vacation/others\", \"furniture/equipment\", \"car\", \"radio/TV\", \"furniture/equipment\", \"business\", \"radio/TV\", \"car\", \"furniture/equipment\", \"radio/TV\", \"radio/TV\", \"education\", \"car\", \"car\", \"radio/TV\", \"furniture/equipment\", \"furniture/equipment\", \"radio/TV\", \"education\", \"furniture/equipment\", \"car\", \"furniture/equipment\", \"business\", \"car\", \"education\", \"radio/TV\", \"car\", \"radio/TV\", \"car\", \"domestic appliances\", \"business\", \"business\", \"furniture/equipment\", \"radio/TV\", \"furniture/equipment\", \"radio/TV\", \"radio/TV\", \"radio/TV\", \"car\", \"education\", \"business\", \"business\", \"business\", \"furniture/equipment\", \"radio/TV\", \"radio/TV\", \"radio/TV\", \"business\", \"radio/TV\", \"business\", \"business\", \"business\", \"radio/TV\", \"furniture/equipment\", \"education\", \"education\", \"business\", \"domestic appliances\", \"education\", \"radio/TV\", \"business\", \"radio/TV\", \"car\", \"car\", \"business\", \"radio/TV\", \"car\", \"furniture/equipment\", \"car\", \"education\", \"car\", \"radio/TV\", \"radio/TV\", \"car\", \"furniture/equipment\", \"furniture/equipment\", \"business\", \"car\", \"business\"]}], \"hoverinfo\": \"count+probability\", \"hoveron\": \"color\", \"labelfont\": {\"family\": \"Times\", \"size\": 18}, \"tickfont\": {\"family\": \"Times\", \"size\": 16}, \"type\": \"parcats\"}],\n",
              "                        {\"template\": {\"data\": {\"bar\": [{\"error_x\": {\"color\": \"#2a3f5f\"}, \"error_y\": {\"color\": \"#2a3f5f\"}, \"marker\": {\"line\": {\"color\": \"#E5ECF6\", \"width\": 0.5}}, \"type\": \"bar\"}], \"barpolar\": [{\"marker\": {\"line\": {\"color\": \"#E5ECF6\", \"width\": 0.5}}, \"type\": \"barpolar\"}], \"carpet\": [{\"aaxis\": {\"endlinecolor\": \"#2a3f5f\", \"gridcolor\": \"white\", \"linecolor\": \"white\", \"minorgridcolor\": \"white\", \"startlinecolor\": \"#2a3f5f\"}, \"baxis\": {\"endlinecolor\": \"#2a3f5f\", \"gridcolor\": \"white\", \"linecolor\": \"white\", \"minorgridcolor\": \"white\", \"startlinecolor\": \"#2a3f5f\"}, \"type\": \"carpet\"}], \"choropleth\": [{\"colorbar\": {\"outlinewidth\": 0, \"ticks\": \"\"}, \"type\": \"choropleth\"}], \"contour\": [{\"colorbar\": {\"outlinewidth\": 0, \"ticks\": \"\"}, \"colorscale\": [[0.0, \"#0d0887\"], [0.1111111111111111, \"#46039f\"], [0.2222222222222222, \"#7201a8\"], [0.3333333333333333, \"#9c179e\"], [0.4444444444444444, \"#bd3786\"], [0.5555555555555556, \"#d8576b\"], [0.6666666666666666, \"#ed7953\"], [0.7777777777777778, \"#fb9f3a\"], [0.8888888888888888, \"#fdca26\"], [1.0, \"#f0f921\"]], \"type\": \"contour\"}], \"contourcarpet\": [{\"colorbar\": {\"outlinewidth\": 0, \"ticks\": \"\"}, \"type\": \"contourcarpet\"}], \"heatmap\": [{\"colorbar\": {\"outlinewidth\": 0, \"ticks\": \"\"}, \"colorscale\": [[0.0, \"#0d0887\"], [0.1111111111111111, \"#46039f\"], [0.2222222222222222, \"#7201a8\"], [0.3333333333333333, \"#9c179e\"], [0.4444444444444444, \"#bd3786\"], [0.5555555555555556, \"#d8576b\"], [0.6666666666666666, \"#ed7953\"], [0.7777777777777778, \"#fb9f3a\"], [0.8888888888888888, \"#fdca26\"], [1.0, \"#f0f921\"]], \"type\": \"heatmap\"}], \"heatmapgl\": [{\"colorbar\": {\"outlinewidth\": 0, \"ticks\": \"\"}, \"colorscale\": [[0.0, \"#0d0887\"], [0.1111111111111111, \"#46039f\"], [0.2222222222222222, \"#7201a8\"], [0.3333333333333333, \"#9c179e\"], [0.4444444444444444, \"#bd3786\"], [0.5555555555555556, \"#d8576b\"], [0.6666666666666666, \"#ed7953\"], [0.7777777777777778, \"#fb9f3a\"], [0.8888888888888888, \"#fdca26\"], [1.0, \"#f0f921\"]], \"type\": \"heatmapgl\"}], \"histogram\": [{\"marker\": {\"colorbar\": {\"outlinewidth\": 0, \"ticks\": \"\"}}, \"type\": \"histogram\"}], \"histogram2d\": [{\"colorbar\": {\"outlinewidth\": 0, \"ticks\": \"\"}, \"colorscale\": [[0.0, \"#0d0887\"], [0.1111111111111111, \"#46039f\"], [0.2222222222222222, \"#7201a8\"], [0.3333333333333333, \"#9c179e\"], [0.4444444444444444, \"#bd3786\"], [0.5555555555555556, \"#d8576b\"], [0.6666666666666666, \"#ed7953\"], [0.7777777777777778, \"#fb9f3a\"], [0.8888888888888888, \"#fdca26\"], [1.0, \"#f0f921\"]], \"type\": \"histogram2d\"}], \"histogram2dcontour\": [{\"colorbar\": {\"outlinewidth\": 0, \"ticks\": \"\"}, \"colorscale\": [[0.0, \"#0d0887\"], [0.1111111111111111, \"#46039f\"], [0.2222222222222222, \"#7201a8\"], [0.3333333333333333, \"#9c179e\"], [0.4444444444444444, \"#bd3786\"], [0.5555555555555556, \"#d8576b\"], [0.6666666666666666, \"#ed7953\"], [0.7777777777777778, \"#fb9f3a\"], [0.8888888888888888, \"#fdca26\"], [1.0, \"#f0f921\"]], \"type\": \"histogram2dcontour\"}], \"mesh3d\": [{\"colorbar\": {\"outlinewidth\": 0, \"ticks\": \"\"}, \"type\": \"mesh3d\"}], \"parcoords\": [{\"line\": {\"colorbar\": {\"outlinewidth\": 0, \"ticks\": \"\"}}, \"type\": \"parcoords\"}], \"pie\": [{\"automargin\": true, \"type\": \"pie\"}], \"scatter\": [{\"marker\": {\"colorbar\": {\"outlinewidth\": 0, \"ticks\": \"\"}}, \"type\": \"scatter\"}], \"scatter3d\": [{\"line\": {\"colorbar\": {\"outlinewidth\": 0, \"ticks\": \"\"}}, \"marker\": {\"colorbar\": {\"outlinewidth\": 0, \"ticks\": \"\"}}, \"type\": \"scatter3d\"}], \"scattercarpet\": [{\"marker\": {\"colorbar\": {\"outlinewidth\": 0, \"ticks\": \"\"}}, \"type\": \"scattercarpet\"}], \"scattergeo\": [{\"marker\": {\"colorbar\": {\"outlinewidth\": 0, \"ticks\": \"\"}}, \"type\": \"scattergeo\"}], \"scattergl\": [{\"marker\": {\"colorbar\": {\"outlinewidth\": 0, \"ticks\": \"\"}}, \"type\": \"scattergl\"}], \"scattermapbox\": [{\"marker\": {\"colorbar\": {\"outlinewidth\": 0, \"ticks\": \"\"}}, \"type\": \"scattermapbox\"}], \"scatterpolar\": [{\"marker\": {\"colorbar\": {\"outlinewidth\": 0, \"ticks\": \"\"}}, \"type\": \"scatterpolar\"}], \"scatterpolargl\": [{\"marker\": {\"colorbar\": {\"outlinewidth\": 0, \"ticks\": \"\"}}, \"type\": \"scatterpolargl\"}], \"scatterternary\": [{\"marker\": {\"colorbar\": {\"outlinewidth\": 0, \"ticks\": \"\"}}, \"type\": \"scatterternary\"}], \"surface\": [{\"colorbar\": {\"outlinewidth\": 0, \"ticks\": \"\"}, \"colorscale\": [[0.0, \"#0d0887\"], [0.1111111111111111, \"#46039f\"], [0.2222222222222222, \"#7201a8\"], [0.3333333333333333, \"#9c179e\"], [0.4444444444444444, \"#bd3786\"], [0.5555555555555556, \"#d8576b\"], [0.6666666666666666, \"#ed7953\"], [0.7777777777777778, \"#fb9f3a\"], [0.8888888888888888, \"#fdca26\"], [1.0, \"#f0f921\"]], \"type\": \"surface\"}], \"table\": [{\"cells\": {\"fill\": {\"color\": \"#EBF0F8\"}, \"line\": {\"color\": \"white\"}}, \"header\": {\"fill\": {\"color\": \"#C8D4E3\"}, \"line\": {\"color\": \"white\"}}, \"type\": \"table\"}]}, \"layout\": {\"annotationdefaults\": {\"arrowcolor\": \"#2a3f5f\", \"arrowhead\": 0, \"arrowwidth\": 1}, \"coloraxis\": {\"colorbar\": {\"outlinewidth\": 0, \"ticks\": \"\"}}, \"colorscale\": {\"diverging\": [[0, \"#8e0152\"], [0.1, \"#c51b7d\"], [0.2, \"#de77ae\"], [0.3, \"#f1b6da\"], [0.4, \"#fde0ef\"], [0.5, \"#f7f7f7\"], [0.6, \"#e6f5d0\"], [0.7, \"#b8e186\"], [0.8, \"#7fbc41\"], [0.9, \"#4d9221\"], [1, \"#276419\"]], \"sequential\": [[0.0, \"#0d0887\"], [0.1111111111111111, \"#46039f\"], [0.2222222222222222, \"#7201a8\"], [0.3333333333333333, \"#9c179e\"], [0.4444444444444444, \"#bd3786\"], [0.5555555555555556, \"#d8576b\"], [0.6666666666666666, \"#ed7953\"], [0.7777777777777778, \"#fb9f3a\"], [0.8888888888888888, \"#fdca26\"], [1.0, \"#f0f921\"]], \"sequentialminus\": [[0.0, \"#0d0887\"], [0.1111111111111111, \"#46039f\"], [0.2222222222222222, \"#7201a8\"], [0.3333333333333333, \"#9c179e\"], [0.4444444444444444, \"#bd3786\"], [0.5555555555555556, \"#d8576b\"], [0.6666666666666666, \"#ed7953\"], [0.7777777777777778, \"#fb9f3a\"], [0.8888888888888888, \"#fdca26\"], [1.0, \"#f0f921\"]]}, \"colorway\": [\"#636efa\", \"#EF553B\", \"#00cc96\", \"#ab63fa\", \"#FFA15A\", \"#19d3f3\", \"#FF6692\", \"#B6E880\", \"#FF97FF\", \"#FECB52\"], \"font\": {\"color\": \"#2a3f5f\"}, \"geo\": {\"bgcolor\": \"white\", \"lakecolor\": \"white\", \"landcolor\": \"#E5ECF6\", \"showlakes\": true, \"showland\": true, \"subunitcolor\": \"white\"}, \"hoverlabel\": {\"align\": \"left\"}, \"hovermode\": \"closest\", \"mapbox\": {\"style\": \"light\"}, \"paper_bgcolor\": \"white\", \"plot_bgcolor\": \"#E5ECF6\", \"polar\": {\"angularaxis\": {\"gridcolor\": \"white\", \"linecolor\": \"white\", \"ticks\": \"\"}, \"bgcolor\": \"#E5ECF6\", \"radialaxis\": {\"gridcolor\": \"white\", \"linecolor\": \"white\", \"ticks\": \"\"}}, \"scene\": {\"xaxis\": {\"backgroundcolor\": \"#E5ECF6\", \"gridcolor\": \"white\", \"gridwidth\": 2, \"linecolor\": \"white\", \"showbackground\": true, \"ticks\": \"\", \"zerolinecolor\": \"white\"}, \"yaxis\": {\"backgroundcolor\": \"#E5ECF6\", \"gridcolor\": \"white\", \"gridwidth\": 2, \"linecolor\": \"white\", \"showbackground\": true, \"ticks\": \"\", \"zerolinecolor\": \"white\"}, \"zaxis\": {\"backgroundcolor\": \"#E5ECF6\", \"gridcolor\": \"white\", \"gridwidth\": 2, \"linecolor\": \"white\", \"showbackground\": true, \"ticks\": \"\", \"zerolinecolor\": \"white\"}}, \"shapedefaults\": {\"line\": {\"color\": \"#2a3f5f\"}}, \"ternary\": {\"aaxis\": {\"gridcolor\": \"white\", \"linecolor\": \"white\", \"ticks\": \"\"}, \"baxis\": {\"gridcolor\": \"white\", \"linecolor\": \"white\", \"ticks\": \"\"}, \"bgcolor\": \"#E5ECF6\", \"caxis\": {\"gridcolor\": \"white\", \"linecolor\": \"white\", \"ticks\": \"\"}}, \"title\": {\"x\": 0.05}, \"xaxis\": {\"automargin\": true, \"gridcolor\": \"white\", \"linecolor\": \"white\", \"ticks\": \"\", \"title\": {\"standoff\": 15}, \"zerolinecolor\": \"white\", \"zerolinewidth\": 2}, \"yaxis\": {\"automargin\": true, \"gridcolor\": \"white\", \"linecolor\": \"white\", \"ticks\": \"\", \"title\": {\"standoff\": 15}, \"zerolinecolor\": \"white\", \"zerolinewidth\": 2}}}},\n",
              "                        {\"responsive\": true}\n",
              "                    ).then(function(){\n",
              "                            \n",
              "var gd = document.getElementById('b9909e83-6d6e-4957-9f76-c6412d827af5');\n",
              "var x = new MutationObserver(function (mutations, observer) {{\n",
              "        var display = window.getComputedStyle(gd).display;\n",
              "        if (!display || display === 'none') {{\n",
              "            console.log([gd, 'removed!']);\n",
              "            Plotly.purge(gd);\n",
              "            observer.disconnect();\n",
              "        }}\n",
              "}});\n",
              "\n",
              "// Listen for the removal of the full notebook cells\n",
              "var notebookContainer = gd.closest('#notebook-container');\n",
              "if (notebookContainer) {{\n",
              "    x.observe(notebookContainer, {childList: true});\n",
              "}}\n",
              "\n",
              "// Listen for the clearing of the current output cell\n",
              "var outputEl = gd.closest('.output');\n",
              "if (outputEl) {{\n",
              "    x.observe(outputEl, {childList: true});\n",
              "}}\n",
              "\n",
              "                        })\n",
              "                };\n",
              "                \n",
              "            </script>\n",
              "        </div>\n",
              "</body>\n",
              "</html>"
            ]
          },
          "metadata": {
            "tags": []
          }
        }
      ]
    },
    {
      "cell_type": "code",
      "metadata": {
        "colab": {
          "base_uri": "https://localhost:8080/",
          "height": 542
        },
        "id": "1C3vHI5KvXen",
        "outputId": "55da2313-8140-4f59-f7cd-695669352e87"
      },
      "source": [
        "PC =df.loc[:,['Purpose','Credit amount','class']]\n",
        "fig = go.Figure()\n",
        "\n",
        "fig.add_trace(go.Violin(x=PC['Purpose'][ PC['class'] == 1 ],\n",
        "                        y=PC['Credit amount'][  PC['class'] == 1 ],\n",
        "                        legendgroup='good', scalegroup='good', name='good',\n",
        "                        side='negative',\n",
        "                        line_color='green')\n",
        "             )\n",
        "fig.add_trace(go.Violin(x=PC['Purpose'][ PC['class'] == 0 ],\n",
        "                        y=PC['Credit amount'][  PC['class'] == 0 ],\n",
        "                        legendgroup='bad', scalegroup='bad', name='bad',\n",
        "                        side='positive',\n",
        "                        line_color='yellow')\n",
        "             )\n",
        "fig.update_traces(meanline_visible=True)\n",
        "fig.update_layout(violingap=0, violinmode='overlay')\n",
        "fig.update_layout(\n",
        "    title={\n",
        "          'text':\"Purpose Vs Credit Amount Cross tabulation\",\n",
        "        'y':.95,\n",
        "        'x':.5,\n",
        "        'xanchor': 'center',\n",
        "        'yanchor': 'top'\n",
        "    },\n",
        "    xaxis_title=\"Purpose\",\n",
        "    yaxis_title=\"Credit amount\",\n",
        "   \n",
        ")\n",
        "fig.show()"
      ],
      "execution_count": null,
      "outputs": [
        {
          "output_type": "display_data",
          "data": {
            "text/html": [
              "<html>\n",
              "<head><meta charset=\"utf-8\" /></head>\n",
              "<body>\n",
              "    <div>\n",
              "            <script src=\"https://cdnjs.cloudflare.com/ajax/libs/mathjax/2.7.5/MathJax.js?config=TeX-AMS-MML_SVG\"></script><script type=\"text/javascript\">if (window.MathJax) {MathJax.Hub.Config({SVG: {font: \"STIX-Web\"}});}</script>\n",
              "                <script type=\"text/javascript\">window.PlotlyConfig = {MathJaxConfig: 'local'};</script>\n",
              "        <script src=\"https://cdn.plot.ly/plotly-latest.min.js\"></script>    \n",
              "            <div id=\"b06b1ae1-61f9-4739-a3db-454de9ee22a1\" class=\"plotly-graph-div\" style=\"height:525px; width:100%;\"></div>\n",
              "            <script type=\"text/javascript\">\n",
              "                \n",
              "                    window.PLOTLYENV=window.PLOTLYENV || {};\n",
              "                    \n",
              "                if (document.getElementById(\"b06b1ae1-61f9-4739-a3db-454de9ee22a1\")) {\n",
              "                    Plotly.newPlot(\n",
              "                        'b06b1ae1-61f9-4739-a3db-454de9ee22a1',\n",
              "                        [{\"legendgroup\": \"good\", \"line\": {\"color\": \"green\"}, \"meanline\": {\"visible\": true}, \"name\": \"good\", \"scalegroup\": \"good\", \"side\": \"negative\", \"type\": \"violin\", \"x\": [\"car\", \"radio/TV\", \"business\", \"furniture/equipment\", \"business\", \"car\", \"radio/TV\", \"car\", \"car\", \"business\", \"education\", \"car\", \"radio/TV\", \"business\", \"radio/TV\", \"radio/TV\", \"education\", \"radio/TV\", \"car\", \"education\", \"furniture/equipment\", \"radio/TV\", \"education\", \"car\", \"furniture/equipment\", \"furniture/equipment\", \"business\", \"radio/TV\", \"business\", \"business\", \"education\", \"furniture/equipment\", \"radio/TV\", \"radio/TV\", \"radio/TV\", \"business\", \"radio/TV\", \"education\", \"radio/TV\", \"car\", \"radio/TV\", \"radio/TV\", \"business\", \"education\", \"car\", \"radio/TV\", \"business\", \"car\", \"furniture/equipment\", \"furniture/equipment\", \"radio/TV\", \"business\", \"radio/TV\", \"radio/TV\", \"furniture/equipment\", \"education\", \"car\", \"car\", \"furniture/equipment\", \"radio/TV\", \"business\", \"radio/TV\", \"domestic appliances\", \"business\", \"business\", \"furniture/equipment\", \"education\", \"furniture/equipment\", \"car\", \"car\", \"business\", \"radio/TV\", \"business\", \"radio/TV\", \"furniture/equipment\", \"car\", \"car\", \"car\", \"radio/TV\", \"car\", \"radio/TV\", \"car\", \"radio/TV\", \"radio/TV\", \"radio/TV\", \"car\", \"furniture/equipment\", \"business\", \"furniture/equipment\", \"car\", \"education\", \"education\", \"business\", \"furniture/equipment\", \"business\", \"radio/TV\", \"business\", \"furniture/equipment\", \"radio/TV\", \"car\", \"car\", \"radio/TV\", \"radio/TV\", \"radio/TV\", \"furniture/equipment\", \"car\", \"business\", \"radio/TV\", \"radio/TV\", \"education\", \"car\", \"radio/TV\", \"car\", \"car\", \"radio/TV\", \"business\", \"radio/TV\", \"car\", \"radio/TV\", \"business\", \"business\", \"domestic appliances\", \"business\", \"radio/TV\", \"car\", \"business\", \"car\", \"car\", \"education\", \"radio/TV\", \"business\", \"car\", \"car\", \"radio/TV\", \"furniture/equipment\", \"car\", \"business\", \"vacation/others\", \"business\", \"business\", \"education\", \"repairs\", \"business\", \"radio/TV\", \"radio/TV\", \"car\", \"radio/TV\", \"radio/TV\", \"car\", \"car\", \"domestic appliances\", \"education\", \"furniture/equipment\", \"business\", \"furniture/equipment\", \"business\", \"business\", \"car\", \"business\", \"business\", \"business\", \"radio/TV\", \"education\", \"car\", \"business\", \"radio/TV\", \"vacation/others\", \"business\", \"education\", \"business\", \"car\", \"radio/TV\", \"car\", \"car\", \"car\", \"radio/TV\", \"vacation/others\", \"car\", \"car\", \"radio/TV\", \"furniture/equipment\", \"repairs\", \"car\", \"furniture/equipment\", \"car\", \"education\", \"business\", \"vacation/others\", \"radio/TV\", \"domestic appliances\", \"repairs\", \"car\", \"radio/TV\", \"business\", \"car\", \"radio/TV\", \"business\", \"car\", \"domestic appliances\", \"repairs\", \"business\", \"furniture/equipment\", \"business\", \"education\", \"car\", \"business\", \"radio/TV\", \"car\", \"car\", \"radio/TV\", \"radio/TV\", \"business\", \"radio/TV\", \"education\", \"car\", \"radio/TV\", \"radio/TV\", \"radio/TV\", \"car\", \"radio/TV\", \"education\", \"car\", \"car\", \"furniture/equipment\", \"furniture/equipment\", \"furniture/equipment\", \"education\", \"radio/TV\", \"furniture/equipment\", \"education\", \"business\", \"business\", \"car\", \"education\", \"radio/TV\", \"radio/TV\", \"furniture/equipment\", \"business\", \"furniture/equipment\", \"car\", \"car\", \"car\", \"radio/TV\", \"business\", \"car\", \"furniture/equipment\", \"education\", \"business\", \"radio/TV\", \"radio/TV\", \"education\", \"business\", \"education\", \"furniture/equipment\", \"radio/TV\", \"business\", \"business\", \"education\", \"radio/TV\", \"car\", \"furniture/equipment\", \"education\", \"business\", \"car\", \"car\", \"furniture/equipment\", \"business\", \"furniture/equipment\", \"business\", \"car\", \"car\", \"radio/TV\", \"business\", \"furniture/equipment\", \"education\", \"car\", \"domestic appliances\", \"business\", \"business\", \"radio/TV\", \"furniture/equipment\", \"radio/TV\", \"car\", \"radio/TV\", \"car\", \"car\", \"car\", \"radio/TV\", \"repairs\", \"business\", \"business\", \"education\", \"education\", \"car\", \"business\", \"car\", \"furniture/equipment\", \"radio/TV\", \"radio/TV\", \"furniture/equipment\", \"education\", \"business\", \"education\", \"car\", \"radio/TV\", \"furniture/equipment\", \"car\", \"business\", \"radio/TV\", \"radio/TV\", \"business\", \"furniture/equipment\", \"furniture/equipment\", \"radio/TV\", \"car\", \"education\", \"radio/TV\", \"business\", \"education\", \"car\", \"radio/TV\", \"radio/TV\", \"furniture/equipment\", \"furniture/equipment\", \"business\", \"car\", \"car\", \"car\", \"education\", \"furniture/equipment\", \"car\", \"car\", \"business\", \"radio/TV\", \"radio/TV\", \"business\", \"car\", \"business\", \"vacation/others\", \"radio/TV\", \"car\", \"car\", \"radio/TV\", \"business\", \"radio/TV\", \"furniture/equipment\", \"business\", \"radio/TV\", \"car\", \"radio/TV\", \"radio/TV\", \"radio/TV\", \"car\", \"business\", \"business\", \"radio/TV\", \"car\", \"radio/TV\", \"car\", \"radio/TV\", \"car\", \"business\", \"car\", \"business\", \"car\", \"business\", \"car\", \"business\", \"domestic appliances\", \"furniture/equipment\", \"radio/TV\", \"car\", \"radio/TV\", \"car\", \"furniture/equipment\", \"business\", \"business\", \"car\", \"car\", \"business\", \"business\", \"business\", \"radio/TV\", \"car\", \"radio/TV\", \"furniture/equipment\", \"radio/TV\", \"business\", \"car\", \"furniture/equipment\", \"furniture/equipment\", \"radio/TV\", \"car\", \"repairs\", \"radio/TV\", \"radio/TV\", \"radio/TV\", \"education\", \"business\", \"car\", \"education\", \"car\", \"radio/TV\", \"education\", \"car\", \"business\", \"business\", \"education\", \"radio/TV\", \"radio/TV\", \"car\", \"car\", \"radio/TV\", \"business\", \"radio/TV\", \"business\", \"business\", \"radio/TV\", \"car\", \"car\", \"business\", \"furniture/equipment\", \"car\", \"car\", \"radio/TV\", \"radio/TV\", \"business\", \"furniture/equipment\", \"furniture/equipment\", \"car\", \"repairs\", \"business\", \"business\", \"radio/TV\", \"radio/TV\", \"business\", \"education\", \"radio/TV\", \"education\", \"repairs\", \"business\", \"radio/TV\", \"business\", \"business\", \"car\", \"business\", \"furniture/equipment\", \"car\", \"furniture/equipment\", \"car\", \"furniture/equipment\", \"car\", \"car\", \"radio/TV\", \"business\", \"radio/TV\", \"radio/TV\", \"radio/TV\", \"car\", \"radio/TV\", \"car\", \"radio/TV\", \"radio/TV\", \"car\", \"radio/TV\", \"business\", \"repairs\", \"furniture/equipment\", \"radio/TV\", \"radio/TV\", \"education\", \"business\", \"furniture/equipment\", \"radio/TV\", \"furniture/equipment\", \"business\", \"car\", \"car\", \"car\", \"business\", \"radio/TV\", \"business\", \"radio/TV\", \"car\", \"furniture/equipment\", \"business\", \"car\", \"car\", \"furniture/equipment\", \"radio/TV\", \"radio/TV\", \"business\", \"radio/TV\", \"radio/TV\", \"repairs\", \"furniture/equipment\", \"furniture/equipment\", \"radio/TV\", \"car\", \"radio/TV\", \"business\", \"business\", \"business\", \"radio/TV\", \"business\", \"business\", \"car\", \"radio/TV\", \"repairs\", \"radio/TV\", \"business\", \"radio/TV\", \"furniture/equipment\", \"car\", \"car\", \"radio/TV\", \"car\", \"business\", \"furniture/equipment\", \"radio/TV\", \"car\", \"radio/TV\", \"furniture/equipment\", \"radio/TV\", \"business\", \"radio/TV\", \"radio/TV\", \"car\", \"business\", \"radio/TV\", \"domestic appliances\", \"radio/TV\", \"radio/TV\", \"car\", \"business\", \"furniture/equipment\", \"car\", \"radio/TV\", \"education\", \"business\", \"education\", \"business\", \"furniture/equipment\", \"business\", \"car\", \"business\", \"car\", \"radio/TV\", \"furniture/equipment\", \"furniture/equipment\", \"car\", \"radio/TV\", \"furniture/equipment\", \"radio/TV\", \"car\", \"education\", \"car\", \"business\", \"furniture/equipment\", \"business\", \"car\", \"radio/TV\", \"business\", \"education\", \"radio/TV\", \"business\", \"radio/TV\", \"furniture/equipment\", \"business\", \"car\", \"radio/TV\", \"car\", \"education\", \"business\", \"radio/TV\", \"car\", \"radio/TV\", \"education\", \"car\", \"car\", \"furniture/equipment\", \"radio/TV\", \"business\", \"furniture/equipment\", \"education\", \"education\", \"car\", \"repairs\", \"education\", \"business\", \"radio/TV\", \"business\", \"business\", \"radio/TV\", \"radio/TV\", \"domestic appliances\", \"radio/TV\", \"radio/TV\", \"radio/TV\", \"car\", \"radio/TV\", \"radio/TV\", \"education\", \"radio/TV\", \"radio/TV\", \"radio/TV\", \"radio/TV\", \"education\", \"radio/TV\", \"furniture/equipment\", \"radio/TV\", \"furniture/equipment\", \"radio/TV\", \"car\", \"car\", \"domestic appliances\", \"car\", \"business\", \"car\", \"radio/TV\", \"business\", \"car\", \"education\", \"radio/TV\", \"business\", \"radio/TV\", \"radio/TV\", \"education\", \"car\", \"radio/TV\", \"radio/TV\", \"furniture/equipment\", \"radio/TV\", \"car\", \"radio/TV\", \"car\", \"business\", \"business\", \"radio/TV\", \"radio/TV\", \"business\", \"business\", \"business\", \"car\", \"vacation/others\", \"education\", \"radio/TV\", \"business\", \"car\", \"furniture/equipment\", \"education\", \"business\", \"furniture/equipment\", \"education\", \"radio/TV\", \"radio/TV\", \"furniture/equipment\", \"radio/TV\", \"furniture/equipment\", \"education\", \"radio/TV\", \"radio/TV\", \"business\", \"furniture/equipment\", \"car\", \"car\", \"furniture/equipment\", \"radio/TV\", \"radio/TV\", \"business\", \"radio/TV\", \"furniture/equipment\", \"radio/TV\", \"car\", \"radio/TV\", \"car\", \"business\", \"radio/TV\", \"education\", \"car\", \"vacation/others\", \"furniture/equipment\", \"car\", \"radio/TV\", \"furniture/equipment\", \"business\", \"radio/TV\", \"car\", \"furniture/equipment\", \"radio/TV\", \"radio/TV\", \"education\", \"car\", \"car\", \"radio/TV\", \"furniture/equipment\", \"furniture/equipment\", \"radio/TV\", \"education\", \"furniture/equipment\", \"car\", \"furniture/equipment\", \"business\", \"car\", \"education\", \"radio/TV\", \"car\", \"radio/TV\", \"car\", \"domestic appliances\", \"business\", \"business\", \"furniture/equipment\", \"radio/TV\", \"furniture/equipment\", \"radio/TV\", \"radio/TV\", \"radio/TV\", \"car\", \"education\", \"business\", \"business\", \"business\", \"furniture/equipment\", \"radio/TV\", \"radio/TV\", \"radio/TV\", \"business\", \"radio/TV\", \"business\", \"business\", \"business\", \"radio/TV\", \"furniture/equipment\", \"education\", \"education\", \"business\", \"domestic appliances\", \"education\", \"radio/TV\", \"business\", \"radio/TV\", \"car\", \"car\", \"business\", \"radio/TV\", \"car\", \"furniture/equipment\", \"car\", \"education\", \"car\", \"radio/TV\", \"radio/TV\", \"car\", \"furniture/equipment\", \"furniture/equipment\", \"business\", \"car\", \"business\"], \"y\": [2028, 1245, 1185, 4057, 2326, 3527, 1537, 1525, 939, 1950, 936, 1474, 1278, 1542, 1484, 1245, 3414, 1445, 1860, 1047, 1592, 1149, 1927, 1525, 1543, 2116, 1542, 3016, 1258, 4455, 1501, 2483, 3430, 1068, 2872, 1185, 1068, 3414, 3148, 2080, 1126, 3235, 1449, 448, 3229, 2753, 1887, 1330, 3976, 1424, 3399, 1572, 2728, 1278, 2745, 1393, 1163, 939, 1925, 2141, 1076, 3357, 1424, 2687, 1412, 3062, 1199, 2359, 1961, 2353, 1572, 2397, 3863, 2753, 4151, 2028, 1884, 1056, 3016, 1323, 2299, 2899, 2675, 2896, 2223, 1201, 1577, 2503, 2406, 1236, 2012, 1538, 1559, 4297, 4455, 1158, 1953, 3780, 3059, 884, 1386, 2576, 3621, 338, 4297, 1322, 2580, 3213, 2647, 3447, 1203, 683, 1343, 2899, 3621, 2326, 2647, 1203, 2647, 2825, 1913, 1225, 4439, 2299, 3527, 2375, 2679, 3275, 1532, 2896, 1410, 3512, 1995, 3148, 1591, 3878, 1449, 2629, 1449, 1275, 3414, 1514, 1391, 368, 2039, 2028, 3213, 1414, 1961, 1413, 1262, 1927, 2064, 2580, 2835, 3652, 4241, 1201, 2375, 1258, 3863, 1126, 727, 3527, 1908, 1823, 2629, 1188, 3447, 1935, 884, 1126, 3527, 3949, 3275, 1311, 1358, 2782, 2507, 1068, 2116, 1512, 2923, 1592, 2679, 1393, 2169, 2629, 790, 1424, 1514, 1344, 2100, 907, 1323, 1823, 2825, 3275, 1262, 1512, 1941, 2745, 1188, 1927, 4113, 1950, 1126, 1393, 1386, 3059, 1376, 907, 1103, 894, 2507, 1278, 2647, 1537, 3949, 1258, 894, 2463, 1330, 3777, 2406, 960, 1199, 1414, 2064, 1905, 3652, 1953, 1322, 1047, 2896, 1445, 3780, 2978, 2483, 1203, 1056, 3229, 2675, 2687, 1163, 2064, 754, 2503, 629, 2578, 2012, 1410, 1905, 1591, 2647, 1449, 907, 1864, 629, 2080, 4297, 894, 4439, 1820, 1209, 1925, 3448, 4297, 1908, 2360, 2325, 522, 4526, 1925, 448, 2360, 1338, 1449, 1185, 458, 2359, 2647, 2080, 2647, 2249, 1322, 1236, 2728, 1288, 4455, 4439, 1864, 1927, 1995, 2503, 2325, 2064, 458, 1216, 1592, 2012, 1449, 3447, 1884, 1823, 1474, 3275, 1449, 1278, 1444, 4165, 4057, 4042, 368, 2360, 1393, 3621, 1258, 894, 2859, 683, 882, 3777, 2116, 1935, 3229, 2848, 1525, 701, 3349, 2569, 2782, 3104, 2039, 2299, 907, 2249, 2978, 1358, 2576, 1494, 2923, 1258, 806, 1245, 2864, 2580, 3016, 2569, 1258, 1258, 1068, 2353, 2427, 1382, 2576, 1804, 683, 1860, 1444, 1201, 2326, 939, 4165, 2899, 1743, 2899, 3652, 1424, 4042, 3059, 2859, 2753, 1995, 1050, 1412, 4591, 1343, 3878, 2427, 1037, 3566, 1484, 1525, 3399, 2030, 2872, 4439, 1525, 1424, 1543, 1680, 1007, 1288, 3059, 368, 3235, 701, 3652, 1344, 2012, 1330, 2576, 795, 3275, 2503, 4241, 701, 683, 1750, 2366, 1236, 3016, 3863, 1158, 1743, 2375, 1750, 3229, 3512, 2326, 1474, 939, 1437, 2299, 1484, 1037, 1592, 960, 3527, 1288, 4139, 2978, 3148, 2299, 3104, 448, 3235, 701, 1288, 2825, 1331, 2503, 1913, 1820, 1382, 2030, 1344, 1543, 3275, 1592, 884, 1330, 2647, 1037, 2039, 1245, 1245, 1344, 3399, 1437, 1484, 674, 1525, 3430, 2142, 1514, 1592, 2299, 3430, 1136, 1382, 1591, 1258, 2828, 4165, 1236, 2679, 1860, 3863, 2647, 2442, 3621, 1322, 3749, 3448, 939, 1322, 1543, 1149, 1213, 3863, 629, 1068, 639, 4151, 1592, 1126, 1344, 3148, 2169, 2442, 1410, 1823, 1391, 1382, 1201, 1126, 1288, 1331, 3448, 790, 2359, 2670, 2278, 882, 2366, 2375, 1925, 1484, 1374, 1103, 2835, 882, 1449, 1823, 1213, 2476, 1449, 2100, 1262, 4771, 2896, 2247, 2442, 1591, 2353, 2872, 2012, 4139, 1238, 1188, 960, 2442, 1860, 1542, 909, 3621, 2745, 2978, 2463, 2647, 2406, 790, 2463, 1538, 2325, 1382, 3349, 2375, 1995, 1331, 4241, 1410, 1347, 1412, 1414, 960, 4455, 2679, 2100, 2923, 1199, 3652, 1444, 1056, 3621, 1136, 4113, 1287, 2030, 3235, 2427, 2030, 701, 754, 2278, 1514, 1532, 2622, 1258, 1950, 3104, 2872, 674, 1338, 2872, 1245, 2100, 1056, 3016, 3430, 1501, 2753, 2647, 2872, 1347, 1501, 2141, 3062, 2223, 4151, 1680, 1318, 3512, 1338, 3878, 806, 1860, 1337, 4591, 1884, 1538, 1149, 1559, 1347, 1347, 1410, 1236, 1484, 802, 2835, 1278, 2366, 4771, 2249, 1953, 1908, 1149, 629, 1950, 1559, 806, 1007, 2629, 1927, 1245, 1913, 2325, 3349, 1501, 2427, 2030, 727, 458, 2223, 2359, 1750, 2030, 1047, 1880, 790, 4241, 2978, 4113, 1961, 1424, 2647, 1068, 4455, 766, 3349, 2728, 2507, 1158, 939, 2622, 2223, 1393, 909, 1358, 2864, 4113, 2753, 2064, 1797, 1582, 2899, 3349, 3621, 629, 1410, 1374, 2278, 766, 3976, 3976, 2100, 1927, 2745, 1995, 2835, 1412, 1860, 1047, 3399, 2679, 4771, 1474, 1338, 1908, 2622, 2359, 1337, 2406, 1347, 790, 1311, 1820, 1047, 1913, 1076, 1572, 960, 683, 1068, 1337, 1449, 1331, 1185, 1382, 1559, 2039, 2828, 727, 3414, 1887, 1262, 754, 1216, 4139, 522, 1474, 3651, 1412, 1316, 2278, 1275, 2782, 1927, 1860, 629, 1216, 1494, 1925, 1050, 1913, 2569, 1913]}, {\"legendgroup\": \"bad\", \"line\": {\"color\": \"yellow\"}, \"meanline\": {\"visible\": true}, \"name\": \"bad\", \"scalegroup\": \"bad\", \"side\": \"positive\", \"type\": \"violin\", \"x\": [\"radio/TV\", \"radio/TV\", \"education\", \"furniture/equipment\", \"car\", \"education\", \"car\", \"car\", \"car\", \"business\", \"radio/TV\", \"car\", \"car\", \"radio/TV\", \"radio/TV\", \"business\", \"car\", \"car\", \"car\", \"furniture/equipment\", \"furniture/equipment\", \"radio/TV\", \"radio/TV\", \"business\", \"furniture/equipment\", \"car\", \"business\", \"radio/TV\", \"education\", \"repairs\", \"car\", \"car\", \"car\", \"car\", \"radio/TV\", \"furniture/equipment\", \"car\", \"radio/TV\", \"car\", \"car\", \"car\", \"radio/TV\", \"radio/TV\", \"furniture/equipment\", \"business\", \"radio/TV\", \"repairs\", \"radio/TV\", \"education\", \"radio/TV\", \"car\", \"radio/TV\", \"vacation/others\", \"business\", \"education\", \"car\", \"radio/TV\", \"car\", \"furniture/equipment\", \"radio/TV\", \"business\", \"vacation/others\", \"radio/TV\", \"furniture/equipment\", \"education\", \"repairs\", \"radio/TV\", \"car\", \"radio/TV\", \"furniture/equipment\", \"business\", \"radio/TV\", \"car\", \"car\", \"radio/TV\", \"radio/TV\", \"furniture/equipment\", \"car\", \"vacation/others\", \"car\", \"car\", \"furniture/equipment\", \"education\", \"car\", \"car\", \"radio/TV\", \"radio/TV\", \"furniture/equipment\", \"furniture/equipment\", \"radio/TV\", \"car\", \"furniture/equipment\", \"car\", \"furniture/equipment\", \"car\", \"radio/TV\", \"car\", \"car\", \"education\", \"furniture/equipment\", \"furniture/equipment\", \"radio/TV\", \"radio/TV\", \"car\", \"radio/TV\", \"car\", \"radio/TV\", \"radio/TV\", \"furniture/equipment\", \"furniture/equipment\", \"car\", \"car\", \"furniture/equipment\", \"radio/TV\", \"radio/TV\", \"radio/TV\", \"car\", \"business\", \"furniture/equipment\", \"education\", \"radio/TV\", \"car\", \"car\", \"furniture/equipment\", \"furniture/equipment\", \"car\", \"furniture/equipment\", \"car\", \"furniture/equipment\", \"radio/TV\", \"car\", \"business\", \"car\", \"radio/TV\", \"car\", \"car\", \"furniture/equipment\", \"business\", \"radio/TV\", \"radio/TV\", \"radio/TV\", \"furniture/equipment\", \"car\", \"car\", \"business\", \"education\", \"car\", \"car\", \"furniture/equipment\", \"business\", \"radio/TV\", \"radio/TV\", \"business\", \"radio/TV\", \"education\", \"radio/TV\", \"furniture/equipment\", \"car\", \"radio/TV\", \"education\", \"radio/TV\", \"car\", \"repairs\", \"radio/TV\", \"furniture/equipment\", \"radio/TV\", \"furniture/equipment\", \"radio/TV\", \"radio/TV\", \"radio/TV\", \"car\", \"business\", \"radio/TV\", \"radio/TV\", \"car\", \"radio/TV\", \"car\", \"radio/TV\", \"car\", \"radio/TV\", \"car\", \"furniture/equipment\", \"car\", \"radio/TV\", \"radio/TV\", \"radio/TV\", \"car\", \"radio/TV\", \"furniture/equipment\", \"radio/TV\", \"car\", \"education\", \"car\", \"business\", \"radio/TV\", \"car\", \"radio/TV\", \"car\", \"furniture/equipment\", \"car\", \"radio/TV\", \"repairs\", \"radio/TV\", \"radio/TV\", \"furniture/equipment\", \"furniture/equipment\", \"radio/TV\", \"car\", \"furniture/equipment\", \"furniture/equipment\", \"car\", \"car\", \"vacation/others\", \"radio/TV\", \"radio/TV\", \"car\", \"car\", \"car\", \"business\", \"furniture/equipment\", \"car\", \"car\", \"furniture/equipment\", \"car\", \"radio/TV\", \"car\", \"car\", \"car\", \"radio/TV\", \"furniture/equipment\", \"car\", \"vacation/others\", \"furniture/equipment\", \"car\", \"furniture/equipment\", \"furniture/equipment\", \"furniture/equipment\", \"furniture/equipment\", \"car\", \"radio/TV\", \"car\", \"car\", \"car\", \"furniture/equipment\", \"radio/TV\", \"car\", \"car\", \"car\", \"furniture/equipment\", \"furniture/equipment\", \"radio/TV\", \"domestic appliances\", \"furniture/equipment\", \"furniture/equipment\", \"education\", \"furniture/equipment\", \"radio/TV\", \"radio/TV\", \"domestic appliances\", \"furniture/equipment\", \"radio/TV\", \"car\", \"radio/TV\", \"radio/TV\", \"radio/TV\", \"furniture/equipment\", \"education\", \"furniture/equipment\", \"furniture/equipment\", \"car\", \"furniture/equipment\", \"furniture/equipment\", \"furniture/equipment\", \"car\", \"radio/TV\", \"furniture/equipment\", \"car\", \"vacation/others\", \"business\", \"radio/TV\", \"radio/TV\", \"car\", \"car\", \"furniture/equipment\", \"car\", \"car\", \"business\", \"radio/TV\", \"radio/TV\", \"furniture/equipment\", \"furniture/equipment\", \"car\", \"radio/TV\", \"education\", \"furniture/equipment\", \"furniture/equipment\", \"car\", \"radio/TV\", \"radio/TV\", \"business\", \"car\", \"car\", \"radio/TV\", \"radio/TV\", \"car\", \"car\", \"car\", \"car\", \"car\", \"education\", \"car\", \"car\", \"car\", \"furniture/equipment\", \"car\", \"radio/TV\", \"furniture/equipment\", \"repairs\", \"vacation/others\", \"furniture/equipment\", \"repairs\", \"furniture/equipment\", \"repairs\", \"repairs\", \"business\", \"furniture/equipment\", \"education\", \"furniture/equipment\", \"education\", \"car\", \"car\", \"radio/TV\", \"furniture/equipment\", \"car\", \"car\", \"car\", \"domestic appliances\", \"radio/TV\", \"furniture/equipment\", \"car\", \"furniture/equipment\", \"car\", \"radio/TV\", \"radio/TV\", \"business\", \"car\", \"radio/TV\", \"car\", \"furniture/equipment\", \"radio/TV\", \"furniture/equipment\", \"radio/TV\", \"furniture/equipment\", \"radio/TV\", \"car\", \"car\", \"car\", \"radio/TV\", \"business\", \"radio/TV\", \"car\", \"furniture/equipment\", \"furniture/equipment\", \"furniture/equipment\", \"radio/TV\", \"car\", \"car\", \"car\", \"car\", \"car\", \"radio/TV\", \"car\", \"car\", \"car\", \"radio/TV\", \"car\", \"car\", \"car\", \"furniture/equipment\", \"radio/TV\", \"repairs\", \"radio/TV\", \"furniture/equipment\", \"car\", \"radio/TV\", \"car\", \"radio/TV\", \"radio/TV\", \"car\", \"education\", \"car\", \"car\", \"radio/TV\", \"education\", \"furniture/equipment\", \"car\", \"furniture/equipment\", \"radio/TV\", \"car\", \"furniture/equipment\", \"car\", \"car\", \"car\", \"radio/TV\", \"radio/TV\", \"car\", \"repairs\", \"radio/TV\", \"car\", \"furniture/equipment\", \"furniture/equipment\", \"car\", \"radio/TV\", \"car\", \"radio/TV\", \"car\", \"radio/TV\", \"radio/TV\", \"furniture/equipment\", \"radio/TV\", \"car\", \"radio/TV\", \"furniture/equipment\", \"radio/TV\", \"car\", \"education\", \"car\", \"furniture/equipment\", \"repairs\", \"car\", \"furniture/equipment\", \"car\", \"furniture/equipment\", \"domestic appliances\", \"furniture/equipment\", \"radio/TV\", \"car\", \"car\", \"car\", \"car\", \"car\", \"radio/TV\", \"furniture/equipment\", \"education\", \"furniture/equipment\", \"radio/TV\", \"radio/TV\", \"car\", \"domestic appliances\", \"car\", \"car\", \"furniture/equipment\", \"business\", \"radio/TV\", \"car\", \"furniture/equipment\", \"car\", \"car\", \"business\", \"furniture/equipment\", \"radio/TV\", \"radio/TV\", \"education\", \"radio/TV\", \"furniture/equipment\", \"furniture/equipment\", \"car\", \"radio/TV\", \"radio/TV\", \"radio/TV\", \"education\", \"repairs\", \"radio/TV\", \"business\", \"furniture/equipment\", \"car\", \"education\", \"education\", \"furniture/equipment\", \"car\", \"car\", \"car\", \"car\", \"car\", \"radio/TV\", \"business\", \"furniture/equipment\", \"radio/TV\", \"car\", \"furniture/equipment\", \"vacation/others\", \"furniture/equipment\", \"business\", \"car\", \"radio/TV\", \"business\", \"car\", \"radio/TV\", \"furniture/equipment\", \"radio/TV\", \"radio/TV\", \"radio/TV\", \"radio/TV\", \"radio/TV\", \"radio/TV\", \"business\", \"car\", \"car\", \"furniture/equipment\", \"repairs\", \"car\", \"radio/TV\", \"car\", \"radio/TV\", \"furniture/equipment\", \"car\", \"radio/TV\", \"business\", \"car\", \"car\", \"furniture/equipment\", \"radio/TV\", \"radio/TV\", \"education\", \"radio/TV\", \"car\", \"car\", \"radio/TV\", \"radio/TV\", \"car\", \"education\", \"car\", \"car\", \"car\", \"radio/TV\", \"business\", \"radio/TV\", \"radio/TV\", \"radio/TV\", \"car\", \"car\", \"domestic appliances\", \"car\", \"car\", \"car\", \"business\", \"radio/TV\", \"radio/TV\", \"furniture/equipment\", \"car\", \"car\", \"car\", \"car\", \"furniture/equipment\", \"car\", \"business\", \"radio/TV\", \"repairs\", \"car\", \"car\", \"radio/TV\", \"car\", \"car\", \"car\", \"furniture/equipment\", \"radio/TV\", \"car\", \"radio/TV\", \"furniture/equipment\", \"car\", \"furniture/equipment\", \"radio/TV\", \"car\", \"education\", \"car\", \"car\", \"car\", \"radio/TV\", \"car\", \"repairs\", \"radio/TV\", \"car\", \"car\", \"car\", \"education\", \"education\", \"car\", \"furniture/equipment\", \"furniture/equipment\", \"furniture/equipment\", \"car\", \"furniture/equipment\", \"car\", \"car\", \"education\", \"radio/TV\", \"furniture/equipment\", \"radio/TV\", \"car\", \"car\", \"radio/TV\", \"radio/TV\", \"car\", \"car\", \"radio/TV\", \"car\", \"domestic appliances\", \"car\", \"car\", \"radio/TV\", \"vacation/others\", \"radio/TV\", \"car\", \"furniture/equipment\", \"car\", \"car\", \"car\", \"car\", \"business\", \"car\", \"business\", \"radio/TV\", \"radio/TV\", \"car\", \"radio/TV\", \"furniture/equipment\", \"car\", \"radio/TV\", \"furniture/equipment\", \"car\", \"repairs\", \"furniture/equipment\", \"car\", \"car\", \"radio/TV\", \"radio/TV\", \"car\", \"car\", \"radio/TV\", \"car\", \"car\", \"furniture/equipment\", \"car\", \"car\", \"car\", \"radio/TV\", \"furniture/equipment\", \"furniture/equipment\", \"furniture/equipment\", \"radio/TV\", \"furniture/equipment\", \"business\", \"furniture/equipment\", \"furniture/equipment\", \"domestic appliances\", \"furniture/equipment\", \"radio/TV\", \"radio/TV\", \"car\", \"radio/TV\", \"car\", \"car\", \"car\", \"radio/TV\", \"business\", \"car\", \"car\", \"radio/TV\", \"car\", \"car\", \"radio/TV\", \"car\", \"radio/TV\", \"furniture/equipment\", \"furniture/equipment\", \"car\", \"car\", \"car\", \"radio/TV\", \"radio/TV\", \"car\", \"education\", \"car\", \"car\", \"radio/TV\", \"furniture/equipment\", \"radio/TV\", \"business\", \"vacation/others\", \"car\", \"furniture/equipment\", \"furniture/equipment\", \"radio/TV\", \"radio/TV\", \"car\", \"furniture/equipment\", \"car\", \"furniture/equipment\", \"car\", \"radio/TV\", \"car\", \"furniture/equipment\", \"radio/TV\", \"car\", \"radio/TV\", \"radio/TV\", \"radio/TV\", \"radio/TV\", \"education\", \"car\", \"car\", \"furniture/equipment\", \"car\", \"furniture/equipment\", \"car\", \"furniture/equipment\", \"business\", \"business\", \"furniture/equipment\", \"car\", \"radio/TV\", \"radio/TV\", \"radio/TV\", \"car\", \"furniture/equipment\", \"radio/TV\", \"car\", \"repairs\", \"radio/TV\", \"radio/TV\", \"radio/TV\", \"radio/TV\", \"car\", \"car\", \"car\", \"business\", \"radio/TV\", \"radio/TV\", \"car\", \"car\", \"furniture/equipment\", \"business\", \"car\", \"furniture/equipment\", \"furniture/equipment\", \"business\", \"radio/TV\", \"car\", \"radio/TV\", \"education\", \"radio/TV\", \"radio/TV\", \"furniture/equipment\", \"car\", \"furniture/equipment\", \"car\", \"radio/TV\", \"radio/TV\", \"car\"], \"y\": [1169, 5951, 2096, 7882, 4870, 9055, 6948, 5234, 1295, 4308, 1567, 1199, 1403, 1282, 2424, 8072, 12579, 2134, 2241, 2069, 1374, 426, 409, 6836, 4020, 5866, 1264, 4746, 6110, 6204, 6187, 6143, 1352, 7228, 2073, 2333, 5965, 1262, 3378, 2225, 783, 6468, 9566, 6229, 14421, 3181, 5190, 2171, 1819, 2394, 8133, 730, 1164, 5954, 1977, 1526, 3965, 9436, 3832, 5943, 1568, 1755, 2315, 1295, 12612, 1108, 618, 1409, 797, 3617, 15945, 2337, 7057, 1469, 2323, 932, 1919, 2445, 11938, 6458, 6078, 7721, 392, 6260, 7855, 3578, 7174, 2132, 4281, 1835, 3868, 1768, 781, 1924, 2121, 701, 3499, 8487, 6887, 2708, 1984, 10144, 1240, 8613, 1881, 709, 4795, 3416, 2462, 2288, 860, 682, 5371, 1346, 1924, 5848, 7758, 6967, 1282, 339, 1898, 1055, 7308, 1131, 3972, 950, 763, 7485, 2577, 1963, 571, 9572, 1647, 1360, 5129, 1175, 3244, 3844, 2108, 3031, 1382, 951, 2760, 1168, 5117, 902, 1495, 10623, 1935, 6568, 3074, 3835, 5293, 3342, 932, 3913, 3021, 1364, 625, 1200, 707, 4657, 2613, 10961, 7865, 1478, 3149, 4210, 866, 1544, 14555, 2767, 1291, 2522, 915, 1595, 4605, 717, 1204, 433, 666, 2251, 2150, 7418, 2684, 2149, 3812, 1154, 1657, 1603, 5302, 2748, 1231, 6304, 1533, 8978, 999, 2662, 1402, 12169, 3060, 11998, 2697, 2404, 1262, 4611, 1901, 3368, 1574, 1520, 10722, 4788, 7582, 1092, 1024, 9398, 6419, 4796, 7629, 9960, 4675, 1287, 2515, 672, 3804, 1038, 10127, 4811, 727, 1237, 276, 5381, 5511, 685, 2746, 708, 4351, 3643, 4249, 1938, 2910, 1028, 3398, 5801, 4473, 6615, 7408, 11590, 4110, 3384, 2101, 1275, 4169, 1521, 5743, 3599, 1459, 3758, 1236, 959, 6199, 1246, 2331, 4463, 776, 2406, 1239, 1766, 2473, 3850, 3650, 3446, 3001, 3079, 6070, 2146, 13756, 14782, 7685, 2320, 846, 14318, 362, 2212, 12976, 1283, 4272, 2238, 1126, 7374, 983, 3249, 1957, 11760, 2578, 2348, 1223, 1516, 1473, 8648, 802, 2197, 1053, 1967, 7253, 1597, 1381, 5842, 2579, 8471, 1042, 3186, 958, 2762, 2779, 2743, 1313, 1190, 11328, 1872, 2058, 2136, 660, 3394, 609, 1620, 719, 5096, 1244, 1842, 11054, 518, 2759, 4817, 3905, 3386, 343, 4594, 3620, 1721, 3017, 2924, 1659, 7238, 2764, 4679, 3092, 654, 3114, 5152, 1478, 3573, 3622, 3077, 3757, 1418, 3518, 1934, 8318, 1237, 2122, 2996, 9034, 1585, 1301, 3123, 5493, 1207, 1309, 6850, 1413, 8588, 759, 4686, 585, 2255, 609, 1361, 7127, 700, 5507, 3190, 7119, 3488, 1113, 7966, 1503, 2302, 662, 2273, 2631, 1503, 3105, 2319, 3612, 7763, 3049, 1534, 2032, 6350, 1255, 1333, 2022, 1552, 626, 8858, 996, 6999, 5003, 3552, 1928, 2964, 1546, 12389, 1553, 1372, 3979, 6758, 3234, 5954, 5433, 1082, 2788, 2930, 2820, 937, 3124, 1388, 2384, 2133, 2039, 2799, 1289, 1217, 2246, 385, 1965, 2718, 931, 1442, 2775, 2329, 918, 1837, 3349, 2671, 2051, 1300, 741, 1240, 3632, 1808, 12204, 9157, 3676, 3441, 640, 1530, 3914, 1858, 2600, 1979, 3832, 3660, 1553, 1980, 1355, 15653, 1493, 4370, 750, 1308, 1851, 7980, 4583, 947, 684, 7476, 1922, 2303, 8086, 2346, 3973, 888, 10222, 4221, 6361, 1297, 900, 2241, 6314, 3496, 3609, 4843, 3017, 5742, 10366, 4530, 5150, 5595, 2384, 1453, 2279, 1478, 5103, 9857, 6527, 2862, 975, 2631, 4716, 2284, 926, 1800, 1123, 6331, 1377, 2528, 5324, 6560, 2969, 1206, 2118, 1198, 1138, 14027, 7596, 3077, 1505, 6148, 433, 1228, 2570, 250, 1882, 6416, 6403, 1987, 760, 2603, 3380, 3990, 11560, 4380, 6761, 4280, 1048, 3160, 14179, 2511, 1274, 5248, 3029, 428, 976, 841, 5771, 1555, 1285, 1299, 1271, 1393, 691, 5045, 2124, 2214, 12680, 1155, 3108, 2901, 3617, 1655, 2812, 8065, 1480, 1371, 3535, 3509, 5711, 3872, 4933, 836, 6468, 2751, 6224, 5998, 6313, 1221, 2892, 2301, 7511, 1258, 717, 1549, 1597, 1795, 4272, 976, 7472, 9271, 590, 930, 9283, 1778, 484, 9629, 3051, 3931, 7432, 1554, 15857, 1345, 1101, 2712, 731, 1602, 3966, 8335, 6681, 1216, 11816, 5084, 2327, 1082, 886, 601, 2957, 2611, 5179, 2993, 1943, 3422, 6761, 1249, 1364, 709, 2235, 4042, 1471, 1442, 10875, 3343, 3959, 3577, 5804, 2439, 4526, 2210, 2221, 2389, 3331, 7409, 652, 7678, 874, 3590, 1940, 3595, 1422, 6742, 7814, 9277, 2181, 1098, 15672, 6614, 7824, 1829, 2171, 5800, 1169, 8947, 2606, 2186, 4153, 2625, 3485, 10477, 1386, 1107, 3763, 3711, 3594, 3195, 4454, 4736, 2991, 3161, 18424, 14896, 3345, 1817, 12749, 1366, 2002, 6872, 697, 1049, 10297, 1867, 1344, 1747, 1670, 1224, 1498, 1919, 745, 2063, 6288, 6842, 1546, 929, 1455, 1845, 8358, 1533, 3590, 2145, 10974, 1893, 1231, 3656, 1154, 4006, 3069, 1740, 3556, 454, 1715, 2520, 3568, 7166, 3939, 7393, 1193, 7297, 2831, 753, 2538, 1264, 8386, 4844, 8229, 2028, 1433, 6289, 1409, 6579, 1743, 3565, 1569, 1936, 3959, 2390, 1736, 3857, 804, 1845, 4576]}],\n",
              "                        {\"template\": {\"data\": {\"bar\": [{\"error_x\": {\"color\": \"#2a3f5f\"}, \"error_y\": {\"color\": \"#2a3f5f\"}, \"marker\": {\"line\": {\"color\": \"#E5ECF6\", \"width\": 0.5}}, \"type\": \"bar\"}], \"barpolar\": [{\"marker\": {\"line\": {\"color\": \"#E5ECF6\", \"width\": 0.5}}, \"type\": \"barpolar\"}], \"carpet\": [{\"aaxis\": {\"endlinecolor\": \"#2a3f5f\", \"gridcolor\": \"white\", \"linecolor\": \"white\", \"minorgridcolor\": \"white\", \"startlinecolor\": \"#2a3f5f\"}, \"baxis\": {\"endlinecolor\": \"#2a3f5f\", \"gridcolor\": \"white\", \"linecolor\": \"white\", \"minorgridcolor\": \"white\", \"startlinecolor\": \"#2a3f5f\"}, \"type\": \"carpet\"}], \"choropleth\": [{\"colorbar\": {\"outlinewidth\": 0, \"ticks\": \"\"}, \"type\": \"choropleth\"}], \"contour\": [{\"colorbar\": {\"outlinewidth\": 0, \"ticks\": \"\"}, \"colorscale\": [[0.0, \"#0d0887\"], [0.1111111111111111, \"#46039f\"], [0.2222222222222222, \"#7201a8\"], [0.3333333333333333, \"#9c179e\"], [0.4444444444444444, \"#bd3786\"], [0.5555555555555556, \"#d8576b\"], [0.6666666666666666, \"#ed7953\"], [0.7777777777777778, \"#fb9f3a\"], [0.8888888888888888, \"#fdca26\"], [1.0, \"#f0f921\"]], \"type\": \"contour\"}], \"contourcarpet\": [{\"colorbar\": {\"outlinewidth\": 0, \"ticks\": \"\"}, \"type\": \"contourcarpet\"}], \"heatmap\": [{\"colorbar\": {\"outlinewidth\": 0, \"ticks\": \"\"}, \"colorscale\": [[0.0, \"#0d0887\"], [0.1111111111111111, \"#46039f\"], [0.2222222222222222, \"#7201a8\"], [0.3333333333333333, \"#9c179e\"], [0.4444444444444444, \"#bd3786\"], [0.5555555555555556, \"#d8576b\"], [0.6666666666666666, \"#ed7953\"], [0.7777777777777778, \"#fb9f3a\"], [0.8888888888888888, \"#fdca26\"], [1.0, \"#f0f921\"]], \"type\": \"heatmap\"}], \"heatmapgl\": [{\"colorbar\": {\"outlinewidth\": 0, \"ticks\": \"\"}, \"colorscale\": [[0.0, \"#0d0887\"], [0.1111111111111111, \"#46039f\"], [0.2222222222222222, \"#7201a8\"], [0.3333333333333333, \"#9c179e\"], [0.4444444444444444, \"#bd3786\"], [0.5555555555555556, \"#d8576b\"], [0.6666666666666666, \"#ed7953\"], [0.7777777777777778, \"#fb9f3a\"], [0.8888888888888888, \"#fdca26\"], [1.0, \"#f0f921\"]], \"type\": \"heatmapgl\"}], \"histogram\": [{\"marker\": {\"colorbar\": {\"outlinewidth\": 0, \"ticks\": \"\"}}, \"type\": \"histogram\"}], \"histogram2d\": [{\"colorbar\": {\"outlinewidth\": 0, \"ticks\": \"\"}, \"colorscale\": [[0.0, \"#0d0887\"], [0.1111111111111111, \"#46039f\"], [0.2222222222222222, \"#7201a8\"], [0.3333333333333333, \"#9c179e\"], [0.4444444444444444, \"#bd3786\"], [0.5555555555555556, \"#d8576b\"], [0.6666666666666666, \"#ed7953\"], [0.7777777777777778, \"#fb9f3a\"], [0.8888888888888888, \"#fdca26\"], [1.0, \"#f0f921\"]], \"type\": \"histogram2d\"}], \"histogram2dcontour\": [{\"colorbar\": {\"outlinewidth\": 0, \"ticks\": \"\"}, \"colorscale\": [[0.0, \"#0d0887\"], [0.1111111111111111, \"#46039f\"], [0.2222222222222222, \"#7201a8\"], [0.3333333333333333, \"#9c179e\"], [0.4444444444444444, \"#bd3786\"], [0.5555555555555556, \"#d8576b\"], [0.6666666666666666, \"#ed7953\"], [0.7777777777777778, \"#fb9f3a\"], [0.8888888888888888, \"#fdca26\"], [1.0, \"#f0f921\"]], \"type\": \"histogram2dcontour\"}], \"mesh3d\": [{\"colorbar\": {\"outlinewidth\": 0, \"ticks\": \"\"}, \"type\": \"mesh3d\"}], \"parcoords\": [{\"line\": {\"colorbar\": {\"outlinewidth\": 0, \"ticks\": \"\"}}, \"type\": \"parcoords\"}], \"pie\": [{\"automargin\": true, \"type\": \"pie\"}], \"scatter\": [{\"marker\": {\"colorbar\": {\"outlinewidth\": 0, \"ticks\": \"\"}}, \"type\": \"scatter\"}], \"scatter3d\": [{\"line\": {\"colorbar\": {\"outlinewidth\": 0, \"ticks\": \"\"}}, \"marker\": {\"colorbar\": {\"outlinewidth\": 0, \"ticks\": \"\"}}, \"type\": \"scatter3d\"}], \"scattercarpet\": [{\"marker\": {\"colorbar\": {\"outlinewidth\": 0, \"ticks\": \"\"}}, \"type\": \"scattercarpet\"}], \"scattergeo\": [{\"marker\": {\"colorbar\": {\"outlinewidth\": 0, \"ticks\": \"\"}}, \"type\": \"scattergeo\"}], \"scattergl\": [{\"marker\": {\"colorbar\": {\"outlinewidth\": 0, \"ticks\": \"\"}}, \"type\": \"scattergl\"}], \"scattermapbox\": [{\"marker\": {\"colorbar\": {\"outlinewidth\": 0, \"ticks\": \"\"}}, \"type\": \"scattermapbox\"}], \"scatterpolar\": [{\"marker\": {\"colorbar\": {\"outlinewidth\": 0, \"ticks\": \"\"}}, \"type\": \"scatterpolar\"}], \"scatterpolargl\": [{\"marker\": {\"colorbar\": {\"outlinewidth\": 0, \"ticks\": \"\"}}, \"type\": \"scatterpolargl\"}], \"scatterternary\": [{\"marker\": {\"colorbar\": {\"outlinewidth\": 0, \"ticks\": \"\"}}, \"type\": \"scatterternary\"}], \"surface\": [{\"colorbar\": {\"outlinewidth\": 0, \"ticks\": \"\"}, \"colorscale\": [[0.0, \"#0d0887\"], [0.1111111111111111, \"#46039f\"], [0.2222222222222222, \"#7201a8\"], [0.3333333333333333, \"#9c179e\"], [0.4444444444444444, \"#bd3786\"], [0.5555555555555556, \"#d8576b\"], [0.6666666666666666, \"#ed7953\"], [0.7777777777777778, \"#fb9f3a\"], [0.8888888888888888, \"#fdca26\"], [1.0, \"#f0f921\"]], \"type\": \"surface\"}], \"table\": [{\"cells\": {\"fill\": {\"color\": \"#EBF0F8\"}, \"line\": {\"color\": \"white\"}}, \"header\": {\"fill\": {\"color\": \"#C8D4E3\"}, \"line\": {\"color\": \"white\"}}, \"type\": \"table\"}]}, \"layout\": {\"annotationdefaults\": {\"arrowcolor\": \"#2a3f5f\", \"arrowhead\": 0, \"arrowwidth\": 1}, \"coloraxis\": {\"colorbar\": {\"outlinewidth\": 0, \"ticks\": \"\"}}, \"colorscale\": {\"diverging\": [[0, \"#8e0152\"], [0.1, \"#c51b7d\"], [0.2, \"#de77ae\"], [0.3, \"#f1b6da\"], [0.4, \"#fde0ef\"], [0.5, \"#f7f7f7\"], [0.6, \"#e6f5d0\"], [0.7, \"#b8e186\"], [0.8, \"#7fbc41\"], [0.9, \"#4d9221\"], [1, \"#276419\"]], \"sequential\": [[0.0, \"#0d0887\"], [0.1111111111111111, \"#46039f\"], [0.2222222222222222, \"#7201a8\"], [0.3333333333333333, \"#9c179e\"], [0.4444444444444444, \"#bd3786\"], [0.5555555555555556, \"#d8576b\"], [0.6666666666666666, \"#ed7953\"], [0.7777777777777778, \"#fb9f3a\"], [0.8888888888888888, \"#fdca26\"], [1.0, \"#f0f921\"]], \"sequentialminus\": [[0.0, \"#0d0887\"], [0.1111111111111111, \"#46039f\"], [0.2222222222222222, \"#7201a8\"], [0.3333333333333333, \"#9c179e\"], [0.4444444444444444, \"#bd3786\"], [0.5555555555555556, \"#d8576b\"], [0.6666666666666666, \"#ed7953\"], [0.7777777777777778, \"#fb9f3a\"], [0.8888888888888888, \"#fdca26\"], [1.0, \"#f0f921\"]]}, \"colorway\": [\"#636efa\", \"#EF553B\", \"#00cc96\", \"#ab63fa\", \"#FFA15A\", \"#19d3f3\", \"#FF6692\", \"#B6E880\", \"#FF97FF\", \"#FECB52\"], \"font\": {\"color\": \"#2a3f5f\"}, \"geo\": {\"bgcolor\": \"white\", \"lakecolor\": \"white\", \"landcolor\": \"#E5ECF6\", \"showlakes\": true, \"showland\": true, \"subunitcolor\": \"white\"}, \"hoverlabel\": {\"align\": \"left\"}, \"hovermode\": \"closest\", \"mapbox\": {\"style\": \"light\"}, \"paper_bgcolor\": \"white\", \"plot_bgcolor\": \"#E5ECF6\", \"polar\": {\"angularaxis\": {\"gridcolor\": \"white\", \"linecolor\": \"white\", \"ticks\": \"\"}, \"bgcolor\": \"#E5ECF6\", \"radialaxis\": {\"gridcolor\": \"white\", \"linecolor\": \"white\", \"ticks\": \"\"}}, \"scene\": {\"xaxis\": {\"backgroundcolor\": \"#E5ECF6\", \"gridcolor\": \"white\", \"gridwidth\": 2, \"linecolor\": \"white\", \"showbackground\": true, \"ticks\": \"\", \"zerolinecolor\": \"white\"}, \"yaxis\": {\"backgroundcolor\": \"#E5ECF6\", \"gridcolor\": \"white\", \"gridwidth\": 2, \"linecolor\": \"white\", \"showbackground\": true, \"ticks\": \"\", \"zerolinecolor\": \"white\"}, \"zaxis\": {\"backgroundcolor\": \"#E5ECF6\", \"gridcolor\": \"white\", \"gridwidth\": 2, \"linecolor\": \"white\", \"showbackground\": true, \"ticks\": \"\", \"zerolinecolor\": \"white\"}}, \"shapedefaults\": {\"line\": {\"color\": \"#2a3f5f\"}}, \"ternary\": {\"aaxis\": {\"gridcolor\": \"white\", \"linecolor\": \"white\", \"ticks\": \"\"}, \"baxis\": {\"gridcolor\": \"white\", \"linecolor\": \"white\", \"ticks\": \"\"}, \"bgcolor\": \"#E5ECF6\", \"caxis\": {\"gridcolor\": \"white\", \"linecolor\": \"white\", \"ticks\": \"\"}}, \"title\": {\"x\": 0.05}, \"xaxis\": {\"automargin\": true, \"gridcolor\": \"white\", \"linecolor\": \"white\", \"ticks\": \"\", \"title\": {\"standoff\": 15}, \"zerolinecolor\": \"white\", \"zerolinewidth\": 2}, \"yaxis\": {\"automargin\": true, \"gridcolor\": \"white\", \"linecolor\": \"white\", \"ticks\": \"\", \"title\": {\"standoff\": 15}, \"zerolinecolor\": \"white\", \"zerolinewidth\": 2}}}, \"title\": {\"text\": \"Purpose Vs Credit Amount Cross tabulation\", \"x\": 0.5, \"xanchor\": \"center\", \"y\": 0.95, \"yanchor\": \"top\"}, \"violingap\": 0, \"violinmode\": \"overlay\", \"xaxis\": {\"title\": {\"text\": \"Purpose\"}}, \"yaxis\": {\"title\": {\"text\": \"Credit amount\"}}},\n",
              "                        {\"responsive\": true}\n",
              "                    ).then(function(){\n",
              "                            \n",
              "var gd = document.getElementById('b06b1ae1-61f9-4739-a3db-454de9ee22a1');\n",
              "var x = new MutationObserver(function (mutations, observer) {{\n",
              "        var display = window.getComputedStyle(gd).display;\n",
              "        if (!display || display === 'none') {{\n",
              "            console.log([gd, 'removed!']);\n",
              "            Plotly.purge(gd);\n",
              "            observer.disconnect();\n",
              "        }}\n",
              "}});\n",
              "\n",
              "// Listen for the removal of the full notebook cells\n",
              "var notebookContainer = gd.closest('#notebook-container');\n",
              "if (notebookContainer) {{\n",
              "    x.observe(notebookContainer, {childList: true});\n",
              "}}\n",
              "\n",
              "// Listen for the clearing of the current output cell\n",
              "var outputEl = gd.closest('.output');\n",
              "if (outputEl) {{\n",
              "    x.observe(outputEl, {childList: true});\n",
              "}}\n",
              "\n",
              "                        })\n",
              "                };\n",
              "                \n",
              "            </script>\n",
              "        </div>\n",
              "</body>\n",
              "</html>"
            ]
          },
          "metadata": {
            "tags": []
          }
        }
      ]
    },
    {
      "cell_type": "markdown",
      "metadata": {
        "id": "XPoZ2jw63Hfz"
      },
      "source": [
        "Using ANOVA test\n",
        "\n"
      ]
    },
    {
      "cell_type": "code",
      "metadata": {
        "id": "hzFsnRa-3HAx"
      },
      "source": [
        "# Defining a function to find the statistical relationship with all the categorical variables\n",
        "def Anova(inpData, TargetVariable, ContinuousPredictorList):\n",
        "    from scipy.stats import f_oneway\n",
        "\n",
        "    # Creating an empty list of final selected predictors\n",
        "    SelectedPredictors=[]\n",
        "    \n",
        "    print('##### ANOVA Results ##### \\n')\n",
        "    for predictor in ContinuousPredictorList:\n",
        "        CategoryGroupLists=inpData.groupby(TargetVariable)[predictor].apply(list)\n",
        "        AnovaResults = f_oneway(*CategoryGroupLists)\n",
        "        \n",
        "        # If the ANOVA P-Value is <0.05, that means we reject H0\n",
        "        if (AnovaResults[1] < 0.05):\n",
        "            print(predictor, 'is correlated with', TargetVariable, '| P-Value:', AnovaResults[1])\n",
        "            SelectedPredictors.append(predictor)\n",
        "        else:\n",
        "            print(predictor, 'is NOT correlated with', TargetVariable, '| P-Value:', AnovaResults[1])\n",
        "    \n",
        "    return(SelectedPredictors)"
      ],
      "execution_count": null,
      "outputs": []
    },
    {
      "cell_type": "code",
      "metadata": {
        "colab": {
          "base_uri": "https://localhost:8080/"
        },
        "id": "DyjsF7tF3ZMj",
        "outputId": "a4419f6d-4d9c-4a5f-cd79-640e2cd9fd2e"
      },
      "source": [
        "# Calling the function to check which categorical variables are correlated with target\n",
        "ContinuousVariables=[ 'Credit amount', 'Duration', 'Age']\n",
        "Anova(inpData=df, TargetVariable='class', ContinuousPredictorList=ContinuousVariables)"
      ],
      "execution_count": null,
      "outputs": [
        {
          "output_type": "stream",
          "text": [
            "##### ANOVA Results ##### \n",
            "\n",
            "Credit amount is correlated with class | P-Value: 7.200145270587697e-39\n",
            "Duration is correlated with class | P-Value: 5.391802796543306e-25\n",
            "Age is NOT correlated with class | P-Value: 0.18283306262775118\n"
          ],
          "name": "stdout"
        },
        {
          "output_type": "execute_result",
          "data": {
            "text/plain": [
              "['Credit amount', 'Duration']"
            ]
          },
          "metadata": {
            "tags": []
          },
          "execution_count": 92
        }
      ]
    },
    {
      "cell_type": "markdown",
      "metadata": {
        "id": "oRob9uS8wfeP"
      },
      "source": [
        "Chi-Square test is conducted to check the correlation between two categorical variables\n",
        "\n",
        "Assumption(H0): The two columns are NOT related to each other\n",
        "Result of Chi-Sq Test: The Probability of H0 being True\n"
      ]
    },
    {
      "cell_type": "code",
      "metadata": {
        "id": "i02KrGwsziMA"
      },
      "source": [
        "# Writing a function to find the correlation of all categorical variables with the Target variable\n",
        "def Chisq(inpData, TargetVariable, CategoricalVariablesList):\n",
        "    from scipy.stats import chi2_contingency\n",
        "    \n",
        "    # Creating an empty list of final selected predictors\n",
        "    SelectedPredictors=[]\n",
        "\n",
        "    for predictor in CategoricalVariablesList:\n",
        "        CrossTabResult=pd.crosstab(index=inpData[TargetVariable], columns=inpData[predictor])\n",
        "        ChiSqResult = chi2_contingency(CrossTabResult)\n",
        "        \n",
        "        # If the ChiSq P-Value is <0.05, that means we reject H0\n",
        "        if (ChiSqResult[1] < 0.05):\n",
        "            print(predictor, 'is correlated with', TargetVariable, '| P-Value:', ChiSqResult[1])\n",
        "            SelectedPredictors.append(predictor)\n",
        "        else:\n",
        "            print(predictor, 'is NOT correlated with', TargetVariable, '| P-Value:', ChiSqResult[1])        \n",
        "            \n",
        "    return(SelectedPredictors)"
      ],
      "execution_count": null,
      "outputs": []
    },
    {
      "cell_type": "code",
      "metadata": {
        "colab": {
          "base_uri": "https://localhost:8080/"
        },
        "id": "It3OHvo7zsw9",
        "outputId": "cf4b8d2f-f16f-469e-881d-140905927080"
      },
      "source": [
        "CategoricalVariables=[ 'Sex', 'Job', 'Housing', 'Saving accounts', 'Checking account','Credit amount', 'Duration', 'Purpose','Age']\n",
        "\n",
        "# Calling the function\n",
        "Chisq(inpData=df, \n",
        "              TargetVariable='class',\n",
        "              CategoricalVariablesList= CategoricalVariables)"
      ],
      "execution_count": null,
      "outputs": [
        {
          "output_type": "stream",
          "text": [
            "Age is correlated with class | P-Value: 1.2829678647038004e-14\n",
            "Sex is correlated with class | P-Value: 2.3880165043218323e-11\n",
            "Job is correlated with class | P-Value: 4.650046482074868e-17\n",
            "Housing is correlated with class | P-Value: 1.5849340447438676e-43\n",
            "Saving accounts is correlated with class | P-Value: 5.166746587812822e-49\n",
            "Checking account is correlated with class | P-Value: 2.825355595595161e-20\n",
            "Credit amount is correlated with class | P-Value: 2.5975706051945845e-26\n",
            "Duration is correlated with class | P-Value: 4.3020460817409787e-26\n",
            "Purpose is correlated with class | P-Value: 2.577981648264334e-21\n"
          ],
          "name": "stdout"
        },
        {
          "output_type": "execute_result",
          "data": {
            "text/plain": [
              "['Age',\n",
              " 'Sex',\n",
              " 'Job',\n",
              " 'Housing',\n",
              " 'Saving accounts',\n",
              " 'Checking account',\n",
              " 'Credit amount',\n",
              " 'Duration',\n",
              " 'Purpose']"
            ]
          },
          "metadata": {
            "tags": []
          },
          "execution_count": 87
        }
      ]
    },
    {
      "cell_type": "code",
      "metadata": {
        "colab": {
          "base_uri": "https://localhost:8080/"
        },
        "id": "td4sHu_brANc",
        "outputId": "07e6ca6c-3640-4c4c-a13f-3c35b5868b72"
      },
      "source": [
        "df.columns"
      ],
      "execution_count": null,
      "outputs": [
        {
          "output_type": "execute_result",
          "data": {
            "text/plain": [
              "Index(['Age', 'Sex', 'Job', 'Housing', 'Saving accounts', 'Checking account',\n",
              "       'Credit amount', 'Duration', 'Purpose', 'class', 'pred_scores'],\n",
              "      dtype='object')"
            ]
          },
          "metadata": {
            "tags": []
          },
          "execution_count": 268
        }
      ]
    },
    {
      "cell_type": "markdown",
      "metadata": {
        "id": "u0rPWHIcls6n"
      },
      "source": [
        "Data-preprocessing and manipulation\n",
        "\n",
        "Assigning point based on attributes\n"
      ]
    },
    {
      "cell_type": "code",
      "metadata": {
        "id": "jMLspk_tEnT_"
      },
      "source": [
        "df['Sex'] = np.where((df.Sex == 'male'),3,df.Sex)"
      ],
      "execution_count": null,
      "outputs": []
    },
    {
      "cell_type": "code",
      "metadata": {
        "id": "FzBHRjToF8fB"
      },
      "source": [
        "df['Sex'] = np.where((df.Sex == 'female'),2,df.Sex)"
      ],
      "execution_count": null,
      "outputs": []
    },
    {
      "cell_type": "code",
      "metadata": {
        "id": "DOqe0BbtH7K0"
      },
      "source": [
        "df['Job'].mask(df['Job'] == 3, 10, inplace=True)"
      ],
      "execution_count": null,
      "outputs": []
    },
    {
      "cell_type": "code",
      "metadata": {
        "id": "TMF2w0u2J5gF"
      },
      "source": [
        "df['Job'].mask(df['Job'] == 2, 7, inplace=True)"
      ],
      "execution_count": null,
      "outputs": []
    },
    {
      "cell_type": "code",
      "metadata": {
        "id": "fgNK2uVYJ6FB"
      },
      "source": [
        "df['Job'].mask(df['Job'] == 1, 5, inplace=True)"
      ],
      "execution_count": null,
      "outputs": []
    },
    {
      "cell_type": "code",
      "metadata": {
        "id": "yCDD-2x-J6mD"
      },
      "source": [
        "df['Job'].mask(df['Job'] == 0, 0, inplace=True)"
      ],
      "execution_count": null,
      "outputs": []
    },
    {
      "cell_type": "code",
      "metadata": {
        "id": "tLAS4MesKQuu"
      },
      "source": [
        "df['Housing'].mask(df['Housing'] == 'own', 10, inplace=True)"
      ],
      "execution_count": null,
      "outputs": []
    },
    {
      "cell_type": "code",
      "metadata": {
        "id": "hd5u4sDTKR_B"
      },
      "source": [
        "df['Housing'].mask(df['Housing'] == 'free', 7, inplace=True)"
      ],
      "execution_count": null,
      "outputs": []
    },
    {
      "cell_type": "code",
      "metadata": {
        "id": "lo23uhZPKS-p"
      },
      "source": [
        "df['Housing'].mask(df['Housing'] == 'rent', 5, inplace=True)"
      ],
      "execution_count": null,
      "outputs": []
    },
    {
      "cell_type": "code",
      "metadata": {
        "id": "03Ol5G3KLqnP"
      },
      "source": [
        "df['Saving accounts'].mask(df['Saving accounts'] == 'little', 4, inplace=True)"
      ],
      "execution_count": null,
      "outputs": []
    },
    {
      "cell_type": "code",
      "metadata": {
        "id": "JsH2KGvSMxg4"
      },
      "source": [
        "df['Saving accounts'].mask(df['Saving accounts'] == 'moderate', 5, inplace=True)"
      ],
      "execution_count": null,
      "outputs": []
    },
    {
      "cell_type": "code",
      "metadata": {
        "id": "TrFZHRkFNHMC"
      },
      "source": [
        "df['Saving accounts'].mask(df['Saving accounts'] == 'rich', 7, inplace=True)"
      ],
      "execution_count": null,
      "outputs": []
    },
    {
      "cell_type": "code",
      "metadata": {
        "id": "qCKdRhOgNPU3"
      },
      "source": [
        "df['Saving accounts'].mask(df['Saving accounts'] == 'quite rich', 10, inplace=True)"
      ],
      "execution_count": null,
      "outputs": []
    },
    {
      "cell_type": "code",
      "metadata": {
        "id": "I_QiI-QbNmaV"
      },
      "source": [
        "df['Checking account'].mask(df['Checking account'] == 'little', 4, inplace=True)"
      ],
      "execution_count": null,
      "outputs": []
    },
    {
      "cell_type": "code",
      "metadata": {
        "id": "Pm6aGreRNnXy"
      },
      "source": [
        "df['Checking account'].mask(df['Checking account'] == 'moderate', 5, inplace=True)"
      ],
      "execution_count": null,
      "outputs": []
    },
    {
      "cell_type": "code",
      "metadata": {
        "id": "RxSLHNqvNt0J"
      },
      "source": [
        "df['Checking account'].mask(df['Checking account'] == 'rich', 7, inplace=True)"
      ],
      "execution_count": null,
      "outputs": []
    },
    {
      "cell_type": "code",
      "metadata": {
        "id": "-eVYmCKRNt7m"
      },
      "source": [
        "df['Checking account'].mask(df['Checking account'] == 'quite rich', 10, inplace=True)"
      ],
      "execution_count": null,
      "outputs": []
    },
    {
      "cell_type": "code",
      "metadata": {
        "id": "mDu8g6fDOqdJ"
      },
      "source": [
        "df.loc[df['Credit amount'] <= 5000, 'Credit amount'] = 20"
      ],
      "execution_count": null,
      "outputs": []
    },
    {
      "cell_type": "code",
      "metadata": {
        "id": "utD_uOwJPxZm"
      },
      "source": [
        "df['Credit amount'] = np.where(df['Credit amount'].between(5000,10000), 15, df['Credit amount'])"
      ],
      "execution_count": null,
      "outputs": []
    },
    {
      "cell_type": "code",
      "metadata": {
        "colab": {
          "background_save": true
        },
        "id": "DPhbaahMRHhR"
      },
      "source": [
        "df.loc[df['Credit amount'] >10000, 'Credit amount'] = 10"
      ],
      "execution_count": null,
      "outputs": []
    },
    {
      "cell_type": "code",
      "metadata": {
        "id": "T7SHMIkERk_k"
      },
      "source": [
        "df.loc[df['Duration'] <=24, 'Duration'] = 15"
      ],
      "execution_count": null,
      "outputs": []
    },
    {
      "cell_type": "code",
      "metadata": {
        "id": "HsmAvtfUR1GZ"
      },
      "source": [
        "df['Duration'] = np.where(df['Duration'].between(24,60), 10, df['Duration'])"
      ],
      "execution_count": null,
      "outputs": []
    },
    {
      "cell_type": "code",
      "metadata": {
        "id": "_HOYQck-SLvW"
      },
      "source": [
        "df.loc[df['Duration'] >=60 , 'Duration'] = 5"
      ],
      "execution_count": null,
      "outputs": []
    },
    {
      "cell_type": "code",
      "metadata": {
        "id": "916SQkxj8EWY"
      },
      "source": [
        "df['Purpose']=df['Purpose'].replace(to_replace =\"business\",\n",
        "                 value =10)"
      ],
      "execution_count": null,
      "outputs": []
    },
    {
      "cell_type": "code",
      "metadata": {
        "colab": {
          "base_uri": "https://localhost:8080/"
        },
        "id": "9V6Tf39qXMzX",
        "outputId": "f92704fb-e5d3-489d-b3b3-68521a32119e"
      },
      "source": [
        "df['Purpose'].value_counts()"
      ],
      "execution_count": null,
      "outputs": [
        {
          "output_type": "execute_result",
          "data": {
            "text/plain": [
              "car                    337\n",
              "radio/TV               280\n",
              "furniture/equipment    181\n",
              "10                      97\n",
              "education               59\n",
              "repairs                 22\n",
              "domestic appliances     12\n",
              "vacation/others         12\n",
              "Name: Purpose, dtype: int64"
            ]
          },
          "metadata": {
            "tags": []
          },
          "execution_count": 29
        }
      ]
    },
    {
      "cell_type": "code",
      "metadata": {
        "id": "AXqmTHdtXEeo"
      },
      "source": [
        "df['Purpose']=df['Purpose'].replace(to_replace =\"education\",\n",
        "                 value =7)"
      ],
      "execution_count": null,
      "outputs": []
    },
    {
      "cell_type": "code",
      "metadata": {
        "id": "p0tPg5YIXoxC"
      },
      "source": [
        "df['Purpose']=df['Purpose'].replace(to_replace =\"car\",\n",
        "                 value =5)"
      ],
      "execution_count": null,
      "outputs": []
    },
    {
      "cell_type": "code",
      "metadata": {
        "id": "SevG96jM4vzo"
      },
      "source": [
        "df['Purpose']=df['Purpose'].replace(to_replace =\"radio/TV\",\n",
        "                 value =5)"
      ],
      "execution_count": null,
      "outputs": []
    },
    {
      "cell_type": "code",
      "metadata": {
        "id": "KfQF64oq43XK"
      },
      "source": [
        "df['Purpose']=df['Purpose'].replace(to_replace =\"repairs\",\n",
        "                 value =5)"
      ],
      "execution_count": null,
      "outputs": []
    },
    {
      "cell_type": "code",
      "metadata": {
        "id": "biqxMcAI493N"
      },
      "source": [
        "df['Purpose']=df['Purpose'].replace(to_replace =\"domestic appliances\",\n",
        "                 value =5)"
      ],
      "execution_count": null,
      "outputs": []
    },
    {
      "cell_type": "code",
      "metadata": {
        "id": "z5-ePXLH5Eic"
      },
      "source": [
        "df['Purpose']=df['Purpose'].replace(to_replace =\"vacation/others\",\n",
        "                 value =5)"
      ],
      "execution_count": null,
      "outputs": []
    },
    {
      "cell_type": "code",
      "metadata": {
        "colab": {
          "base_uri": "https://localhost:8080/",
          "height": 204
        },
        "id": "Jss9MyXNcykI",
        "outputId": "7b167e1a-9cc9-4e0b-d274-0e62e670a2c6"
      },
      "source": [
        "df.head()"
      ],
      "execution_count": null,
      "outputs": [
        {
          "output_type": "execute_result",
          "data": {
            "text/html": [
              "<div>\n",
              "<style scoped>\n",
              "    .dataframe tbody tr th:only-of-type {\n",
              "        vertical-align: middle;\n",
              "    }\n",
              "\n",
              "    .dataframe tbody tr th {\n",
              "        vertical-align: top;\n",
              "    }\n",
              "\n",
              "    .dataframe thead th {\n",
              "        text-align: right;\n",
              "    }\n",
              "</style>\n",
              "<table border=\"1\" class=\"dataframe\">\n",
              "  <thead>\n",
              "    <tr style=\"text-align: right;\">\n",
              "      <th></th>\n",
              "      <th>Unnamed: 0</th>\n",
              "      <th>Age</th>\n",
              "      <th>Sex</th>\n",
              "      <th>Job</th>\n",
              "      <th>Housing</th>\n",
              "      <th>Saving accounts</th>\n",
              "      <th>Checking account</th>\n",
              "      <th>Credit amount</th>\n",
              "      <th>Duration</th>\n",
              "      <th>Purpose</th>\n",
              "    </tr>\n",
              "  </thead>\n",
              "  <tbody>\n",
              "    <tr>\n",
              "      <th>0</th>\n",
              "      <td>0</td>\n",
              "      <td>67</td>\n",
              "      <td>3</td>\n",
              "      <td>7</td>\n",
              "      <td>10</td>\n",
              "      <td>4</td>\n",
              "      <td>4</td>\n",
              "      <td>20</td>\n",
              "      <td>15</td>\n",
              "      <td>5</td>\n",
              "    </tr>\n",
              "    <tr>\n",
              "      <th>1</th>\n",
              "      <td>1</td>\n",
              "      <td>22</td>\n",
              "      <td>2</td>\n",
              "      <td>7</td>\n",
              "      <td>10</td>\n",
              "      <td>4</td>\n",
              "      <td>5</td>\n",
              "      <td>15</td>\n",
              "      <td>10</td>\n",
              "      <td>5</td>\n",
              "    </tr>\n",
              "    <tr>\n",
              "      <th>2</th>\n",
              "      <td>2</td>\n",
              "      <td>49</td>\n",
              "      <td>3</td>\n",
              "      <td>5</td>\n",
              "      <td>10</td>\n",
              "      <td>4</td>\n",
              "      <td>4</td>\n",
              "      <td>20</td>\n",
              "      <td>15</td>\n",
              "      <td>7</td>\n",
              "    </tr>\n",
              "    <tr>\n",
              "      <th>3</th>\n",
              "      <td>3</td>\n",
              "      <td>45</td>\n",
              "      <td>3</td>\n",
              "      <td>7</td>\n",
              "      <td>7</td>\n",
              "      <td>4</td>\n",
              "      <td>4</td>\n",
              "      <td>15</td>\n",
              "      <td>10</td>\n",
              "      <td>furniture/equipment</td>\n",
              "    </tr>\n",
              "    <tr>\n",
              "      <th>4</th>\n",
              "      <td>4</td>\n",
              "      <td>53</td>\n",
              "      <td>3</td>\n",
              "      <td>7</td>\n",
              "      <td>7</td>\n",
              "      <td>4</td>\n",
              "      <td>4</td>\n",
              "      <td>20</td>\n",
              "      <td>15</td>\n",
              "      <td>5</td>\n",
              "    </tr>\n",
              "  </tbody>\n",
              "</table>\n",
              "</div>"
            ],
            "text/plain": [
              "   Unnamed: 0  Age Sex  ...  Credit amount Duration              Purpose\n",
              "0           0   67   3  ...             20       15                    5\n",
              "1           1   22   2  ...             15       10                    5\n",
              "2           2   49   3  ...             20       15                    7\n",
              "3           3   45   3  ...             15       10  furniture/equipment\n",
              "4           4   53   3  ...             20       15                    5\n",
              "\n",
              "[5 rows x 10 columns]"
            ]
          },
          "metadata": {
            "tags": []
          },
          "execution_count": 38
        }
      ]
    },
    {
      "cell_type": "code",
      "metadata": {
        "colab": {
          "base_uri": "https://localhost:8080/"
        },
        "id": "5AgmWyVC9ZSt",
        "outputId": "08b659a6-81bc-4f08-dec1-93d0de0210ce"
      },
      "source": [
        "df['Checking account'].isnull().sum()"
      ],
      "execution_count": null,
      "outputs": [
        {
          "output_type": "execute_result",
          "data": {
            "text/plain": [
              "0"
            ]
          },
          "metadata": {
            "tags": []
          },
          "execution_count": 184
        }
      ]
    },
    {
      "cell_type": "code",
      "metadata": {
        "id": "IuyfcKQmBw5u"
      },
      "source": [
        "\n",
        "df=df.drop(columns=[str(df.columns[0])])"
      ],
      "execution_count": null,
      "outputs": []
    },
    {
      "cell_type": "code",
      "metadata": {
        "id": "OnLqlYyOJ_XB"
      },
      "source": [
        "import pandas as pd\n",
        "df_rated=pd.read_csv('/content/drive/MyDrive/mncorp/mncorp_rated - mncorp_rated.csv')\n",
        "\n"
      ],
      "execution_count": null,
      "outputs": []
    },
    {
      "cell_type": "code",
      "metadata": {
        "colab": {
          "base_uri": "https://localhost:8080/",
          "height": 221
        },
        "id": "K27nS5-9j8V2",
        "outputId": "f4b6e097-40fb-4a04-fdd5-fb69b0029cd6"
      },
      "source": [
        "df.head()"
      ],
      "execution_count": null,
      "outputs": [
        {
          "output_type": "execute_result",
          "data": {
            "text/html": [
              "<div>\n",
              "<style scoped>\n",
              "    .dataframe tbody tr th:only-of-type {\n",
              "        vertical-align: middle;\n",
              "    }\n",
              "\n",
              "    .dataframe tbody tr th {\n",
              "        vertical-align: top;\n",
              "    }\n",
              "\n",
              "    .dataframe thead th {\n",
              "        text-align: right;\n",
              "    }\n",
              "</style>\n",
              "<table border=\"1\" class=\"dataframe\">\n",
              "  <thead>\n",
              "    <tr style=\"text-align: right;\">\n",
              "      <th></th>\n",
              "      <th>Age</th>\n",
              "      <th>Sex</th>\n",
              "      <th>Job</th>\n",
              "      <th>Housing</th>\n",
              "      <th>Saving accounts</th>\n",
              "      <th>Checking account</th>\n",
              "      <th>Credit amount</th>\n",
              "      <th>Duration</th>\n",
              "      <th>Purpose</th>\n",
              "      <th>cred_scores</th>\n",
              "      <th>class</th>\n",
              "    </tr>\n",
              "  </thead>\n",
              "  <tbody>\n",
              "    <tr>\n",
              "      <th>0</th>\n",
              "      <td>67</td>\n",
              "      <td>male</td>\n",
              "      <td>2</td>\n",
              "      <td>own</td>\n",
              "      <td>little</td>\n",
              "      <td>little</td>\n",
              "      <td>1169</td>\n",
              "      <td>6</td>\n",
              "      <td>radio/TV</td>\n",
              "      <td>68</td>\n",
              "      <td>0</td>\n",
              "    </tr>\n",
              "    <tr>\n",
              "      <th>1</th>\n",
              "      <td>22</td>\n",
              "      <td>female</td>\n",
              "      <td>2</td>\n",
              "      <td>own</td>\n",
              "      <td>little</td>\n",
              "      <td>moderate</td>\n",
              "      <td>5951</td>\n",
              "      <td>48</td>\n",
              "      <td>radio/TV</td>\n",
              "      <td>58</td>\n",
              "      <td>0</td>\n",
              "    </tr>\n",
              "    <tr>\n",
              "      <th>2</th>\n",
              "      <td>49</td>\n",
              "      <td>male</td>\n",
              "      <td>1</td>\n",
              "      <td>own</td>\n",
              "      <td>little</td>\n",
              "      <td>little</td>\n",
              "      <td>2096</td>\n",
              "      <td>12</td>\n",
              "      <td>education</td>\n",
              "      <td>68</td>\n",
              "      <td>0</td>\n",
              "    </tr>\n",
              "    <tr>\n",
              "      <th>3</th>\n",
              "      <td>45</td>\n",
              "      <td>male</td>\n",
              "      <td>2</td>\n",
              "      <td>free</td>\n",
              "      <td>little</td>\n",
              "      <td>little</td>\n",
              "      <td>7882</td>\n",
              "      <td>42</td>\n",
              "      <td>furniture/equipment</td>\n",
              "      <td>55</td>\n",
              "      <td>0</td>\n",
              "    </tr>\n",
              "    <tr>\n",
              "      <th>4</th>\n",
              "      <td>53</td>\n",
              "      <td>male</td>\n",
              "      <td>2</td>\n",
              "      <td>free</td>\n",
              "      <td>little</td>\n",
              "      <td>little</td>\n",
              "      <td>4870</td>\n",
              "      <td>24</td>\n",
              "      <td>car</td>\n",
              "      <td>65</td>\n",
              "      <td>0</td>\n",
              "    </tr>\n",
              "  </tbody>\n",
              "</table>\n",
              "</div>"
            ],
            "text/plain": [
              "   Age     Sex  Job Housing  ... Duration              Purpose  cred_scores  class\n",
              "0   67    male    2     own  ...        6             radio/TV           68      0\n",
              "1   22  female    2     own  ...       48             radio/TV           58      0\n",
              "2   49    male    1     own  ...       12            education           68      0\n",
              "3   45    male    2    free  ...       42  furniture/equipment           55      0\n",
              "4   53    male    2    free  ...       24                  car           65      0\n",
              "\n",
              "[5 rows x 11 columns]"
            ]
          },
          "metadata": {
            "tags": []
          },
          "execution_count": 78
        }
      ]
    },
    {
      "cell_type": "code",
      "metadata": {
        "colab": {
          "base_uri": "https://localhost:8080/"
        },
        "id": "Es6PCyZMKkei",
        "outputId": "376b872a-f6e5-4f5f-ddf3-4f3ff1c1ee56"
      },
      "source": [
        "df_rated.columns"
      ],
      "execution_count": null,
      "outputs": [
        {
          "output_type": "execute_result",
          "data": {
            "text/plain": [
              "Index(['Sex', 'Job', 'Housing', 'Saving accounts', 'Checking account',\n",
              "       'Credit amount', 'Duration', 'Purpose', 'cred_scores'],\n",
              "      dtype='object')"
            ]
          },
          "metadata": {
            "tags": []
          },
          "execution_count": 16
        }
      ]
    },
    {
      "cell_type": "code",
      "metadata": {
        "id": "Ihn3v4R2KSwO"
      },
      "source": [
        "#reading original data\n",
        "\n",
        "df  = pd.read_csv(r\"/content/drive/MyDrive/mncorp_assignments/data_fs.csv\")"
      ],
      "execution_count": null,
      "outputs": []
    },
    {
      "cell_type": "code",
      "metadata": {
        "id": "xLWWXPqzKJ7T"
      },
      "source": [
        "df['cred_scores']= df_rated['cred_scores']"
      ],
      "execution_count": null,
      "outputs": []
    },
    {
      "cell_type": "code",
      "metadata": {
        "id": "ZTpaYzULMoYj"
      },
      "source": [
        "df['Saving accounts'].fillna(df['Saving accounts'].mode()[0], inplace=True)\n"
      ],
      "execution_count": null,
      "outputs": []
    },
    {
      "cell_type": "code",
      "metadata": {
        "id": "Ksh4ykyHMse5"
      },
      "source": [
        "df['Checking account'].fillna(df['Checking account'].mode()[0], inplace=True)\n"
      ],
      "execution_count": null,
      "outputs": []
    },
    {
      "cell_type": "code",
      "metadata": {
        "id": "QMRs82tCPIMX"
      },
      "source": [
        "conds = [df[\"cred_scores\"] >68  , df[\"cred_scores\"] <= 68]\n",
        "choices = [1,0]\n",
        "df[\"class\"]=np.select(conds, choices)\n"
      ],
      "execution_count": null,
      "outputs": []
    },
    {
      "cell_type": "code",
      "metadata": {
        "id": "SewkRUT0kW0A"
      },
      "source": [
        "del df[df.columns[0]]"
      ],
      "execution_count": null,
      "outputs": []
    },
    {
      "cell_type": "code",
      "metadata": {
        "colab": {
          "base_uri": "https://localhost:8080/"
        },
        "id": "h_YlEcPqjrdZ",
        "outputId": "1ba9435f-f96c-4edc-f23b-bca3293ffbc1"
      },
      "source": [
        "df.columns"
      ],
      "execution_count": null,
      "outputs": [
        {
          "output_type": "execute_result",
          "data": {
            "text/plain": [
              "Index(['Age', 'Sex', 'Job', 'Housing', 'Saving accounts', 'Checking account',\n",
              "       'Credit amount', 'Duration', 'Purpose', 'cred_scores', 'class'],\n",
              "      dtype='object')"
            ]
          },
          "metadata": {
            "tags": []
          },
          "execution_count": 76
        }
      ]
    },
    {
      "cell_type": "code",
      "metadata": {
        "id": "ou4gimu5L6al"
      },
      "source": [
        "#df.to_csv(\"/content/drive/MyDrive/mncorp/joint_data.csv\")"
      ],
      "execution_count": null,
      "outputs": []
    },
    {
      "cell_type": "markdown",
      "metadata": {
        "id": "wT9XdklCkbhO"
      },
      "source": [
        "Now apply Ml algorithm and concepts"
      ]
    },
    {
      "cell_type": "markdown",
      "metadata": {
        "id": "GdCL58Qhk0Ph"
      },
      "source": [
        "balancing the class\n"
      ]
    },
    {
      "cell_type": "code",
      "metadata": {
        "colab": {
          "base_uri": "https://localhost:8080/"
        },
        "id": "u6hy-kllRhhT",
        "outputId": "d4bc8acd-4ea4-4107-c049-e2c0b89f2cbd"
      },
      "source": [
        "df[\"class\"].value_counts()"
      ],
      "execution_count": null,
      "outputs": [
        {
          "output_type": "execute_result",
          "data": {
            "text/plain": [
              "0    759\n",
              "1    241\n",
              "Name: class, dtype: int64"
            ]
          },
          "metadata": {
            "tags": []
          },
          "execution_count": 77
        }
      ]
    },
    {
      "cell_type": "code",
      "metadata": {
        "colab": {
          "base_uri": "https://localhost:8080/"
        },
        "id": "4xrwn6p4SaW5",
        "outputId": "4706dab3-0535-4d24-b9e0-520b3f3acb8d"
      },
      "source": [
        "from sklearn.utils import resample\n",
        "\n",
        "# Separate majority and minority classes\n",
        "df_majority = df[df[\"class\"]==0]\n",
        "df_minority = df[df[\"class\"]==1]\n",
        "\n",
        "# Upsample minority class\n",
        "df_minority_upsampled = resample(df_minority, \n",
        "                                 replace=True,     # sample with replacement\n",
        "                                 n_samples=759,    # to match majority class\n",
        "                                 random_state=123) # reproducible results\n",
        "\n",
        "\n",
        "\n",
        "# Combine majority class with upsampled minority class\n",
        "df_upsampled = pd.concat([df_majority, df_minority_upsampled])\n",
        "df=df_upsampled\n",
        "df[\"class\"].value_counts()"
      ],
      "execution_count": null,
      "outputs": [
        {
          "output_type": "execute_result",
          "data": {
            "text/plain": [
              "1    759\n",
              "0    759\n",
              "Name: class, dtype: int64"
            ]
          },
          "metadata": {
            "tags": []
          },
          "execution_count": 80
        }
      ]
    },
    {
      "cell_type": "markdown",
      "metadata": {
        "id": "ugnF08lulFXV"
      },
      "source": [
        "Assumption of class credit type\n",
        "1-good credits\n",
        "0-bad_credits"
      ]
    },
    {
      "cell_type": "code",
      "metadata": {
        "id": "NjQJwfQPPrro"
      },
      "source": [
        "df.drop(columns={\"cred_scores\"},axis=1,inplace=True)"
      ],
      "execution_count": null,
      "outputs": []
    },
    {
      "cell_type": "code",
      "metadata": {
        "colab": {
          "base_uri": "https://localhost:8080/"
        },
        "id": "DElqhVTL1Azp",
        "outputId": "612765cd-f5d0-48ab-b286-a0e8ec278cce"
      },
      "source": [
        "from sklearn.linear_model import LogisticRegression\n",
        "from sklearn.model_selection import train_test_split\n",
        "\n",
        "\n",
        "cat_features = ['Sex','Housing', 'Saving accounts', 'Checking account','Purpose']\n",
        "num_features=['Age', 'Job', 'Credit amount', 'Duration','class']\n",
        "for variable in cat_features:\n",
        "    dummies = pd.get_dummies(df[cat_features])\n",
        "    df1= pd.concat([df[num_features], dummies],axis=1)\n",
        "\n",
        "\n",
        "\n",
        "target_class= df1['class']          \n",
        "df2=df1.drop(['class'],axis=1)\n",
        "x_train,x_test,y_train,y_test = train_test_split(df2,target_class,test_size=0.20,random_state = 30)\n",
        "\n",
        "# TRANSFORMATION\n",
        "from sklearn.preprocessing import MinMaxScaler\n",
        "\n",
        "scaler = MinMaxScaler(feature_range = (0,1))\n",
        "\n",
        "scaler.fit(x_train)\n",
        "x_train = scaler.transform(x_train)\n",
        "x_test = scaler.transform(x_test)\n",
        "\n",
        "\n",
        "# define model\n",
        "logreg = LogisticRegression()\n",
        "# fit the model with data\n",
        "logreg.fit(x_train,y_train)\n",
        "\n"
      ],
      "execution_count": null,
      "outputs": [
        {
          "output_type": "execute_result",
          "data": {
            "text/plain": [
              "LogisticRegression(C=1.0, class_weight=None, dual=False, fit_intercept=True,\n",
              "                   intercept_scaling=1, l1_ratio=None, max_iter=100,\n",
              "                   multi_class='auto', n_jobs=None, penalty='l2',\n",
              "                   random_state=None, solver='lbfgs', tol=0.0001, verbose=0,\n",
              "                   warm_start=False)"
            ]
          },
          "metadata": {
            "tags": []
          },
          "execution_count": 98
        }
      ]
    },
    {
      "cell_type": "code",
      "metadata": {
        "id": "qKURpW4CBSR4"
      },
      "source": [
        "# Saving this final data for reference during deployment\n",
        "df1.to_pickle('df1.pkl')"
      ],
      "execution_count": null,
      "outputs": []
    },
    {
      "cell_type": "code",
      "metadata": {
        "id": "D-M2tCXMA3nJ"
      },
      "source": [
        ""
      ],
      "execution_count": null,
      "outputs": []
    },
    {
      "cell_type": "code",
      "metadata": {
        "id": "Ayx4j4h_1dQa"
      },
      "source": [
        "\n",
        "#finding probabilies of being a defaulter\n",
        "probs = logreg.predict_proba(x_test)  \n",
        "\n"
      ],
      "execution_count": null,
      "outputs": []
    },
    {
      "cell_type": "code",
      "metadata": {
        "id": "BFRa5c6cWXGk"
      },
      "source": [
        "probs=pd.DataFrame(probs)\n",
        "prob1=probs.iloc[:,1]# taking probability for good credits\n",
        "\n",
        "probs=pd.DataFrame(prob1)\n",
        "\n",
        "#Keep Probabilities of the positive class only.\n",
        "probs.columns = ['p_d'] #renaming column"
      ],
      "execution_count": null,
      "outputs": []
    },
    {
      "cell_type": "markdown",
      "metadata": {
        "id": "mMP2yALbftzP"
      },
      "source": [
        "appending pred scores to original data"
      ]
    },
    {
      "cell_type": "code",
      "metadata": {
        "id": "MLiQFxq1e9wt"
      },
      "source": [
        "df['pred_scores']= probs['p_d']"
      ],
      "execution_count": null,
      "outputs": []
    },
    {
      "cell_type": "code",
      "metadata": {
        "id": "yd-o13GT7xcA"
      },
      "source": [
        "#df.to_csv(\"/content/drive/MyDrive/mncorp/scored_data.csv\")\n"
      ],
      "execution_count": null,
      "outputs": []
    },
    {
      "cell_type": "code",
      "metadata": {
        "colab": {
          "base_uri": "https://localhost:8080/",
          "height": 419
        },
        "id": "ke6iWd6CXKoW",
        "outputId": "69a00e9b-9fd9-419d-a4cf-bd1ddd53280d"
      },
      "source": [
        "probs"
      ],
      "execution_count": null,
      "outputs": [
        {
          "output_type": "execute_result",
          "data": {
            "text/html": [
              "<div>\n",
              "<style scoped>\n",
              "    .dataframe tbody tr th:only-of-type {\n",
              "        vertical-align: middle;\n",
              "    }\n",
              "\n",
              "    .dataframe tbody tr th {\n",
              "        vertical-align: top;\n",
              "    }\n",
              "\n",
              "    .dataframe thead th {\n",
              "        text-align: right;\n",
              "    }\n",
              "</style>\n",
              "<table border=\"1\" class=\"dataframe\">\n",
              "  <thead>\n",
              "    <tr style=\"text-align: right;\">\n",
              "      <th></th>\n",
              "      <th>p_d</th>\n",
              "    </tr>\n",
              "  </thead>\n",
              "  <tbody>\n",
              "    <tr>\n",
              "      <th>0</th>\n",
              "      <td>0.992690</td>\n",
              "    </tr>\n",
              "    <tr>\n",
              "      <th>1</th>\n",
              "      <td>0.532496</td>\n",
              "    </tr>\n",
              "    <tr>\n",
              "      <th>2</th>\n",
              "      <td>0.895028</td>\n",
              "    </tr>\n",
              "    <tr>\n",
              "      <th>3</th>\n",
              "      <td>0.993368</td>\n",
              "    </tr>\n",
              "    <tr>\n",
              "      <th>4</th>\n",
              "      <td>0.009796</td>\n",
              "    </tr>\n",
              "    <tr>\n",
              "      <th>...</th>\n",
              "      <td>...</td>\n",
              "    </tr>\n",
              "    <tr>\n",
              "      <th>299</th>\n",
              "      <td>0.337254</td>\n",
              "    </tr>\n",
              "    <tr>\n",
              "      <th>300</th>\n",
              "      <td>0.999473</td>\n",
              "    </tr>\n",
              "    <tr>\n",
              "      <th>301</th>\n",
              "      <td>0.930307</td>\n",
              "    </tr>\n",
              "    <tr>\n",
              "      <th>302</th>\n",
              "      <td>0.749336</td>\n",
              "    </tr>\n",
              "    <tr>\n",
              "      <th>303</th>\n",
              "      <td>0.060573</td>\n",
              "    </tr>\n",
              "  </tbody>\n",
              "</table>\n",
              "<p>304 rows × 1 columns</p>\n",
              "</div>"
            ],
            "text/plain": [
              "          p_d\n",
              "0    0.992690\n",
              "1    0.532496\n",
              "2    0.895028\n",
              "3    0.993368\n",
              "4    0.009796\n",
              "..        ...\n",
              "299  0.337254\n",
              "300  0.999473\n",
              "301  0.930307\n",
              "302  0.749336\n",
              "303  0.060573\n",
              "\n",
              "[304 rows x 1 columns]"
            ]
          },
          "metadata": {
            "tags": []
          },
          "execution_count": 206
        }
      ]
    },
    {
      "cell_type": "code",
      "metadata": {
        "id": "1icOzYgJXF55"
      },
      "source": [
        "y_pred = probs['p_d'].apply(lambda x: 1 if x > 0.60 else 0)\n"
      ],
      "execution_count": null,
      "outputs": []
    },
    {
      "cell_type": "code",
      "metadata": {
        "colab": {
          "base_uri": "https://localhost:8080/"
        },
        "id": "TmR6PS828LEE",
        "outputId": "005d10af-3af4-407d-89f9-1d62ec68ec89"
      },
      "source": [
        "y_test"
      ],
      "execution_count": null,
      "outputs": [
        {
          "output_type": "execute_result",
          "data": {
            "text/plain": [
              "81     1\n",
              "404    1\n",
              "790    1\n",
              "502    1\n",
              "170    0\n",
              "      ..\n",
              "894    0\n",
              "506    1\n",
              "970    1\n",
              "555    1\n",
              "301    0\n",
              "Name: class, Length: 304, dtype: int64"
            ]
          },
          "metadata": {
            "tags": []
          },
          "execution_count": 106
        }
      ]
    },
    {
      "cell_type": "code",
      "metadata": {
        "colab": {
          "base_uri": "https://localhost:8080/"
        },
        "id": "sVYuJ5cDXpLo",
        "outputId": "ba280ce6-aff0-4d91-854e-ab8dd41208ba"
      },
      "source": [
        "y_pred.value_counts()"
      ],
      "execution_count": null,
      "outputs": [
        {
          "output_type": "execute_result",
          "data": {
            "text/plain": [
              "0    156\n",
              "1    148\n",
              "Name: p_d, dtype: int64"
            ]
          },
          "metadata": {
            "tags": []
          },
          "execution_count": 105
        }
      ]
    },
    {
      "cell_type": "code",
      "metadata": {
        "colab": {
          "base_uri": "https://localhost:8080/"
        },
        "id": "AIT1OplKXwBm",
        "outputId": "24418ba1-c973-4098-8757-13f3195a9774"
      },
      "source": [
        "# actual vs pred:\n",
        "#-- actual:\n",
        "y_test.value_counts()"
      ],
      "execution_count": null,
      "outputs": [
        {
          "output_type": "execute_result",
          "data": {
            "text/plain": [
              "1    154\n",
              "0    150\n",
              "Name: class, dtype: int64"
            ]
          },
          "metadata": {
            "tags": []
          },
          "execution_count": 209
        }
      ]
    },
    {
      "cell_type": "code",
      "metadata": {
        "colab": {
          "base_uri": "https://localhost:8080/"
        },
        "id": "ZlJ7u1JdYP65",
        "outputId": "03bc92f6-be0f-40a2-e11e-e17070302cfa"
      },
      "source": [
        "from sklearn import metrics\n",
        "cnf_matrix = metrics.confusion_matrix(y_test, y_pred)\n",
        "cnf_matrix"
      ],
      "execution_count": null,
      "outputs": [
        {
          "output_type": "execute_result",
          "data": {
            "text/plain": [
              "array([[141,   9],\n",
              "       [ 15, 139]])"
            ]
          },
          "metadata": {
            "tags": []
          },
          "execution_count": 220
        }
      ]
    },
    {
      "cell_type": "code",
      "metadata": {
        "colab": {
          "base_uri": "https://localhost:8080/"
        },
        "id": "zPSFC_o2Ymwa",
        "outputId": "aadf4ab4-ccf5-43e6-a71a-fcde1efac1e5"
      },
      "source": [
        "#ROC curve- Compute the AUC Score.\n",
        "from sklearn import metrics\n",
        "auc = metrics.roc_auc_score(y_test, probs)  \n",
        "print('AUC: %.2f' % auc) "
      ],
      "execution_count": null,
      "outputs": [
        {
          "output_type": "stream",
          "text": [
            "AUC: 0.98\n"
          ],
          "name": "stdout"
        }
      ]
    },
    {
      "cell_type": "code",
      "metadata": {
        "id": "Iokgsrc-Y07d"
      },
      "source": [
        "#Get the ROC Curve.\n",
        "fpr, tpr, thresholds = metrics.roc_curve(y_test, probs)"
      ],
      "execution_count": null,
      "outputs": []
    },
    {
      "cell_type": "code",
      "metadata": {
        "colab": {
          "base_uri": "https://localhost:8080/",
          "height": 312
        },
        "id": "P12a1oYuY4l0",
        "outputId": "63c083e7-acbf-44d4-9174-b601d92c3b40"
      },
      "source": [
        "#Plot ROC Curve using our defined function\n",
        "import matplotlib.pyplot as plt\n",
        "\n",
        "plt.title(\" ---ROC---\")\n",
        "plt.xlabel(\"False Positive Rate\")\n",
        "plt.ylabel(\"True Positive Rate\")\n",
        "plt.plot(fpr, tpr) "
      ],
      "execution_count": null,
      "outputs": [
        {
          "output_type": "execute_result",
          "data": {
            "text/plain": [
              "[<matplotlib.lines.Line2D at 0x7f222293f6d0>]"
            ]
          },
          "metadata": {
            "tags": []
          },
          "execution_count": 233
        },
        {
          "output_type": "display_data",
          "data": {
            "image/png": "[encoded data removed]",
            "text/plain": [
              "<Figure size 432x288 with 1 Axes>"
            ]
          },
          "metadata": {
            "tags": [],
            "needs_background": "light"
          }
        }
      ]
    },
    {
      "cell_type": "code",
      "metadata": {
        "colab": {
          "base_uri": "https://localhost:8080/"
        },
        "id": "V17YefFi7Zij",
        "outputId": "417f69ce-110c-4da8-cc78-85f20f9ebdb3"
      },
      "source": [
        "# precision accuracy recall\n",
        "\n",
        "accu=(metrics.accuracy_score(y_test, y_pred))\n",
        "\n",
        "precision=metrics.precision_score(y_test, y_pred)*100\n",
        "recall=metrics.recall_score(y_test, y_pred)*100\n",
        "print(\"Accuracy:\",metrics.accuracy_score(y_test, y_pred))\n",
        "print(\"Precision:\",metrics.precision_score(y_test, y_pred))\n",
        "print(\"Recall:\",metrics.recall_score(y_test, y_pred))"
      ],
      "execution_count": null,
      "outputs": [
        {
          "output_type": "stream",
          "text": [
            "Accuracy: 0.9210526315789473\n",
            "Precision: 0.9391891891891891\n",
            "Recall: 0.9025974025974026\n"
          ],
          "name": "stdout"
        }
      ]
    },
    {
      "cell_type": "code",
      "metadata": {
        "colab": {
          "base_uri": "https://localhost:8080/"
        },
        "id": "9m2oz2K2bWHO",
        "outputId": "4fd82565-2e56-47ad-86b7-0c80b8393b4e"
      },
      "source": [
        "#F1 score\n",
        "\n",
        "data=[precision , recall]\n",
        "import statistics as st\n",
        "F1_cal=st.harmonic_mean(data)\n",
        "print(\"F1_SCORE :\", F1_cal)"
      ],
      "execution_count": null,
      "outputs": [
        {
          "output_type": "stream",
          "text": [
            "F1_SCORE : 92.05298013245033\n"
          ],
          "name": "stdout"
        }
      ]
    },
    {
      "cell_type": "code",
      "metadata": {
        "colab": {
          "base_uri": "https://localhost:8080/"
        },
        "id": "70xLYI7rcR4N",
        "outputId": "e93e0c73-2e18-4112-da35-83716df2640a"
      },
      "source": [
        "# Gini Score--\n",
        "\n",
        "(2*auc)-1"
      ],
      "execution_count": null,
      "outputs": [
        {
          "output_type": "execute_result",
          "data": {
            "text/plain": [
              "0.9561904761904763"
            ]
          },
          "metadata": {
            "tags": []
          },
          "execution_count": 240
        }
      ]
    },
    {
      "cell_type": "code",
      "metadata": {
        "id": "NYZYeX1sAr3j"
      },
      "source": [
        "# Importing cross validation function from sklearn\n",
        "from sklearn.model_selection import cross_val_score\n",
        "\n",
        "# Running 10-Fold Cross validation on a given algorithmd\n",
        "# Passing full data X and y because the K-fold will split the data and automatically choose train/test\n",
        "Accuracy_Values=cross_val_score(LOG, X , y, cv=10, scoring='f1_weighted')\n",
        "print('\\nAccuracy values for 10-fold Cross Validation:\\n',Accuracy_Values)\n",
        "print('\\nFinal Average Accuracy of the model:', round(Accuracy_Values.mean(),2))"
      ],
      "execution_count": null,
      "outputs": []
    },
    {
      "cell_type": "code",
      "metadata": {
        "colab": {
          "base_uri": "https://localhost:8080/"
        },
        "id": "IirMl_eB7jXk",
        "outputId": "c47bbcd0-32f2-4a60-ddbb-6b3d75e667e7"
      },
      "source": [
        "print(logreg)\n",
        "print(metrics.classification_report(y_test, y_pred))"
      ],
      "execution_count": null,
      "outputs": [
        {
          "output_type": "stream",
          "text": [
            "LogisticRegression(C=1.0, class_weight=None, dual=False, fit_intercept=True,\n",
            "                   intercept_scaling=1, l1_ratio=None, max_iter=100,\n",
            "                   multi_class='auto', n_jobs=None, penalty='l2',\n",
            "                   random_state=None, solver='lbfgs', tol=0.0001, verbose=0,\n",
            "                   warm_start=False)\n",
            "              precision    recall  f1-score   support\n",
            "\n",
            "           0       0.90      0.94      0.92       150\n",
            "           1       0.94      0.90      0.92       154\n",
            "\n",
            "    accuracy                           0.92       304\n",
            "   macro avg       0.92      0.92      0.92       304\n",
            "weighted avg       0.92      0.92      0.92       304\n",
            "\n"
          ],
          "name": "stdout"
        }
      ]
    },
    {
      "cell_type": "code",
      "metadata": {
        "id": "yvjiBI7Zbu2x"
      },
      "source": [
        "# SAVING TRAINED MODEL\n",
        "# save the model \n",
        "import pickle\n",
        "filename = 'LOGREG_260521_model.sav'\n",
        "pickle.dump(logreg, open(filename, 'wb'))"
      ],
      "execution_count": null,
      "outputs": []
    },
    {
      "cell_type": "code",
      "metadata": {
        "id": "_btsadUp6a8I"
      },
      "source": [
        "1--good_cred\n",
        "0--bad_cred"
      ],
      "execution_count": null,
      "outputs": []
    },
    {
      "cell_type": "markdown",
      "metadata": {
        "id": "r31F4uqF5Ob7"
      },
      "source": [
        "Checking with decision tree model"
      ]
    },
    {
      "cell_type": "code",
      "metadata": {
        "colab": {
          "base_uri": "https://localhost:8080/",
          "height": 673
        },
        "id": "RPGc5vS75MG7",
        "outputId": "581bc635-3ad2-4cd6-83e0-b4ac5a4aa075"
      },
      "source": [
        "#Decision Trees\n",
        "from sklearn import tree\n",
        "# choose from different tunable hyper parameters\n",
        "# Choose various values of max_depth and criterion for tuning the model\n",
        "clf = tree.DecisionTreeClassifier(max_depth=4,criterion='gini')\n",
        "\n",
        "# Printing all the parameters of Decision Trees\n",
        "print(clf)\n",
        "\n",
        "# Creating the model on Training Data\n",
        "DTree=clf.fit(x_train,y_train)\n",
        "prediction=DTree.predict(x_test)\n",
        "\n",
        "# Measuring accuracy on Testing Data\n",
        "from sklearn import metrics\n",
        "print(metrics.classification_report(y_test, prediction))\n",
        "print(metrics.confusion_matrix(y_test, prediction))\n",
        "\n",
        "# Printing the Overall Accuracy of the model\n",
        "F1_Score=metrics.f1_score(y_test, prediction, average='weighted')\n",
        "print('Accuracy of the model on Testing Sample Data:', round(F1_Score,2))\n",
        "\n",
        "# Plotting the feature importance for Top 10 most important columns\n",
        "%matplotlib inline\n",
        "feature_importances = pd.Series(DTree.feature_importances_, index=df2.columns)\n",
        "feature_importances.nlargest(10).plot(kind='barh')\n",
        "\n",
        "# Importing cross validation function from sklearn\n",
        "from sklearn.model_selection import cross_val_score\n",
        "\n",
        "# Running 10-Fold Cross validation on a given algorithm\n",
        "# Passing full data X and y because the K-fold will split the data and automatically choose train/test\n",
        "Accuracy_Values=cross_val_score(DTree, df2 , target_class, cv=10, scoring='f1_weighted')\n",
        "print('\\nAccuracy values for 10-fold Cross Validation:\\n',Accuracy_Values)\n",
        "print('\\nFinal Average Accuracy of the model:', round(Accuracy_Values.mean(),2))"
      ],
      "execution_count": null,
      "outputs": [
        {
          "output_type": "stream",
          "text": [
            "DecisionTreeClassifier(ccp_alpha=0.0, class_weight=None, criterion='gini',\n",
            "                       max_depth=4, max_features=None, max_leaf_nodes=None,\n",
            "                       min_impurity_decrease=0.0, min_impurity_split=None,\n",
            "                       min_samples_leaf=1, min_samples_split=2,\n",
            "                       min_weight_fraction_leaf=0.0, presort='deprecated',\n",
            "                       random_state=None, splitter='best')\n",
            "              precision    recall  f1-score   support\n",
            "\n",
            "           0       0.83      0.83      0.83       150\n",
            "           1       0.83      0.84      0.83       154\n",
            "\n",
            "    accuracy                           0.83       304\n",
            "   macro avg       0.83      0.83      0.83       304\n",
            "weighted avg       0.83      0.83      0.83       304\n",
            "\n",
            "[[124  26]\n",
            " [ 25 129]]\n",
            "Accuracy of the model on Testing Sample Data: 0.83\n",
            "\n",
            "Accuracy values for 10-fold Cross Validation:\n",
            " [0.84207792 0.87499459 0.80920227 0.77596671 0.86842105 0.82882883\n",
            " 0.8222992  0.8748646  0.87386228 0.84028873]\n",
            "\n",
            "Final Average Accuracy of the model: 0.84\n"
          ],
          "name": "stdout"
        },
        {
          "output_type": "display_data",
          "data": {
            "image/png": "[encoded data removed]",
            "text/plain": [
              "<Figure size 432x288 with 1 Axes>"
            ]
          },
          "metadata": {
            "tags": [],
            "needs_background": "light"
          }
        }
      ]
    },
    {
      "cell_type": "code",
      "metadata": {
        "colab": {
          "base_uri": "https://localhost:8080/"
        },
        "id": "UvUH-r1tLMIW",
        "outputId": "c0d6d670-3e04-4e67-bc85-9ca67d108b73"
      },
      "source": [
        "df2.columns"
      ],
      "execution_count": 119,
      "outputs": [
        {
          "output_type": "execute_result",
          "data": {
            "text/plain": [
              "Index(['Age', 'Job', 'Credit amount', 'Duration', 'Sex_female', 'Sex_male',\n",
              "       'Housing_free', 'Housing_own', 'Housing_rent', 'Saving accounts_little',\n",
              "       'Saving accounts_moderate', 'Saving accounts_quite rich',\n",
              "       'Saving accounts_rich', 'Checking account_little',\n",
              "       'Checking account_moderate', 'Checking account_rich',\n",
              "       'Purpose_business', 'Purpose_car', 'Purpose_domestic appliances',\n",
              "       'Purpose_education', 'Purpose_furniture/equipment', 'Purpose_radio/TV',\n",
              "       'Purpose_repairs', 'Purpose_vacation/others'],\n",
              "      dtype='object')"
            ]
          },
          "metadata": {
            "tags": []
          },
          "execution_count": 119
        }
      ]
    },
    {
      "cell_type": "markdown",
      "metadata": {
        "id": "YqfQBzET960m"
      },
      "source": [
        "Deployment of the Model\n",
        "Based on the above trials we select that algorithm which produces the best average accuracy.\n",
        "\n",
        "between logistic regression and decision trees , DT tress is performing better\n",
        "\n",
        "In order to deploy the model we follow below steps\n",
        "\n",
        "Train the model using 100% data available\n",
        "Save the model as a serialized file which can be stored anywhere\n",
        "Create a python function which gets integrated with front-end(Tableau) to take all the inputs and returns the prediction"
      ]
    },
    {
      "cell_type": "code",
      "metadata": {
        "colab": {
          "base_uri": "https://localhost:8080/"
        },
        "id": "T6m0p-Kp99zG",
        "outputId": "124caf67-c052-489b-c96b-dde298178713"
      },
      "source": [
        "#retraining model with all data\n",
        "x=df2\n",
        "y=target_class\n",
        "\n",
        "#Decision Trees\n",
        "from sklearn import tree\n",
        "# choose from different tunable hyper parameters\n",
        "# Choose various values of max_depth and criterion for tuning the model\n",
        "clf = tree.DecisionTreeClassifier(max_depth=4,criterion='gini')\n",
        "\n",
        "# Printing all the parameters of Decision Trees\n",
        "print(clf)\n",
        "\n",
        "# Creating the model on full data available Data\n",
        "final_DTree=clf.fit(x,y)\n",
        "\n"
      ],
      "execution_count": null,
      "outputs": [
        {
          "output_type": "stream",
          "text": [
            "DecisionTreeClassifier(ccp_alpha=0.0, class_weight=None, criterion='gini',\n",
            "                       max_depth=4, max_features=None, max_leaf_nodes=None,\n",
            "                       min_impurity_decrease=0.0, min_impurity_split=None,\n",
            "                       min_samples_leaf=1, min_samples_split=2,\n",
            "                       min_weight_fraction_leaf=0.0, presort='deprecated',\n",
            "                       random_state=None, splitter='best')\n"
          ],
          "name": "stdout"
        }
      ]
    },
    {
      "cell_type": "code",
      "metadata": {
        "colab": {
          "base_uri": "https://localhost:8080/"
        },
        "id": "91wS08Xn_Had",
        "outputId": "5330a49c-10c2-4a9b-f920-212b92248a2d"
      },
      "source": [
        "# Importing cross validation function from sklearn\n",
        "from sklearn.model_selection import cross_val_score\n",
        "\n",
        "# Running 10-Fold Cross validation on a given algorithm\n",
        "# Passing full data X and y because the K-fold will split the data and automatically choose train/test\n",
        "Accuracy_Values=cross_val_score(final_DTree, x , y, cv=10, scoring='f1_weighted')\n",
        "print('\\nAccuracy values for 10-fold Cross Validation:\\n',Accuracy_Values)\n",
        "print('\\nFinal Average Accuracy of the model:', round(Accuracy_Values.mean(),2))"
      ],
      "execution_count": null,
      "outputs": [
        {
          "output_type": "stream",
          "text": [
            "\n",
            "Accuracy values for 10-fold Cross Validation:\n",
            " [0.84207792 0.87499459 0.80920227 0.77596671 0.86842105 0.82882883\n",
            " 0.8222992  0.8748646  0.87386228 0.84028873]\n",
            "\n",
            "Final Average Accuracy of the model: 0.84\n"
          ],
          "name": "stdout"
        }
      ]
    },
    {
      "cell_type": "code",
      "metadata": {
        "colab": {
          "base_uri": "https://localhost:8080/"
        },
        "id": "Q6H_k84M_Xgl",
        "outputId": "fb4f2db4-d181-4fa9-ae3f-8f8fc2acc8cb"
      },
      "source": [
        "import pickle\n",
        "import os\n",
        "\n",
        "# Saving the Python objects as serialized files can be done using pickle library\n",
        "# Here let us save the Final ZomatoRatingModel\n",
        "with open('final_DTree.pkl', 'wb') as fileWriteStream:\n",
        "    pickle.dump(final_DTree, fileWriteStream)\n",
        "    fileWriteStream.close()\n",
        "    \n",
        "print('pickle file of Predictive Model is saved at Location:',os.getcwd())"
      ],
      "execution_count": null,
      "outputs": [
        {
          "output_type": "stream",
          "text": [
            "pickle file of Predictive Model is saved at Location: /content\n"
          ],
          "name": "stdout"
        }
      ]
    }
  ]
}